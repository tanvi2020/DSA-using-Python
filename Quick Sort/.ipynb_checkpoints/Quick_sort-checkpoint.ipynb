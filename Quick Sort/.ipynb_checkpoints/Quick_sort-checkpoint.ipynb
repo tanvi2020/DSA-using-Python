{
 "cells": [
  {
   "cell_type": "markdown",
   "id": "90ea0c5d",
   "metadata": {},
   "source": [
    "# Pseudocode:"
   ]
  },
  {
   "cell_type": "markdown",
   "id": "343fda05",
   "metadata": {},
   "source": [
    "define a function for doing the Partitioning and Another function QUickSOrt which will use this function.\n",
    "In Partitioning:\n",
    "    The function will accept 3 values as input\n",
    "        -low  ---> the lowest index  ie. 0th index\n",
    "        -high  ----> end index or len(array)-1\n",
    "        -array\n",
    "    Take two pointer i and j such that \n",
    "    i ---> points to low\n",
    "    j ---> points to the end position of the array that is high\n",
    "    pivot ---> Initially lets consider the pivot as the first element of the array . So pivot =array[low]\n",
    "    \n",
    "    We need to verify two cases \n",
    "    1. When i<j \n",
    "    2. When i>j that is i crosses ahead of j\n",
    "    \n",
    "    Condition 1: While i<j:\n",
    "            While i<j, we need to increment i and decrement j but based on what conditition?\n",
    "            i ---> Will increment when the value at i is less than the Pivot. Since i will look for element>pivot\n",
    "            j ---> will decrement when value at j is greater than the Pivot . SInce j will look for elements<pivot\n",
    "            Also we will need to ensure that i runs only till the end of the array or else we will get out of bound index error\n",
    "            So,\n",
    "            while i<j\n",
    "                while i<high and array[i]<=pivot:\n",
    "                    i+=1\n",
    "                while array[j]>=pivot:\n",
    "                    j-=1\n",
    "            For i  ---> high will act as a stopping index \n",
    "            and for j---> the pivot value will act as a stopper\n",
    "            \n",
    "            Once we find the values which are less than and greater than the pivots and i has not crossed j\n",
    "                Swap between ith and jth values \n",
    "                if i<j: # A condtition to check if i has not surpassed j\n",
    "                    array[i],array[j]=array[j],array[i]\n",
    "            \n",
    "            If i crosses j , then this time do not swap between i and j values rather swap between j and Pivot\n",
    "            This staement will be placed outside the entire while i<j loop \n",
    "            since i will become greater than j so this loop will end\n",
    "            array[j],pivot=pivot,array[j]\n",
    "        \n",
    "            Now that we have placed the Pivot value at the right position that is j\n",
    "            our next goal will be to sort the rest of the array\n",
    "            But without shifting or affecting the jth position \n",
    "               \n",
    "            \n",
    "Define QuickSort function :\n",
    "    this function will take 3 input parameters :\n",
    "        -high\n",
    "        -low\n",
    "        -array\n",
    "   \n",
    "    if low < high ensures that the subarray has more than one element; otherwise, there's nothing to sort, so recursion stops.     \n",
    "    Why QuickSort(arr, low, j-1) and QuickSort(arr, j+1, high)?\n",
    "        j is the final position of the pivot after partitioning.\n",
    "        The pivot is now correctly placed, so we don’t need to move it again.\n",
    "        We sort the left side (low to j-1) and the right side (j+1 to high) separately.\n",
    "            \n"
   ]
  },
  {
   "cell_type": "code",
   "execution_count": 3,
   "id": "c014cf4d",
   "metadata": {},
   "outputs": [
    {
     "name": "stdout",
     "output_type": "stream",
     "text": [
      "Sorted array: [1, 5, 7, 8, 9, 10]\n"
     ]
    }
   ],
   "source": [
    "def Partition(arr,low,high):\n",
    "    i=low\n",
    "    j=high\n",
    "    pivot=arr[low] # middle element \n",
    "    while i<j:\n",
    "    \n",
    "        while  i<=high and arr[i]<=pivot:\n",
    "            i+=1\n",
    "        while arr[j]>=pivot:\n",
    "            j-=1\n",
    "        if i<j:\n",
    "            arr[i],arr[j]=arr[j],arr[i]\n",
    "   # if i>j:\n",
    "    arr[low],arr[j]=arr[j],arr[low]\n",
    "    return j\n",
    "\n",
    "def QuickSort(arr,low,high):\n",
    "    if low<high:\n",
    "        j=Partition(arr,low,high)\n",
    "        QuickSort(arr,low,j-1)\n",
    "        QuickSort(arr,j+1,high)\n",
    "\n",
    "arr = [10, 7, 8, 9, 1, 5]\n",
    "n = len(arr)\n",
    "QuickSort(arr, 0, n-1)\n",
    "print(\"Sorted array:\", arr)"
   ]
  },
  {
   "cell_type": "code",
   "execution_count": 1,
   "id": "3caf9625",
   "metadata": {},
   "outputs": [
    {
     "name": "stdout",
     "output_type": "stream",
     "text": [
      "[7, 9, 2, 11, 29, 15, 28]\n"
     ]
    }
   ],
   "source": [
    "def Partition(elements):\n",
    "    pivot_index=0\n",
    "    pivot=elements[pivot_index]\n",
    "    start=pivot_index+1\n",
    "    end=len(elements)-1\n",
    "    while start<end:\n",
    "        while start<end and elements[start]<=pivot:\n",
    "            start+=1\n",
    "        while elements[end]>=pivot:\n",
    "            end-=1\n",
    "        if start<end:\n",
    "            elements[start],elements[end]=elements[end],elements[start]\n",
    "    elements[end],elements[pivot_index]=elements[pivot_index],elements[end]\n",
    "\n",
    "\n",
    "def Quicksort(elements):\n",
    "    Partition(elements)\n",
    "\n",
    "if __name__=='__main__':\n",
    "    elements= [11,9,29,7,2,15,28]\n",
    "    Quicksort(elements)\n",
    "    print(elements)\n",
    "    "
   ]
  },
  {
   "cell_type": "code",
   "execution_count": null,
   "id": "4b2fa630",
   "metadata": {},
   "outputs": [],
   "source": []
  },
  {
   "cell_type": "code",
   "execution_count": null,
   "id": "7e0e4841",
   "metadata": {},
   "outputs": [],
   "source": []
  }
 ],
 "metadata": {
  "kernelspec": {
   "display_name": "Python 3 (ipykernel)",
   "language": "python",
   "name": "python3"
  },
  "language_info": {
   "codemirror_mode": {
    "name": "ipython",
    "version": 3
   },
   "file_extension": ".py",
   "mimetype": "text/x-python",
   "name": "python",
   "nbconvert_exporter": "python",
   "pygments_lexer": "ipython3",
   "version": "3.9.13"
  }
 },
 "nbformat": 4,
 "nbformat_minor": 5
}
