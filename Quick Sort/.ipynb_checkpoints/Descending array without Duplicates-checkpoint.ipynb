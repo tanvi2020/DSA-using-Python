{
 "cells": [
  {
   "cell_type": "markdown",
   "id": "65cf8763",
   "metadata": {},
   "source": [
    "# Descending array without Duplicates"
   ]
  },
  {
   "cell_type": "code",
   "execution_count": 1,
   "id": "d4f858f8",
   "metadata": {},
   "outputs": [
    {
     "name": "stdout",
     "output_type": "stream",
     "text": [
      "[6, 5, 4, 3, 2, 1, 2, 1, 1]\n",
      "[6, 5, 4, 3, 2, 1]\n"
     ]
    }
   ],
   "source": [
    "def Partition(arr,low,high):\n",
    "    i=low\n",
    "    j=high\n",
    "    mid=(low+high)//2\n",
    "    pivot=arr[mid]\n",
    "    while i<=j:\n",
    "        while arr[i]>pivot:\n",
    "            i+=1\n",
    "        while arr[j]<pivot:\n",
    "            j-=1\n",
    "        if i<=j:\n",
    "            arr[i],arr[j]=arr[j],arr[i]\n",
    "            i+=1\n",
    "            j-=1\n",
    "    return i\n",
    "\n",
    "def Quick(arr,low,high):\n",
    "    if low<high:\n",
    "        partition_index=Partition(arr,low,high)\n",
    "        Quick(arr,low,partition_index-1)\n",
    "        Quick(arr,partition_index,high)\n",
    "    return arr\n",
    "def Duplicates(arr):\n",
    "    if not arr:\n",
    "        return []\n",
    "    i=0\n",
    "    for j in range(1,len(arr)-1):\n",
    "        if arr[j]!=arr[i]:\n",
    "            i+=1\n",
    "            arr[i]=arr[j]\n",
    "    return arr[:i+1]\n",
    "\n",
    "arr1=[1,1,2,2,3,4,5,5,6]\n",
    "sorted_arr= Quick(arr1,0,len(arr1)-1)\n",
    "removed_duplicates=Duplicates(sorted_arr)\n",
    "print(sorted_arr)\n",
    "print(removed_duplicates)"
   ]
  },
  {
   "cell_type": "code",
   "execution_count": 2,
   "id": "b2696aec",
   "metadata": {},
   "outputs": [
    {
     "name": "stdout",
     "output_type": "stream",
     "text": [
      "[6, 5, 4, 3, 2, 1, 2, 1, 1]\n",
      "[6, 5, 4, 3, 2, 1]\n"
     ]
    }
   ],
   "source": [
    "# Descending array without Duplicates\n",
    "\n",
    "def Partition(arr,low,high):\n",
    "    i=low\n",
    "    j=high\n",
    "    mid=(low+high)//2\n",
    "    pivot=arr[mid]\n",
    "    while i<=j:\n",
    "        while arr[i]>pivot:\n",
    "            i+=1\n",
    "        while arr[j]<pivot:\n",
    "            j-=1\n",
    "        if i<=j:\n",
    "            arr[i],arr[j]=arr[j],arr[i]\n",
    "            i+=1\n",
    "            j-=1\n",
    "    return i\n",
    "\n",
    "def Quick(arr,low,high):\n",
    "    if low<high:\n",
    "        partition_index=Partition(arr,low,high)\n",
    "        Quick(arr,low,partition_index-1)\n",
    "        Quick(arr,partition_index,high)\n",
    "    return arr\n",
    "def Duplicates(arr):\n",
    "    if not arr:\n",
    "        return []\n",
    "    i=0\n",
    "    for j in range(1,len(arr)-1):\n",
    "        if arr[j]!=arr[i]:\n",
    "            i+=1\n",
    "            arr[i]=arr[j]\n",
    "    return arr[:i+1]\n",
    "\n",
    "arr1=[1,1,2,2,3,4,5,5,6]\n",
    "sorted_arr= Quick(arr1,0,len(arr1)-1)\n",
    "removed_duplicates=Duplicates(sorted_arr)\n",
    "print(sorted_arr)\n",
    "print(removed_duplicates)"
   ]
  },
  {
   "cell_type": "code",
   "execution_count": null,
   "id": "0909168d",
   "metadata": {},
   "outputs": [],
   "source": []
  }
 ],
 "metadata": {
  "kernelspec": {
   "display_name": "Python 3 (ipykernel)",
   "language": "python",
   "name": "python3"
  },
  "language_info": {
   "codemirror_mode": {
    "name": "ipython",
    "version": 3
   },
   "file_extension": ".py",
   "mimetype": "text/x-python",
   "name": "python",
   "nbconvert_exporter": "python",
   "pygments_lexer": "ipython3",
   "version": "3.9.13"
  }
 },
 "nbformat": 4,
 "nbformat_minor": 5
}
