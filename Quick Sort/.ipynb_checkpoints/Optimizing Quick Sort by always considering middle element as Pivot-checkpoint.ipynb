{
 "cells": [
  {
   "cell_type": "markdown",
   "id": "eff0870a",
   "metadata": {},
   "source": [
    "# Optimizing Quick Sort by always considering middle element as Pivot\n"
   ]
  },
  {
   "cell_type": "code",
   "execution_count": 1,
   "id": "c0519ea9",
   "metadata": {},
   "outputs": [
    {
     "name": "stdout",
     "output_type": "stream",
     "text": [
      "[1, 2, 3, 4, 5]\n",
      "[2, 7, 9, 11, 15, 28, 29]\n"
     ]
    }
   ],
   "source": [
    "\n",
    "def Partition(arr,low,high):\n",
    "    mid=(low+high)//2\n",
    "    pivot=arr[mid]\n",
    "    i=low\n",
    "    j=high\n",
    "    while i<=j:\n",
    "        while arr[i]<pivot:\n",
    "            i+=1\n",
    "        while arr[j]>pivot:\n",
    "            j-=1\n",
    "        if i<=j:\n",
    "            arr[i],arr[j]=arr[j],arr[i]\n",
    "            i+=1\n",
    "            j-=1\n",
    "    return i\n",
    "    \n",
    "def QuickSort(arr,low,high):\n",
    "    if low<high:\n",
    "        partition_idx=Partition(arr,low,high)\n",
    "        QuickSort(arr,low,partition_idx-1)\n",
    "        QuickSort(arr,partition_idx,high)\n",
    "   \n",
    "\n",
    "arr1 = [1, 2, 3, 4, 5]\n",
    "arr2 = [11, 9, 29, 7, 2, 15, 28]\n",
    "\n",
    "QuickSort(arr1, 0, len(arr1) - 1)\n",
    "QuickSort(arr2, 0, len(arr2) - 1)\n",
    "\n",
    "print(arr1)  # Output: [1, 2, 3, 4, 5]\n",
    "print(arr2)  # Output: [2, 7, 9, 11, 15, 28, 29] "
   ]
  },
  {
   "cell_type": "code",
   "execution_count": null,
   "id": "1c482977",
   "metadata": {},
   "outputs": [],
   "source": []
  }
 ],
 "metadata": {
  "kernelspec": {
   "display_name": "Python 3 (ipykernel)",
   "language": "python",
   "name": "python3"
  },
  "language_info": {
   "codemirror_mode": {
    "name": "ipython",
    "version": 3
   },
   "file_extension": ".py",
   "mimetype": "text/x-python",
   "name": "python",
   "nbconvert_exporter": "python",
   "pygments_lexer": "ipython3",
   "version": "3.9.13"
  }
 },
 "nbformat": 4,
 "nbformat_minor": 5
}
