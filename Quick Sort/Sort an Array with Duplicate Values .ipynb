{
 "cells": [
  {
   "cell_type": "markdown",
   "id": "927da88a",
   "metadata": {},
   "source": [
    "# Sort an Array with Duplicate Values "
   ]
  },
  {
   "cell_type": "code",
   "execution_count": 1,
   "id": "d1c1303c",
   "metadata": {},
   "outputs": [
    {
     "name": "stdout",
     "output_type": "stream",
     "text": [
      "[1, 1, 2, 2, 4, 7, 9]\n",
      "[1, 2, 4, 7, 9]\n",
      "[2, 2, 7, 9, 9, 11, 15, 15, 28, 29]\n",
      "[2, 7, 9, 11, 15, 28, 29]\n"
     ]
    }
   ],
   "source": [
    "def Partition(arr,low,high):\n",
    "    i=low\n",
    "    j=high\n",
    "    mid=(low+high)//2\n",
    "    pivot=arr[mid]\n",
    "    while i<=j:\n",
    "        while arr[i]<pivot:\n",
    "            i+=1\n",
    "        while arr[j]>pivot:\n",
    "            j-=1\n",
    "        if i<=j:\n",
    "            arr[i],arr[j]=arr[j],arr[i]\n",
    "            i+=1\n",
    "            j-=1\n",
    "    return i # Partition index \n",
    "def Quicksort(arr,low,high):\n",
    "    if low<high:\n",
    "        Partition_index=Partition(arr,low,high)\n",
    "        Quicksort(arr,low,Partition_index-1)\n",
    "        Quicksort(arr,Partition_index,high)\n",
    "    return arr\n",
    "\n",
    "def RemoveDuplicates(arr):\n",
    "    if not arr:\n",
    "        return []\n",
    "    i=0\n",
    "    for j in range(1,len(arr)):\n",
    "        if arr[j]!=arr[i]:\n",
    "            i+=1\n",
    "            arr[i]=arr[j]          \n",
    "    return arr[:i+1]\n",
    "\n",
    "arr = [4,2,2,1,7,1,9]\n",
    "#Quicksort(arr,0,len(arr)-1)\n",
    "sorted_arr = Quicksort(arr, 0, len(arr) - 1)\n",
    "print(sorted_arr) # I am getting sorted array as None\n",
    "unique_sorted_arr = RemoveDuplicates(sorted_arr)\n",
    "print(unique_sorted_arr) # getting unique_sorted_arr as empty\n",
    "\n",
    "arr1 = [11, 9, 29, 7, 2, 15, 28, 9, 2, 15]\n",
    "sorted_arr1 = Quicksort(arr1, 0, len(arr1) - 1)\n",
    "print(sorted_arr1) # I am getting sorted array as None\n",
    "unique_sorted_arr1 = RemoveDuplicates(sorted_arr1)\n",
    "print(unique_sorted_arr1) # getting unique_sorted_arr as empty\n"
   ]
  },
  {
   "cell_type": "code",
   "execution_count": 2,
   "id": "5e85a4a0",
   "metadata": {},
   "outputs": [
    {
     "name": "stdout",
     "output_type": "stream",
     "text": [
      "[1, 1, 2, 2, 3, 3, 4, 4, 5, 5]\n",
      "[2, 7, 9, 11, 15, 28, 29]\n"
     ]
    }
   ],
   "source": [
    "\n",
    "\n",
    "def Partition(arr,low,high):\n",
    "    i=low\n",
    "    j=high\n",
    "    mid=(low+high)//2\n",
    "    pivot=arr[mid]\n",
    "    while  i<=j:\n",
    "        while arr[i]<pivot:\n",
    "            i+=1\n",
    "        while arr[j]>pivot:\n",
    "            j-=1\n",
    "        if i<=j:\n",
    "            arr[i],arr[j]=arr[j],arr[i]\n",
    "            i+=1\n",
    "            j-=1\n",
    "    return i # Partition index \n",
    "def Quicksort(arr,low,high):\n",
    "    if low<high:\n",
    "        Partition_index=Partition(arr,low,high)\n",
    "        Quicksort(arr,low,Partition_index-1)\n",
    "        Quicksort(arr,Partition_index,high)\n",
    "    return arr\n",
    "\n",
    "arr1 = [1,1,2, 2,3, 3,4, 4,5, 5]\n",
    "arr2 = [11, 9, 29, 7, 2, 15, 28]\n",
    "\n",
    "Quicksort(arr1, 0, len(arr1) - 1)\n",
    "Quicksort(arr2, 0, len(arr2) - 1)\n",
    "\n",
    "print(arr1)  # Output: [1, 2, 3, 4, 5]\n",
    "print(arr2)  # Output: [2, 7, 9, 11, 15, 28, 29] "
   ]
  },
  {
   "cell_type": "code",
   "execution_count": null,
   "id": "995a8b2d",
   "metadata": {},
   "outputs": [],
   "source": []
  }
 ],
 "metadata": {
  "kernelspec": {
   "display_name": "Python 3 (ipykernel)",
   "language": "python",
   "name": "python3"
  },
  "language_info": {
   "codemirror_mode": {
    "name": "ipython",
    "version": 3
   },
   "file_extension": ".py",
   "mimetype": "text/x-python",
   "name": "python",
   "nbconvert_exporter": "python",
   "pygments_lexer": "ipython3",
   "version": "3.9.13"
  }
 },
 "nbformat": 4,
 "nbformat_minor": 5
}
