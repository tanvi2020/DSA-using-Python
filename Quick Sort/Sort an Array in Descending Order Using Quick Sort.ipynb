{
 "cells": [
  {
   "cell_type": "markdown",
   "id": "a45a8082",
   "metadata": {},
   "source": [
    "# Sort an Array in Descending Order Using Quick Sort"
   ]
  },
  {
   "cell_type": "code",
   "execution_count": 1,
   "id": "3eacdf9c",
   "metadata": {},
   "outputs": [
    {
     "name": "stdout",
     "output_type": "stream",
     "text": [
      "[29, 28, 15, 11, 9, 7, 2]\n"
     ]
    }
   ],
   "source": [
    "\n",
    "def Partition(arr,low,high):\n",
    "    i=low\n",
    "    j=high\n",
    "    mid=(low+high)//2\n",
    "    pivot=arr[mid]\n",
    "    while i<=j:\n",
    "        while arr[i]>pivot:\n",
    "            i+=1\n",
    "        while arr[j]<pivot:\n",
    "            j-=1\n",
    "        if i<=j:\n",
    "            arr[i],arr[j]=arr[j],arr[i]\n",
    "            i+=1\n",
    "            j-=1\n",
    "    return i\n",
    "def QuickSort(arr,low,high):\n",
    "    if low<high:\n",
    "        partition_index=Partition(arr,low,high)\n",
    "        QuickSort(arr,low,partition_index-1)\n",
    "        QuickSort(arr,partition_index,high)\n",
    "    return arr\n",
    "\n",
    "arr= [11,9,29,7,2,15,28]\n",
    "QuickSort(arr,0,len(arr)-1)\n",
    "print(arr)"
   ]
  },
  {
   "cell_type": "code",
   "execution_count": 2,
   "id": "aed4070c",
   "metadata": {},
   "outputs": [
    {
     "name": "stdout",
     "output_type": "stream",
     "text": [
      "[5, 4, 3, 2, 1]\n"
     ]
    }
   ],
   "source": [
    "a=[1,2,3,4,5]\n",
    "print(a[::-1])"
   ]
  },
  {
   "cell_type": "code",
   "execution_count": 3,
   "id": "0d822f75",
   "metadata": {},
   "outputs": [
    {
     "name": "stdout",
     "output_type": "stream",
     "text": [
      "[29, 28, 15, 11, 9, 7, 2]\n"
     ]
    }
   ],
   "source": [
    "def Partition(arr, low, high):\n",
    "    i = low\n",
    "    j = high\n",
    "    mid = (low + high) // 2\n",
    "    pivot = arr[mid]\n",
    "\n",
    "    while i <= j:\n",
    "        while arr[i] < pivot:  # Change `<` to `>` for descending order\n",
    "            i += 1\n",
    "        while arr[j] > pivot:  # Change `>` to `<` for descending order\n",
    "            j -= 1\n",
    "        if i <= j:\n",
    "            arr[i], arr[j] = arr[j], arr[i]\n",
    "            i += 1\n",
    "            j -= 1\n",
    "    return i\n",
    "\n",
    "def QuickSort(arr, low, high):\n",
    "    if low < high:  # Use `if` instead of `while` for recursion\n",
    "        partition_index = Partition(arr, low, high)\n",
    "        QuickSort(arr, low, partition_index - 1)\n",
    "        QuickSort(arr, partition_index, high)\n",
    "    return arr[::-1]\n",
    "\n",
    "arr = [11, 9, 29, 7, 2, 15, 28]\n",
    "arr = QuickSort(arr, 0, len(arr) - 1)  # Store the result\n",
    "print(arr)  # Output: [29, 28, 15, 11, 9, 7, 2]"
   ]
  }
 ],
 "metadata": {
  "kernelspec": {
   "display_name": "Python 3 (ipykernel)",
   "language": "python",
   "name": "python3"
  },
  "language_info": {
   "codemirror_mode": {
    "name": "ipython",
    "version": 3
   },
   "file_extension": ".py",
   "mimetype": "text/x-python",
   "name": "python",
   "nbconvert_exporter": "python",
   "pygments_lexer": "ipython3",
   "version": "3.9.13"
  }
 },
 "nbformat": 4,
 "nbformat_minor": 5
}
