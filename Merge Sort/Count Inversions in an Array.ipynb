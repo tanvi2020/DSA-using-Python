{
 "cells": [
  {
   "cell_type": "markdown",
   "id": "b1cfef83",
   "metadata": {},
   "source": [
    "# Count Inversions in an Array"
   ]
  },
  {
   "cell_type": "markdown",
   "id": "f8e6c37a",
   "metadata": {},
   "source": [
    "What is an Inversion?\n",
    "- An inversion in an array happens when a larger number appears before a smaller number.\n",
    "\n",
    " Example : \n",
    "- arr = [3, 1, 2]\n",
    "- Inversions: (3,1), (3,2) → Total = 2"
   ]
  },
  {
   "cell_type": "markdown",
   "id": "7b19f902",
   "metadata": {},
   "source": [
    "# Brute Force Logic "
   ]
  },
  {
   "cell_type": "code",
   "execution_count": 1,
   "id": "e780d0f1",
   "metadata": {},
   "outputs": [
    {
     "name": "stdout",
     "output_type": "stream",
     "text": [
      "(3,1)\n",
      "(3,2)\n"
     ]
    },
    {
     "data": {
      "text/plain": [
       "'count= 2'"
      ]
     },
     "execution_count": 1,
     "metadata": {},
     "output_type": "execute_result"
    }
   ],
   "source": [
    "\n",
    "def Inversion(arr):\n",
    "    n=len(arr)\n",
    "    count=0\n",
    "    for i in range(n):\n",
    "        for j in range(i+1,n):\n",
    "            if arr[i]>arr[j]:\n",
    "                print(f\"({arr[i]},{arr[j]})\")\n",
    "                count+=1\n",
    "    return f\"count= {count}\"\n",
    "\n",
    "Inversion([3,1,2])\n"
   ]
  },
  {
   "cell_type": "markdown",
   "id": "aca1a898",
   "metadata": {},
   "source": [
    "# Logic using Merge Sort\n",
    "- Divide the array into two halves (like Merge Sort).\n",
    "- Count inversions in the left half.\n",
    "- Count inversions in the right half.\n",
    "- Count inversions while merging (when a bigger element is before a smaller one)."
   ]
  },
  {
   "cell_type": "code",
   "execution_count": 2,
   "id": "4c4de629",
   "metadata": {},
   "outputs": [
    {
     "name": "stdout",
     "output_type": "stream",
     "text": [
      "2\n"
     ]
    }
   ],
   "source": [
    "def Merge_count(arr,temp,left,mid,right): #Merging Two Sorted Halves and Counting Inversions\n",
    "    i,j,k=left,mid+1,left  # i-> points to left hald , j-> points to right half , k-> for the merged array\n",
    "    count=0 # for inversion count\n",
    "    while i<=mid and j<=right:\n",
    "        if arr[i]<=arr[j]: # If the left value is smaller, no inversion. Just copy it.\n",
    "            temp[k]=arr[i]\n",
    "            i+=1\n",
    "        else:\n",
    "            temp[k]=arr[j] \n",
    "            count+=(mid-i+1) # If right value is smaller,we found (mid-i+1)inversions\n",
    "            j+=1    # Because everything after i in left half is also bigger\n",
    "        k+=1   \n",
    "    # Copy Remaining elements of left half (i) or right half (j)\n",
    "    while i<=mid:\n",
    "        temp[k]=arr[i]\n",
    "        i+=1\n",
    "        k+=1\n",
    "    while j<=right:\n",
    "        temp[k]=arr[j]\n",
    "        j+=1\n",
    "        k+=1\n",
    "        \n",
    "    # After merging the sorted values in temp are copied back to the original arr\n",
    "    for i in range(left,right+1):\n",
    "        arr[i]=temp[i]\n",
    "        \n",
    "    return count\n",
    "\n",
    "def Merge_sort_count(arr,temp,left,right): # Recursively divide the array\n",
    "    # If array has only one element in it then return 0 inversions\n",
    "    if left>=right:\n",
    "        return 0\n",
    "    \n",
    "    mid=(left+right)//2\n",
    "    count=Merge_sort_count(arr,temp,left,mid)  # For left half inversions\n",
    "    count+=Merge_sort_count(arr,temp,mid+1,right) # For right half inversions\n",
    "    count+= Merge_count(arr,temp,left,mid,right) # For merging back the entire array and counting Inversions \n",
    "    \n",
    "    return count\n",
    "    \n",
    "def count_inversions(arr):\n",
    "    temp = arr.copy() #  Creates a copy of the array\n",
    "    return Merge_sort_count(arr, temp, 0, len(arr) - 1)\n",
    "\n",
    "arr = [3, 1, 2]\n",
    "print(count_inversions(arr))\n",
    "        "
   ]
  }
 ],
 "metadata": {
  "kernelspec": {
   "display_name": "Python 3 (ipykernel)",
   "language": "python",
   "name": "python3"
  },
  "language_info": {
   "codemirror_mode": {
    "name": "ipython",
    "version": 3
   },
   "file_extension": ".py",
   "mimetype": "text/x-python",
   "name": "python",
   "nbconvert_exporter": "python",
   "pygments_lexer": "ipython3",
   "version": "3.9.13"
  }
 },
 "nbformat": 4,
 "nbformat_minor": 5
}
