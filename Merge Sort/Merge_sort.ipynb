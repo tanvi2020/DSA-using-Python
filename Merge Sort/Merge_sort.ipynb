{
 "cells": [
  {
   "cell_type": "markdown",
   "id": "ddfff2eb",
   "metadata": {},
   "source": [
    "# Merge Sort \n",
    "\n",
    "- Step 1: Divide the array into two halves.\n",
    "- Step 2: Keep dividing recursively until you get single elements.\n",
    "- Step 3: Merge two sorted parts back together in order.\n",
    "- Step 4: Repeat until the whole array is sorted."
   ]
  },
  {
   "cell_type": "code",
   "execution_count": 1,
   "id": "17571c2c",
   "metadata": {},
   "outputs": [
    {
     "name": "stdout",
     "output_type": "stream",
     "text": [
      "[1, 2, 3, 5, 6, 9]\n"
     ]
    }
   ],
   "source": [
    "def Merge_sort(arr):\n",
    "    # Base Case : If the array has 1 or 0 elements, we return it as is.Because an array with 1 element is already sorted.\n",
    "    if len(arr)==1:\n",
    "        return arr\n",
    "    \n",
    "    # Find the middle index to split the array\n",
    "    mid=len(arr)//2\n",
    "    \n",
    "    # Recursively Split the array into halves left & right. Keep splitting left & right side until we reach single elements\n",
    "    left_half=Merge_sort(arr[:mid])\n",
    "    right_half=Merge_sort(arr[mid:])\n",
    "    \n",
    "    # Merge the halves back\n",
    "    return merge(left_half,right_half)\n",
    "def merge(left,right): # The merge function will take two sorted arrays and combine them in order.\n",
    "    i,j=0,0 # Pointer which will point to left and right half\n",
    "    sorted_arr=[]  # to store the sorted result\n",
    "\n",
    "    while i<len(left) and j<len(right): # Apply Stoppers\n",
    "        # Compare left[i] and right[j] and Append the smaller one to sorted_array.Move pointer(i or j) forward.\n",
    "        if left[i]<right[j]: \n",
    "            sorted_arr.append(left[i])\n",
    "            i+=1\n",
    "        else:\n",
    "            sorted_arr.append(right[j])\n",
    "            j+=1\n",
    "    # If left half or right half still has elements, add them to sorted_array.\n",
    "    sorted_arr.extend(left[i:])\n",
    "    sorted_arr.extend(right[j:])\n",
    "    \n",
    "    return sorted_arr\n",
    "\n",
    "arr = [5, 2, 9, 1, 6, 3]\n",
    "sorted_arr = Merge_sort(arr)\n",
    "print(sorted_arr) "
   ]
  },
  {
   "cell_type": "code",
   "execution_count": null,
   "id": "890176e4",
   "metadata": {},
   "outputs": [],
   "source": []
  }
 ],
 "metadata": {
  "kernelspec": {
   "display_name": "Python 3 (ipykernel)",
   "language": "python",
   "name": "python3"
  },
  "language_info": {
   "codemirror_mode": {
    "name": "ipython",
    "version": 3
   },
   "file_extension": ".py",
   "mimetype": "text/x-python",
   "name": "python",
   "nbconvert_exporter": "python",
   "pygments_lexer": "ipython3",
   "version": "3.9.13"
  }
 },
 "nbformat": 4,
 "nbformat_minor": 5
}
