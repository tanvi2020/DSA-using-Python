{
 "cells": [
  {
   "cell_type": "markdown",
   "id": "d4862bcd",
   "metadata": {},
   "source": [
    "# Merge two Sorted Arrays using merge sort "
   ]
  },
  {
   "cell_type": "markdown",
   "id": "c6e51145",
   "metadata": {},
   "source": [
    "- Start with two pointers (one for each array).\n",
    "- Compare the first elements of both arrays.\n",
    "- Pick the smaller one and add it to the new array.\n",
    "- Move the pointer of the array from which the element was taken.\n",
    "- Repeat until one array is empty.\n",
    "- Add remaining elements from the non-empty array."
   ]
  },
  {
   "cell_type": "code",
   "execution_count": 1,
   "id": "4d4b8634",
   "metadata": {},
   "outputs": [
    {
     "name": "stdout",
     "output_type": "stream",
     "text": [
      "[1, 2, 3, 4, 7, 8, 9]\n"
     ]
    }
   ],
   "source": [
    "def Merge(arr1,arr2):\n",
    "    i,j=0,0  # Pointers for each arr\n",
    "    sorted_arr=[]  # To store result\n",
    "    while i<len(arr1) and j<len(arr2):\n",
    "        if arr1[i]<arr2[j]:\n",
    "            sorted_arr.append(arr1[i])\n",
    "            i+=1\n",
    "        else:\n",
    "            sorted_arr.append(arr2[j])\n",
    "            j+=1\n",
    "    \n",
    "    # Extend the sorted_arr by Adding remaining elements from the non-empty array.\n",
    "    sorted_arr.extend(arr1[i:])\n",
    "    sorted_arr.extend(arr2[j:])\n",
    "    \n",
    "    # Return the sorted arr\n",
    "    return sorted_arr\n",
    "\n",
    "arr1=[1,2,3,4]\n",
    "arr2=[7,8,9]\n",
    "sorted_arr=Merge(arr1,arr2)\n",
    "print(sorted_arr)"
   ]
  },
  {
   "cell_type": "code",
   "execution_count": null,
   "id": "941503f1",
   "metadata": {},
   "outputs": [],
   "source": []
  }
 ],
 "metadata": {
  "kernelspec": {
   "display_name": "Python 3 (ipykernel)",
   "language": "python",
   "name": "python3"
  },
  "language_info": {
   "codemirror_mode": {
    "name": "ipython",
    "version": 3
   },
   "file_extension": ".py",
   "mimetype": "text/x-python",
   "name": "python",
   "nbconvert_exporter": "python",
   "pygments_lexer": "ipython3",
   "version": "3.9.13"
  }
 },
 "nbformat": 4,
 "nbformat_minor": 5
}
