{
 "cells": [
  {
   "cell_type": "markdown",
   "id": "cdbaf3c6",
   "metadata": {},
   "source": [
    "# find the maximum sum of elements in a fixed-size sliding window"
   ]
  },
  {
   "cell_type": "markdown",
   "id": "21e833aa",
   "metadata": {},
   "source": [
    "\tPseudocode :\n",
    "\t1. Problem Statement :You have an array arr, a window size k, and need to find the maximum sum of elements in a fixed-size sliding window.\n",
    "\t2. Initialization:\n",
    "\t\t○ Define two pointers: i (start of the window) and j (end of the window), both starting at 0.\n",
    "\t\t○ Define sum to keep track of the sum of the current window, initialized to 0.\n",
    "\t\t○ Define mx to track the maximum sum found so far, initialized to a very small value or 0.We start by setting mx to a very small number (-inf) to ensure that any sum will be larger initially.\n",
    "\t3. Sliding Window Loop:\n",
    "\t\t○ Condition: Use while j < len(arr) to iterate until the end of the array.\n",
    "\t\t○ Expand the Window: Add arr[j] to sum.\n",
    "\t4. Window Size Check:\n",
    "\t\t○ If j - i + 1 < k: Increment j to expand the window.\n",
    "\t\t○ If j - i + 1 == k:\n",
    "\t\t\t§ Update the maximum sum: mx = max(mx, sum).\n",
    "\t\t\t§ Shrink the window from the left: Subtract arr[i] from sum, then increment i.\n",
    "\t\t\t§ Slide the window forward: Increment j.\n",
    "\n"
   ]
  },
  {
   "cell_type": "code",
   "execution_count": 1,
   "id": "f2865400",
   "metadata": {},
   "outputs": [
    {
     "name": "stdout",
     "output_type": "stream",
     "text": [
      "18\n"
     ]
    },
    {
     "data": {
      "text/plain": [
       "18"
      ]
     },
     "execution_count": 1,
     "metadata": {},
     "output_type": "execute_result"
    }
   ],
   "source": [
    "def slide(arr,k):\n",
    "    i=0 # i points to the start window\n",
    "    j=0  # j points to the end of the window\n",
    "    mx=float('-inf')  # initializing mx to a very small value < 0 \n",
    "    sums=0  # to store the sum of elements in the current window\n",
    "    while j<len(arr):\n",
    "        sums=sums+arr[j]  # Add current element to the sum\n",
    "        if j-i+1<k:  # If window size is less than k, expand the window\n",
    "            j+=1  # By Incrementing j by 1\n",
    "        elif j-i+1==k: # If window size is equal to k\n",
    "            mx=max(mx,sums)  # Then Update the maximum sum\n",
    "            sums -= arr[i]  # Remove the element going out of the window that is i element \n",
    "            i+=1  # Slide the window by increment i and j by 1 \n",
    "            j+=1\n",
    "    print(mx)\n",
    "\n",
    "slide([1,2,3,4,5,6,7],3)\n",
    "\n",
    "\n",
    "  \n",
    "def Brute_slide(arr,k):\n",
    "    maximum=float('-inf')\n",
    "    for i in range(len(arr)-k+1):  # This loop ensures that the window does not exceed the array size \n",
    "        sums=0\n",
    "        for j in range(i,i+k): # This loop will calculate the sum of a window by iterating over next k elements starting from i\n",
    "            sums=sums+arr[j]\n",
    "        maximum=max(maximum,sums)\n",
    "    return maximum\n",
    "Brute_slide([1,2,3,4,5,6,7],3)\n",
    "\n"
   ]
  },
  {
   "cell_type": "code",
   "execution_count": null,
   "id": "65948926",
   "metadata": {},
   "outputs": [],
   "source": []
  }
 ],
 "metadata": {
  "kernelspec": {
   "display_name": "Python 3 (ipykernel)",
   "language": "python",
   "name": "python3"
  },
  "language_info": {
   "codemirror_mode": {
    "name": "ipython",
    "version": 3
   },
   "file_extension": ".py",
   "mimetype": "text/x-python",
   "name": "python",
   "nbconvert_exporter": "python",
   "pygments_lexer": "ipython3",
   "version": "3.9.13"
  }
 },
 "nbformat": 4,
 "nbformat_minor": 5
}
