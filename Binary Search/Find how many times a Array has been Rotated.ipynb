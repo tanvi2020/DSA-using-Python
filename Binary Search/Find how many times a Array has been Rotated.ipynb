{
 "cells": [
  {
   "cell_type": "markdown",
   "id": "ef1ff07b",
   "metadata": {},
   "source": [
    "# Find how many times a Array has been Rotated\n",
    "Array will have unique numbers"
   ]
  },
  {
   "cell_type": "markdown",
   "id": "7a1f2790",
   "metadata": {},
   "source": [
    "### Number of times the array is Rotated = Index of the Minimum Number in the array"
   ]
  },
  {
   "cell_type": "code",
   "execution_count": 10,
   "id": "71c8a404",
   "metadata": {},
   "outputs": [
    {
     "name": "stdout",
     "output_type": "stream",
     "text": [
      "0\n",
      "0\n",
      "2\n",
      "3\n"
     ]
    }
   ],
   "source": [
    "def index_rotated(arr):\n",
    "    low=0\n",
    "    high=len(arr)-1\n",
    "    mini=float('inf')\n",
    "    index=-1\n",
    "    while low<=high:\n",
    "        mid=(low+high)//2\n",
    "        # Additional Condition if arr[mid]<=arr[low] and arr[mid]<=arr[high] \n",
    "        # in short arr[low]<=arr[high] means that half is fully sorted \n",
    "        if arr[low]<=arr[high]:\n",
    "            if arr[low]<mini:\n",
    "                mini=arr[low]\n",
    "                index=low\n",
    "            break\n",
    "        \n",
    "        # Check which side is sorted\n",
    "        if arr[low]<=arr[mid]: # Left Sorted\n",
    "            # instead of mini=min(mini,arr[low])\n",
    "            if arr[low]<mini:\n",
    "                mini=arr[low]\n",
    "                index=low\n",
    "            low=mid+1          \n",
    "        else: # Right sorted \n",
    "            # instead of mini=min(mini,arr[mid])\n",
    "            if arr[mid]<mini:\n",
    "                index=mid\n",
    "                mini=arr[mid]\n",
    "            high=mid-1\n",
    "        \n",
    "    return index # Returning index of minimum element as the Number of times the array was rotated \n",
    "print(index_rotated([1,2,3,4,5,6]))\n",
    "print(index_rotated([1,2]))\n",
    "print(index_rotated([4,5,1,2,3]))\n",
    "print(index_rotated([4,5,6,2,3]))"
   ]
  },
  {
   "cell_type": "code",
   "execution_count": null,
   "id": "21f14ac1",
   "metadata": {},
   "outputs": [],
   "source": []
  }
 ],
 "metadata": {
  "kernelspec": {
   "display_name": "Python 3 (ipykernel)",
   "language": "python",
   "name": "python3"
  },
  "language_info": {
   "codemirror_mode": {
    "name": "ipython",
    "version": 3
   },
   "file_extension": ".py",
   "mimetype": "text/x-python",
   "name": "python",
   "nbconvert_exporter": "python",
   "pygments_lexer": "ipython3",
   "version": "3.9.13"
  }
 },
 "nbformat": 4,
 "nbformat_minor": 5
}
