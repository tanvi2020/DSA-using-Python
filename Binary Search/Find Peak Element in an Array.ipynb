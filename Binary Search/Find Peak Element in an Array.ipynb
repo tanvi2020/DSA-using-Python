{
 "cells": [
  {
   "cell_type": "markdown",
   "id": "865bc572",
   "metadata": {},
   "source": [
    "# Find Peak Element in an Array"
   ]
  },
  {
   "cell_type": "markdown",
   "id": "8637cd8a",
   "metadata": {},
   "source": [
    "##  Brute Force Logic"
   ]
  },
  {
   "cell_type": "code",
   "execution_count": 29,
   "id": "e0e9726c",
   "metadata": {},
   "outputs": [
    {
     "name": "stdout",
     "output_type": "stream",
     "text": [
      "element:8 , index:6\n",
      "10\n",
      "element:8 , index:0\n",
      "element:8 , index:7\n"
     ]
    }
   ],
   "source": [
    "# Brute Force\n",
    "def brute(arr,n):\n",
    "    if n==1: # If the size of array is 1\n",
    "        return arr[0]\n",
    "    for i in range(n):\n",
    "        left_check=((i==0 or arr[i]>arr[i-1])) # Check if its the first element or the left element if less than the current \n",
    "        right_check=((i==n-1) or arr[i]>arr[i+1]) #Check if its last element or the right element if less than the current\n",
    "        if left_check and right_check: \n",
    "            return f'element:{arr[i]} , index:{i}'\n",
    "        \n",
    "print(brute([1,2,3,4,5,6,8,7],len([1,2,3,4,5,6,8,7])))\n",
    "print(brute([10],len([10])))\n",
    "print(brute([8,7,6,5,4,3,2,1],len([8,7,6,5,4,3,2,1])))\n",
    "print(brute([1,2,3,4,5,6,7,8],len([1,2,3,4,5,6,7,8])))"
   ]
  },
  {
   "cell_type": "markdown",
   "id": "f64147f7",
   "metadata": {},
   "source": [
    "## Binary Search Logic "
   ]
  },
  {
   "cell_type": "code",
   "execution_count": 3,
   "id": "2be82cf0",
   "metadata": {},
   "outputs": [
    {
     "name": "stdout",
     "output_type": "stream",
     "text": [
      "10\n",
      "10\n",
      "5\n",
      "8\n",
      "10\n",
      "2\n"
     ]
    }
   ],
   "source": [
    "def Peak(arr,n): # Taking arra and the size of the array as input\n",
    "    if n==1: # If size of array is one\n",
    "        return arr[0]\n",
    "    if arr[0]>arr[1]: # If the first element is the peak\n",
    "        return arr[0]\n",
    "    if arr[n-1]>arr[n-2]: #If the last element is the peak\n",
    "        return arr[n-1]\n",
    "    \n",
    "    low=1\n",
    "    high=n-2\n",
    "    \n",
    "    while low<=high:\n",
    "        # Find the mid \n",
    "        mid=(low+high)//2\n",
    "        \n",
    "        # Check if mid-1 and mid+1 are less than the mid\n",
    "        if arr[mid-1]<arr[mid] and arr[mid+1]<arr[mid]: # means arr[mid-1]<arr[mid]>arr[mid+1]\n",
    "            return arr[mid] # peak\n",
    "        \n",
    "        # If not the decide which side we need to move and search . Left or Right\n",
    "        if arr[mid-1]<arr[mid]: #then all elements to the left will be smaller and sorted so move right\n",
    "            low=mid+1\n",
    "        elif arr[mid+1]>arr[mid]: \n",
    "            high=mid-1 #then we are on the right are larger and sorted so search left\n",
    "        else:\n",
    "            high=mid-1\n",
    "            \n",
    "            \n",
    "arr1=[10]\n",
    "arr2=[10,9,8,7,6]\n",
    "arr3=[1,2,3,4,5]\n",
    "arr4=[1,2,3,4,5,6,8,7]\n",
    "arr5=[10,1,2,3,7,5,4]\n",
    "arr6=[1,2,1,5,1]\n",
    "print(Peak(arr1,len(arr1)))\n",
    "print(Peak(arr2,len(arr2)))\n",
    "print(Peak(arr3,len(arr3)))\n",
    "print(Peak(arr4,len(arr4)))\n",
    "print(Peak(arr5,len(arr5)))\n",
    "print(Peak(arr6,len(arr6)))\n",
    "\n",
    "            "
   ]
  },
  {
   "cell_type": "code",
   "execution_count": null,
   "id": "16e194ac",
   "metadata": {},
   "outputs": [],
   "source": []
  }
 ],
 "metadata": {
  "kernelspec": {
   "display_name": "Python 3 (ipykernel)",
   "language": "python",
   "name": "python3"
  },
  "language_info": {
   "codemirror_mode": {
    "name": "ipython",
    "version": 3
   },
   "file_extension": ".py",
   "mimetype": "text/x-python",
   "name": "python",
   "nbconvert_exporter": "python",
   "pygments_lexer": "ipython3",
   "version": "3.9.13"
  }
 },
 "nbformat": 4,
 "nbformat_minor": 5
}
