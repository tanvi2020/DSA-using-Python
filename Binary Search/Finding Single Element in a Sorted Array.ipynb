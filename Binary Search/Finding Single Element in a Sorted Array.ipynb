{
 "cells": [
  {
   "cell_type": "markdown",
   "id": "bba8546c",
   "metadata": {},
   "source": [
    "# Finding Single Element in a Sorted Array"
   ]
  },
  {
   "cell_type": "markdown",
   "id": "918fb221",
   "metadata": {},
   "source": [
    "## Steps \n",
    "- low=1 and high=n-2 . Chcek if arr[0]=arr[1] and arr[n-1]=arr[n-2]\n",
    "- calculate mid\n",
    "- Check which half to eliminate \n",
    "- Check which half does the single element lie in ... left half(even,odd) or the right half(odd,even)\n"
   ]
  },
  {
   "cell_type": "code",
   "execution_count": 11,
   "id": "2650a120",
   "metadata": {},
   "outputs": [
    {
     "name": "stdout",
     "output_type": "stream",
     "text": [
      "4\n",
      "1\n"
     ]
    }
   ],
   "source": [
    "# Finding Single element in a sorted array\n",
    "def Single(arr,n):\n",
    "    if n == 1 or arr[0] != arr[1]:\n",
    "        return arr[0]\n",
    "    if arr[n-1] != arr[n-2]:\n",
    "        return arr[n-1]\n",
    "    \n",
    "    low=1\n",
    "    high=n-2\n",
    "        \n",
    "    while low<=high:\n",
    "        \n",
    "        mid=(low+high)//2\n",
    "        \n",
    "        # Check which half to eliminate \n",
    "        if arr[mid]!=arr[mid-1] and arr[mid]!=arr[mid+1]:\n",
    "            return arr[mid]\n",
    "        \n",
    "        # If you are at the odd index and your left is equal to you\n",
    "        if (mid%2==1 and arr[mid]==arr[mid-1]):\n",
    "            # eliminate left half because the naswer lies in the right half\n",
    "            low=mid+1\n",
    "            \n",
    "        # Else if you are at the even index and your right is equal to you\n",
    "        else : # if mid%2==0 and arr[mid]==arr[mid+1]\n",
    "            # eliminate the right half because answer lies in the left half\n",
    "            high=mid-1\n",
    "            \n",
    "    return -1\n",
    "arr=[1,1,2,2,3,3,4,5,5,6,6]\n",
    "arr2=[1,2,2,3,4,4,5,5]\n",
    "n=len(arr)\n",
    "m=len(arr2)\n",
    "print(Single(arr,n))\n",
    "print(Single(arr2,m))"
   ]
  },
  {
   "cell_type": "code",
   "execution_count": null,
   "id": "35a67da6",
   "metadata": {},
   "outputs": [],
   "source": []
  }
 ],
 "metadata": {
  "kernelspec": {
   "display_name": "Python 3 (ipykernel)",
   "language": "python",
   "name": "python3"
  },
  "language_info": {
   "codemirror_mode": {
    "name": "ipython",
    "version": 3
   },
   "file_extension": ".py",
   "mimetype": "text/x-python",
   "name": "python",
   "nbconvert_exporter": "python",
   "pygments_lexer": "ipython3",
   "version": "3.9.13"
  }
 },
 "nbformat": 4,
 "nbformat_minor": 5
}
