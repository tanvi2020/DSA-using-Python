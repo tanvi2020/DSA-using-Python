{
 "cells": [
  {
   "cell_type": "markdown",
   "id": "67a7ecef",
   "metadata": {},
   "source": [
    "# Find the First and Last occurence of an element in an array and return its index"
   ]
  },
  {
   "cell_type": "code",
   "execution_count": 25,
   "id": "a0fe5824",
   "metadata": {},
   "outputs": [
    {
     "name": "stdout",
     "output_type": "stream",
     "text": [
      "(4, 6)\n",
      "(7, 7)\n",
      "(-1, -1)\n"
     ]
    }
   ],
   "source": [
    "def lower_bound(arr,target): # smallest index where arr[mid]>=target\n",
    "    low=0\n",
    "    high=len(arr)-1\n",
    "    result=len(arr)  # will store the size of the array initially\n",
    "    while low<=high:\n",
    "        mid=(low+high)//2\n",
    "        if arr[mid]>=target: # if array[mid] is greater or equal to the target\n",
    "            result=mid  # then store that index in result\n",
    "            high=mid-1 # shift left to find the smallest index\n",
    "        else:\n",
    "            low=mid+1\n",
    "    return result\n",
    "            \n",
    "\n",
    "def upper_bound(arr,target): # smallest index if arr[mid]>target\n",
    "    low=0\n",
    "    high=len(arr)-1\n",
    "    result=len(arr)\n",
    "    while low<=high:\n",
    "        mid=(low+high)//2\n",
    "        if arr[mid]>target: # id arr[mid] is greater than the Target\n",
    "            result=mid  # Then store its index in result\n",
    "            high=mid-1  # shift left to find the smallest index\n",
    "        else:\n",
    "            low=mid+1\n",
    "    return result\n",
    "\n",
    "def occurence(arr,target):\n",
    "    n=len(arr)\n",
    "    lb=lower_bound(arr,target)\n",
    "    if lb==n or arr[lb]!=target: # If lb index is a hypothetical index or element at the lb !=target\n",
    "        return (-1,-1)\n",
    "    else:\n",
    "        return (lower_bound(arr,target),upper_bound(arr,target)-1)\n",
    "    \n",
    "arr=[1,2,3,5,8,8,8,11,13]\n",
    "print(occurence(arr,8))\n",
    "print(occurence(arr,11))\n",
    "print(occurence(arr,15))"
   ]
  },
  {
   "cell_type": "code",
   "execution_count": 3,
   "id": "68976a08",
   "metadata": {},
   "outputs": [
    {
     "name": "stdout",
     "output_type": "stream",
     "text": [
      "(3, 7)\n",
      "(8, 8)\n",
      "(-1, -1)\n"
     ]
    }
   ],
   "source": [
    "# updated version of the code. instead of using the upper bound and lower bound logic lets just use the binary search logic\n",
    "def first_occurence(arr,target):\n",
    "    low=0\n",
    "    high=len(arr)-1\n",
    "    first=-1\n",
    "    while low<=high:\n",
    "        mid=(low+high)//2\n",
    "        if arr[mid]==target:\n",
    "            first=mid  # update first with the index value\n",
    "            high=mid-1 # since we are finding the first occurence we move to the left\n",
    "        elif arr[mid]<target: # since we are moving left , all the values to the left are smaller in sorted array\n",
    "            low=mid+1 # move to right\n",
    "        else:\n",
    "            high=mid-1 # else keep moving leftwards\n",
    "    return first\n",
    "\n",
    "def last_occurence(arr,target):\n",
    "    low=0\n",
    "    high=len(arr)-1\n",
    "    last=-1\n",
    "    while low<=high:\n",
    "        mid=(low+high)//2\n",
    "        if arr[mid]==target:\n",
    "            last=mid # store that index value in last\n",
    "            low=mid+1 # Move to the right since we need to find the last occurence\n",
    "        elif arr[mid]>target : # all values to the right will be greater in a sorted array\n",
    "            high=mid-1 # Move to the left\n",
    "        else:\n",
    "            low=mid+1 # else keep moving rightwards\n",
    "    return last\n",
    "\n",
    "def occurence(arr,target):\n",
    "    return (first_occurence(arr,target),last_occurence(arr,target))\n",
    "\n",
    "\n",
    "arr=[1,2,5,8,8,8,8,8,11,15]\n",
    "print(occurence(arr,8))\n",
    "print(occurence(arr,11))\n",
    "print(occurence(arr,20))"
   ]
  },
  {
   "cell_type": "code",
   "execution_count": null,
   "id": "d759c7dd",
   "metadata": {},
   "outputs": [],
   "source": []
  }
 ],
 "metadata": {
  "kernelspec": {
   "display_name": "Python 3 (ipykernel)",
   "language": "python",
   "name": "python3"
  },
  "language_info": {
   "codemirror_mode": {
    "name": "ipython",
    "version": 3
   },
   "file_extension": ".py",
   "mimetype": "text/x-python",
   "name": "python",
   "nbconvert_exporter": "python",
   "pygments_lexer": "ipython3",
   "version": "3.9.13"
  }
 },
 "nbformat": 4,
 "nbformat_minor": 5
}
