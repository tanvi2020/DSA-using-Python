{
 "cells": [
  {
   "cell_type": "markdown",
   "id": "253db924",
   "metadata": {},
   "source": [
    "# Binary Search Iterative Code "
   ]
  },
  {
   "cell_type": "code",
   "execution_count": 3,
   "id": "0a836972",
   "metadata": {},
   "outputs": [
    {
     "data": {
      "text/plain": [
       "3"
      ]
     },
     "execution_count": 3,
     "metadata": {},
     "output_type": "execute_result"
    }
   ],
   "source": [
    "def Binary(arr,n,target):  # n-> size of the arr \n",
    "    low=0  # low will point to the start of arr intially \n",
    "    high=n-1 # high will point to the end of array initially\n",
    "    while low<=high:\n",
    "        mid=(low+high)//2\n",
    "        if arr[mid]==target:\n",
    "            return mid\n",
    "        elif arr[mid]>target: # Search left half\n",
    "            high=mid-1\n",
    "        else : # arr[mid]<target then search right half\n",
    "            low=mid+1\n",
    "    return -1 # If target not found\n",
    "\n",
    "arr=[3,4,6,7,9,12,16,17]\n",
    "n=len(arr)-1\n",
    "Binary(arr,n,7)"
   ]
  },
  {
   "cell_type": "code",
   "execution_count": null,
   "id": "c90cb17f",
   "metadata": {},
   "outputs": [],
   "source": []
  }
 ],
 "metadata": {
  "kernelspec": {
   "display_name": "Python 3 (ipykernel)",
   "language": "python",
   "name": "python3"
  },
  "language_info": {
   "codemirror_mode": {
    "name": "ipython",
    "version": 3
   },
   "file_extension": ".py",
   "mimetype": "text/x-python",
   "name": "python",
   "nbconvert_exporter": "python",
   "pygments_lexer": "ipython3",
   "version": "3.9.13"
  }
 },
 "nbformat": 4,
 "nbformat_minor": 5
}
