{
 "cells": [
  {
   "cell_type": "markdown",
   "id": "805415b8",
   "metadata": {},
   "source": [
    "# Finding Square root of a Number using binary Search\n",
    "\n",
    "The questions can also be asked like :\n",
    "- Find minimum possible integer whose square root <=n\n",
    "- Find maximum possible integer whose square root <=n"
   ]
  },
  {
   "cell_type": "markdown",
   "id": "a9742c34",
   "metadata": {},
   "source": [
    "## Brute Force Logic "
   ]
  },
  {
   "cell_type": "code",
   "execution_count": 18,
   "id": "567b527f",
   "metadata": {},
   "outputs": [
    {
     "data": {
      "text/plain": [
       "5"
      ]
     },
     "execution_count": 18,
     "metadata": {},
     "output_type": "execute_result"
    }
   ],
   "source": [
    "def Sqrt(n):\n",
    "    i=1\n",
    "    ans=1\n",
    "    for i in range(n):\n",
    "        if i*i<=n:\n",
    "            ans=i\n",
    "        else :\n",
    "            break\n",
    "    return ans\n",
    "Sqrt(25)    "
   ]
  },
  {
   "cell_type": "markdown",
   "id": "32316c3d",
   "metadata": {},
   "source": [
    "## Binary Search Logic"
   ]
  },
  {
   "cell_type": "markdown",
   "id": "9edd3d76",
   "metadata": {},
   "source": [
    "### Steps :\n",
    "- The loop will check from 1 to max n\n",
    "- if mid*mid>n : Eliminate everything on the right of mid. high=mid-1\n",
    "- if mid*mid<=n : Check for a closer answer to n"
   ]
  },
  {
   "cell_type": "code",
   "execution_count": 20,
   "id": "6eacccd0",
   "metadata": {},
   "outputs": [
    {
     "data": {
      "text/plain": [
       "6"
      ]
     },
     "execution_count": 20,
     "metadata": {},
     "output_type": "execute_result"
    }
   ],
   "source": [
    "def Squarerrot(n):\n",
    "    low=0  \n",
    "    high=n\n",
    "    ans=1\n",
    "    while low<=high:\n",
    "        mid=(low+high)//2\n",
    "        if (mid*mid)<=n:\n",
    "            ans=mid\n",
    "            low=mid+1  # Move right to check a closer answer to n\n",
    "        else: # if mid*mid>n\n",
    "            high=mid-1 # shrink right\n",
    "            \n",
    "    return ans\n",
    "Squarerrot(36)\n"
   ]
  },
  {
   "cell_type": "markdown",
   "id": "1cb2d671",
   "metadata": {},
   "source": [
    "## Optimizing the code since mid*mid<=n may cause int overflow"
   ]
  },
  {
   "cell_type": "code",
   "execution_count": 22,
   "id": "28b28360",
   "metadata": {},
   "outputs": [
    {
     "data": {
      "text/plain": [
       "6"
      ]
     },
     "execution_count": 22,
     "metadata": {},
     "output_type": "execute_result"
    }
   ],
   "source": [
    "def Squarerrot(n):\n",
    "    low=0  \n",
    "    high=n\n",
    "    ans=1\n",
    "    while low<=high:\n",
    "        mid=(low+high)//2\n",
    "        if mid<=n/mid: # Optimized \n",
    "            ans=mid\n",
    "            low=mid+1  # Move right to check a closer answer to n\n",
    "        else: # if mid*mid>n\n",
    "            high=mid-1 # shrink right\n",
    "            \n",
    "    return ans\n",
    "Squarerrot(36)"
   ]
  },
  {
   "cell_type": "code",
   "execution_count": null,
   "id": "453b3109",
   "metadata": {},
   "outputs": [],
   "source": []
  }
 ],
 "metadata": {
  "kernelspec": {
   "display_name": "Python 3 (ipykernel)",
   "language": "python",
   "name": "python3"
  },
  "language_info": {
   "codemirror_mode": {
    "name": "ipython",
    "version": 3
   },
   "file_extension": ".py",
   "mimetype": "text/x-python",
   "name": "python",
   "nbconvert_exporter": "python",
   "pygments_lexer": "ipython3",
   "version": "3.9.13"
  }
 },
 "nbformat": 4,
 "nbformat_minor": 5
}
