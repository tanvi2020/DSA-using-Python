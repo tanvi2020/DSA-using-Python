{
 "cells": [
  {
   "cell_type": "markdown",
   "id": "261e1fcf",
   "metadata": {},
   "source": [
    "# Implement Lower Bound"
   ]
  },
  {
   "cell_type": "markdown",
   "id": "06c9c67e",
   "metadata": {},
   "source": [
    "Lower bound is the lowest index value such that arr[mid]>=target"
   ]
  },
  {
   "cell_type": "code",
   "execution_count": 7,
   "id": "703af035",
   "metadata": {},
   "outputs": [
    {
     "name": "stdout",
     "output_type": "stream",
     "text": [
      "0\n",
      "5\n",
      "6\n"
     ]
    }
   ],
   "source": [
    "def lower(arr,target):\n",
    "    low=0\n",
    "    high=len(arr)-1\n",
    "    answer=len(arr)\n",
    "    \n",
    "    # The loop will run until low<high\n",
    "    while low< high:\n",
    "        # calculate mid\n",
    "        mid=(low+high)//2\n",
    "        if arr[mid]>=target:\n",
    "            answer=mid  # update answer with the smallest index \n",
    "            high=mid-1\n",
    "        else:\n",
    "            low=mid+1\n",
    "    return answer\n",
    "\n",
    "arr=[1,2,3,3,4,5,8,8,9,9,11]\n",
    "print(lower(arr,1))\n",
    "print(lower(arr,5))\n",
    "print(lower(arr,7))\n",
    "            "
   ]
  },
  {
   "cell_type": "code",
   "execution_count": null,
   "id": "4f45eb0f",
   "metadata": {},
   "outputs": [],
   "source": [
    "# Implement Lower Bound\n",
    "\n",
    "Lower bound is the lowest index value such that arr[mid]>=target\n",
    "\n",
    "def lower(arr,target):\n",
    "    low=0\n",
    "    high=len(arr)-1\n",
    "    answer=len(arr)\n",
    "    \n",
    "    # The loop will run until low<high\n",
    "    while low< high:\n",
    "        # calculate mid\n",
    "        mid=(low+high)//2\n",
    "        if arr[mid]>=target:\n",
    "            answer=mid  # update answer with the smallest index \n",
    "            high=mid-1\n",
    "        else:\n",
    "            low=mid+1\n",
    "    return answer\n",
    "\n",
    "arr=[1,2,3,3,4,5,8,8,9,9,11]\n",
    "print(lower(arr,1))\n",
    "print(lower(arr,5))\n",
    "print(lower(arr,7))\n",
    "            "
   ]
  }
 ],
 "metadata": {
  "kernelspec": {
   "display_name": "Python 3 (ipykernel)",
   "language": "python",
   "name": "python3"
  },
  "language_info": {
   "codemirror_mode": {
    "name": "ipython",
    "version": 3
   },
   "file_extension": ".py",
   "mimetype": "text/x-python",
   "name": "python",
   "nbconvert_exporter": "python",
   "pygments_lexer": "ipython3",
   "version": "3.9.13"
  }
 },
 "nbformat": 4,
 "nbformat_minor": 5
}
