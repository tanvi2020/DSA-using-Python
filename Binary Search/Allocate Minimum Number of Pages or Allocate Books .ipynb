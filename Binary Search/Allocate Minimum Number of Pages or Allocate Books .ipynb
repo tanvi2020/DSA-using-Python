{
 "cells": [
  {
   "cell_type": "markdown",
   "id": "1b4c5f94",
   "metadata": {},
   "source": [
    "# Allocate Minimum Number of Pages / Allocate Books / Books Allocation "
   ]
  },
  {
   "cell_type": "markdown",
   "id": "27c4b6af",
   "metadata": {},
   "source": [
    "Problem Statement: Given an array ‘arr of integer numbers, ‘ar[i]’ represents the number of pages in the ‘i-th’ book. There are a ‘m’ number of students, and the task is to allocate all the books to the students.\n",
    "Allocate books in such a way that:\n",
    "\n",
    "Each student gets at least one book.\n",
    "Each book should be allocated to only one student.\n",
    "Book allocation should be in a contiguous manner.\n",
    "You have to allocate the book to ‘m’ students such that the maximum number of pages assigned to a student is minimum. If the allocation of books is not possible. return -1"
   ]
  },
  {
   "cell_type": "markdown",
   "id": "121e22d9",
   "metadata": {},
   "source": [
    "- Example 1:\n",
    "\n",
    "Input Format: n = 4, m = 2, arr[] = {12, 34, 67, 90}\n",
    "\n",
    "Result: 113\n",
    "\n",
    "Explanation: The allocation of books will be 12, 34, 67 | 90. One student will get the first 3 books and the other will get the last one"
   ]
  },
  {
   "cell_type": "markdown",
   "id": "4d7f0682",
   "metadata": {},
   "source": [
    "- Example 2:\n",
    "\n",
    "Input Format: n = 5, m = 4, arr[] = {25, 46, 28, 49, 24}\n",
    "\n",
    "Result: 71\n",
    "\n",
    "Explanation: The allocation of books will be 25, 46 | 28 | 49 | 24."
   ]
  },
  {
   "cell_type": "markdown",
   "id": "2bdf8c5c",
   "metadata": {},
   "source": [
    "We can allocate books in several ways but it is clearly said in the question that we have to allocate the books in such a way that the maximum number of pages received by a student should be minimum.\n",
    "\n",
    "\n",
    "Assume the given array is {25 46 28 49 24} and number of students, M = 4. Now, we can allocate these books in different ways. Some of them are the following:\n",
    "\n",
    "\n",
    "\n",
    "25 | 46 | 28 | 49, 24  → Maximum no. of pages a student receive = 73\n",
    "\n",
    "25 | 46 | 28, 49 | 24  → Maximum no. of pages a student receive = 77\n",
    "\n",
    "25 | 46, 28 | 49 | 24  → Maximum no. of pages a student receive = 74\n",
    "\n",
    "25, 46 | 28 | 49 | 24  → Maximum no. of pages a student receive = 71\n",
    "\n",
    "From the above allocations, we can clearly observe that the minimum possible maximum number of pages is 71."
   ]
  },
  {
   "cell_type": "markdown",
   "id": "a4d73696",
   "metadata": {},
   "source": [
    "When the number of books is lesser than the number of students, we cannot allocate books to all the students even if we give only a single book to each student. So, if m > n, we should return -1.\n",
    "\n",
    "\n",
    "Observations:\n",
    "\n",
    "\n",
    "Minimum possible answer: We will get the minimum answer when we give n books of the array to n students(i.e. Each student will receive 1 book). Now, in this case, the maximum number of pages will be the maximum element in the array. So, the minimum possible answer is max(arr[]).\n",
    "\n",
    "Maximum possible answer: We will get the maximum answer when we give all n books to a single student. The maximum no. of pages he/she will receive is the summation of array elements i.e. sum(arr[]). So, the maximum possible answer is sum(arr[]).\n",
    "\n",
    "From the observations, it is clear that our answer lies in the range [max(arr[]), sum(arr[])].\n",
    "\n",
    "\n",
    "How to calculate the number of students to whom we can allocate the books if one can receive at most ‘pages’ number of pages:\n",
    "\n",
    "\n",
    "In order to calculate the number of students we will write a function, countStudents(). This function will take the array and ‘pages’ as parameters and return the number of students to whom we can allocate the books.\n",
    "\n",
    "\n",
    "countStudents(arr[], pages):\n",
    "\n",
    "\n",
    "\n",
    "We will first declare two variables i.e. ‘students’(stores the no. of students), and pagesStudent(stores the number of pages of a student). As we are starting with the first student, ‘students’ should be initialized with 1.\n",
    "\n",
    "We will start traversing the given array.\n",
    "\n",
    "If pagesStudent + arr[i] <= pages: If upon adding the pages with the existing number of pages does not exceed the limit, we can allocate this i-th book to the current student.\n",
    "\n",
    "Otherwise, we will move to the next student(i.e. students += 1 ) and allocate the book.\n",
    "\n",
    "Finally, we will return the value of ‘students’.\n",
    "\n"
   ]
  },
  {
   "cell_type": "markdown",
   "id": "a1649d0c",
   "metadata": {},
   "source": [
    "### Linear Search Logic "
   ]
  },
  {
   "cell_type": "code",
   "execution_count": 4,
   "id": "69213873",
   "metadata": {},
   "outputs": [
    {
     "name": "stdout",
     "output_type": "stream",
     "text": [
      "71\n"
     ]
    }
   ],
   "source": [
    "def Books(arr,m): # Arr[i] represents number of pages in ith book and m is number of students\n",
    "    low=max(arr) # Minimum pages per student (at least the largest book)\n",
    "    high=sum(arr) # Maximum possible pages (if 1 student gets all books)\n",
    "    \n",
    "    for pages in range(low,high+1):\n",
    "        studentPages=Find(arr,pages) # Check if allocation is possible with 'm' or fewer students\n",
    "        if studentPages==m: # If the count of students the Find function return matches with the given student count\n",
    "            return pages # return this as Answer value of pages (minimized)\n",
    "    return -1\n",
    "def Find(arr,pages):\n",
    "    no_of_student=1 #Initially we will have 1 student \n",
    "    Pages_count=0 #The count of pages initially is 0 \n",
    "    for i in range(len(arr)): # Start allocating books to students \n",
    "        if Pages_count+arr[i]<=pages: #If the pages count is not exceeding the given pages,keep allocating books to same student\n",
    "            Pages_count+=arr[i]\n",
    "        else: # If pages count exceeds the given page count then allocate that book to a different student\n",
    "            no_of_student+=1\n",
    "            Pages_count=arr[i]\n",
    "    return no_of_student\n",
    "\n",
    "arr=[25,46,28,49,24]\n",
    "m=4\n",
    "print(Books(arr,m))"
   ]
  },
  {
   "cell_type": "code",
   "execution_count": 9,
   "id": "9a88d917",
   "metadata": {},
   "outputs": [
    {
     "name": "stdout",
     "output_type": "stream",
     "text": [
      "71\n"
     ]
    }
   ],
   "source": [
    "def Books(arr,m):\n",
    "    low=max(arr)\n",
    "    high=sum(arr)\n",
    "    pages=-1\n",
    "    while low<=high:\n",
    "        mid=(low+high)//2\n",
    "        studentPages=Find(arr,mid)\n",
    "        if studentPages<=m:\n",
    "            pages=mid\n",
    "            high=mid-1\n",
    "        else:\n",
    "            low=mid+1\n",
    "    return pages\n",
    "def Find(arr,mid):\n",
    "    student_count=1\n",
    "    pages_count=0\n",
    "    for i in range(len(arr)):\n",
    "        if arr[i]+pages_count<=mid:\n",
    "            pages_count+=arr[i]\n",
    "        else:\n",
    "            student_count+=1\n",
    "            pages_count=arr[i]\n",
    "    return student_count\n",
    "            \n",
    "arr=[25,46,28,49,24]\n",
    "m=4\n",
    "print(Books(arr,m))"
   ]
  },
  {
   "cell_type": "code",
   "execution_count": null,
   "id": "b2a6e66d",
   "metadata": {},
   "outputs": [],
   "source": []
  }
 ],
 "metadata": {
  "kernelspec": {
   "display_name": "Python 3 (ipykernel)",
   "language": "python",
   "name": "python3"
  },
  "language_info": {
   "codemirror_mode": {
    "name": "ipython",
    "version": 3
   },
   "file_extension": ".py",
   "mimetype": "text/x-python",
   "name": "python",
   "nbconvert_exporter": "python",
   "pygments_lexer": "ipython3",
   "version": "3.9.13"
  }
 },
 "nbformat": 4,
 "nbformat_minor": 5
}
