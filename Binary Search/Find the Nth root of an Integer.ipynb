{
 "cells": [
  {
   "cell_type": "markdown",
   "id": "faaea247",
   "metadata": {},
   "source": [
    "#  Find the Nth root of an Integer\n",
    "- If N=3 , M=27 ---> third root of 27 = 3 (3 * 3 * 3)\n",
    "- If N=4 , M=66 ---> Answer -1 Because there doesn't exist a fourth root of 66"
   ]
  },
  {
   "cell_type": "markdown",
   "id": "f7edcb29",
   "metadata": {},
   "source": [
    "- Start with low = 1, high = x.\n",
    "\n",
    "- Pick a number in the middle → mid.\n",
    "\n",
    "- Raise mid to the power n. (e.g., mid = 2, 2^3 = 8)\n",
    "\n",
    "- If mid^n == x → 🎉 Found the answer!\n",
    "\n",
    "- If mid^n < x → Maybe a bigger number will work → search on the right\n",
    "\n",
    "- If mid^n > x → That’s too big! → search on the left\n",
    "\n",
    "- Keep checking until you get the best number where mid^n <= x."
   ]
  },
  {
   "cell_type": "code",
   "execution_count": 1,
   "id": "123a00f7",
   "metadata": {},
   "outputs": [
    {
     "name": "stdout",
     "output_type": "stream",
     "text": [
      "3\n",
      "-1\n"
     ]
    }
   ],
   "source": [
    "def Root(M,n): # M is the number and n is root\n",
    "    # Search space will start from 1 to M \n",
    "    low=1  \n",
    "    high=M \n",
    "    while low<=high:\n",
    "        # Calculate mid\n",
    "        mid=(low+high)//2\n",
    "        # Calculate power \n",
    "        power = mid**n\n",
    "        \n",
    "        if power==M:\n",
    "            return mid # mid is the nth root of the number M\n",
    "               \n",
    "        elif power>M: # shrink the right\n",
    "            high=mid-1\n",
    "            \n",
    "        else : # if power<M shrink left\n",
    "            low=mid+1\n",
    "    return -1 # If root not exists\n",
    "print(Root(27,3))\n",
    "print(Root(57,4))"
   ]
  },
  {
   "cell_type": "markdown",
   "id": "1b48cb9a",
   "metadata": {},
   "source": [
    "But the above program will fail and run in an infinite loop if I provide very large numbers to it. Say suppose i give n= 10^9 and M=10^10"
   ]
  },
  {
   "cell_type": "markdown",
   "id": "3aee6bf5",
   "metadata": {},
   "source": [
    "## So to Resolve the overflow issue we need to make the following changes "
   ]
  },
  {
   "cell_type": "markdown",
   "id": "99748bd7",
   "metadata": {},
   "source": [
    "Instead of doing mid ** n, you do multiplication one step at a time and stop early if the result gets too big. "
   ]
  },
  {
   "cell_type": "code",
   "execution_count": 1,
   "id": "0a90936d",
   "metadata": {},
   "outputs": [
    {
     "name": "stdout",
     "output_type": "stream",
     "text": [
      "-1\n",
      "3\n",
      "10\n",
      "5\n"
     ]
    }
   ],
   "source": [
    "def multiply(n,M,mid):\n",
    "    # return 1 if result==M\n",
    "    # return 0 if result<M\n",
    "    # return 2 if result>M\n",
    "    result=1\n",
    "    for i in range(n):\n",
    "        result=result*mid\n",
    "        if result>M:\n",
    "            return 2\n",
    "    if result==M:\n",
    "        return 1\n",
    "    #else if result<M\n",
    "    return 0\n",
    "    \n",
    "def Root(n,M):\n",
    "    low=1\n",
    "    high=M\n",
    "    while low<=high:\n",
    "        mid=(low+high)//2\n",
    "        midN=multiply(n,M,mid)\n",
    "        if midN==1:\n",
    "            return mid\n",
    "        elif midN==2:\n",
    "            high=mid-1\n",
    "        else : # if midN ==0\n",
    "            low=mid+1\n",
    "    return -1 # If root not found\n",
    "        \n",
    "print(Root(4,66))\n",
    "print(Root(3,27))\n",
    "print(Root(10,10000000000))\n",
    "print(Root(5,3125))            "
   ]
  },
  {
   "cell_type": "code",
   "execution_count": null,
   "id": "b1a218f4",
   "metadata": {},
   "outputs": [],
   "source": []
  }
 ],
 "metadata": {
  "kernelspec": {
   "display_name": "Python 3 (ipykernel)",
   "language": "python",
   "name": "python3"
  },
  "language_info": {
   "codemirror_mode": {
    "name": "ipython",
    "version": 3
   },
   "file_extension": ".py",
   "mimetype": "text/x-python",
   "name": "python",
   "nbconvert_exporter": "python",
   "pygments_lexer": "ipython3",
   "version": "3.9.13"
  }
 },
 "nbformat": 4,
 "nbformat_minor": 5
}
