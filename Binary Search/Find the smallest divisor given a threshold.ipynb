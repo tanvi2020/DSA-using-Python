{
 "cells": [
  {
   "cell_type": "markdown",
   "id": "e265e49d",
   "metadata": {},
   "source": [
    "# Find the smallest divisor given a threshold"
   ]
  },
  {
   "cell_type": "markdown",
   "id": "fc3fcb18",
   "metadata": {},
   "source": [
    "You’re given an array of numbers (e.g. bananas, file sizes, etc.) and a threshold.\n",
    "You have to divide each number by a certain divisor, round each result up (using ceil), and add them all up.\n",
    "\n",
    "Your goal is to find the smallest possible divisor such that:\n",
    "\n",
    "sum(ceil(num / divisor)) <= threshold"
   ]
  },
  {
   "cell_type": "markdown",
   "id": "dbe74317",
   "metadata": {},
   "source": [
    "## Brute Force Logic"
   ]
  },
  {
   "cell_type": "code",
   "execution_count": 22,
   "id": "55ba447f",
   "metadata": {},
   "outputs": [
    {
     "name": "stdout",
     "output_type": "stream",
     "text": [
      "5\n"
     ]
    }
   ],
   "source": [
    "import math\n",
    "def Smallest_divisor(arr,threshold):\n",
    "    for divisor in range(1,max(arr)):\n",
    "        sums=0\n",
    "        for i in range(len(arr)):\n",
    "            sums+=math.ceil(arr[i]/divisor)\n",
    "        if sums<=threshold:\n",
    "            return divisor\n",
    "    return -1 # If no divisor found\n",
    "\n",
    "arr=[1,2,5,9]\n",
    "threshold=6\n",
    "print(Smallest_divisor(arr,threshold))"
   ]
  },
  {
   "cell_type": "markdown",
   "id": "87d7cef5",
   "metadata": {},
   "source": [
    "## Binary Search Logic"
   ]
  },
  {
   "cell_type": "code",
   "execution_count": 14,
   "id": "9c5eb555",
   "metadata": {},
   "outputs": [
    {
     "name": "stdout",
     "output_type": "stream",
     "text": [
      "5\n",
      "9\n",
      "3\n"
     ]
    }
   ],
   "source": [
    "import math\n",
    "def Binary(arr,threshold):\n",
    "    low=1\n",
    "    high=max(arr)\n",
    "    smallest=-1\n",
    "    while low<=high:\n",
    "        mid=(low+high)//2\n",
    "        total=Division(arr,mid)\n",
    "        if total<=threshold:\n",
    "            smallest=mid\n",
    "            high=mid-1\n",
    "        else:\n",
    "            low=mid+1\n",
    "    return smallest\n",
    "def Division(arr,mid):\n",
    "    sums=0\n",
    "    for i in range(len(arr)):\n",
    "        sums+=math.ceil(arr[i]/mid)\n",
    "    return sums\n",
    "\n",
    "arr=[1,2,5,9]\n",
    "threshold1=6\n",
    "print(Binary(arr,threshold1))\n",
    "\n",
    "threshold2=4\n",
    "print(Binary(arr,threshold2))\n",
    "\n",
    "threshold3=7\n",
    "print(Binary(arr,threshold3))"
   ]
  },
  {
   "cell_type": "code",
   "execution_count": null,
   "id": "f5911c91",
   "metadata": {},
   "outputs": [],
   "source": []
  }
 ],
 "metadata": {
  "kernelspec": {
   "display_name": "Python 3 (ipykernel)",
   "language": "python",
   "name": "python3"
  },
  "language_info": {
   "codemirror_mode": {
    "name": "ipython",
    "version": 3
   },
   "file_extension": ".py",
   "mimetype": "text/x-python",
   "name": "python",
   "nbconvert_exporter": "python",
   "pygments_lexer": "ipython3",
   "version": "3.9.13"
  }
 },
 "nbformat": 4,
 "nbformat_minor": 5
}
