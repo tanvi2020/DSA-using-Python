{
 "cells": [
  {
   "cell_type": "markdown",
   "id": "573678a9",
   "metadata": {},
   "source": [
    "# Search in a rotated sorted Array"
   ]
  },
  {
   "cell_type": "markdown",
   "id": "05cd1d51",
   "metadata": {},
   "source": [
    "A rotated sorted array is an array that was initially sorted in ascending order but then rotated at some pivot.\n",
    "Example:\n",
    "Sorted Array → [1, 2, 3, 4, 5, 6, 7]\n",
    "Rotated Array → [4, 5, 6, 7, 1, 2, 3]\n",
    "\n",
    "- Steps to Search an Element Efficiently:\n",
    "- Find the mid-point (mid) of the array.\n",
    "- Check if the mid element is the target. If arr[mid] == target, return mid.\n",
    "- Determine which half is sorted.\n",
    "- If arr[low] ≤ arr[mid], it means left half is sorted.\n",
    "- Otherwise, right half is sorted.\n",
    "- Decide where to search next.\n",
    "- If the left half is sorted:\n",
    "- Check if the target is within arr[low] to arr[mid].\n",
    "- If yes, search left (high = mid - 1).\n",
    "- Otherwise, search right (low = mid + 1).\n",
    "- If the right half is sorted:\n",
    "- Check if the target is within arr[mid] to arr[high].\n",
    "- If yes, search right (low = mid + 1).\n",
    "- Otherwise, search left (high = mid - 1).\n",
    "- Repeat steps 1-4 using binary search until low > high.\n",
    "- If not found, return -1."
   ]
  },
  {
   "cell_type": "code",
   "execution_count": 11,
   "id": "ad608245",
   "metadata": {},
   "outputs": [
    {
     "name": "stdout",
     "output_type": "stream",
     "text": [
      "3\n"
     ]
    }
   ],
   "source": [
    "def Search_rotated(arr,target):\n",
    "    low=0\n",
    "    high=len(arr)-1\n",
    "    while low<=high:\n",
    "        # find the mid\n",
    "        mid=(low+high)//2\n",
    "        \n",
    "        # If we found the target then just return its index value\n",
    "        if arr[mid]==target:\n",
    "            return mid\n",
    "        \n",
    "        # Else find which side of the mid is sorted? Is is the right side or the left side \n",
    "        # How to find it ? If all the elements on left are lower than mid then left side is sorted and if all the elements to\n",
    "        # the right are higher than the mid then the right side is sorted\n",
    "        if arr[low]<=arr[mid]: # We say left side is sorted \n",
    "            # Check whether the target lies in the sorted side or not\n",
    "            if arr[mid]>=target and arr[low]<=target: #search left from low to mid\n",
    "                high=mid-1  # trim down the right half\n",
    "            else:\n",
    "                low=mid+1\n",
    "            \n",
    "        else : # if arr[high]>arr[mid] then right side is sorted\n",
    "             # Check whether the target lies in the sorted side or not\n",
    "            if  arr[mid]<=target and arr[high]>=target: # search right from mid to high\n",
    "                low=mid+1  # trim down the left half\n",
    "            else:\n",
    "                high=mid-1\n",
    "    return -1 # If element not found\n",
    "arr=[7,8,9,1,2,3,4,5,6]\n",
    "print(Search_rotated(arr,1))\n",
    "        "
   ]
  },
  {
   "cell_type": "code",
   "execution_count": null,
   "id": "8673b45b",
   "metadata": {},
   "outputs": [],
   "source": []
  }
 ],
 "metadata": {
  "kernelspec": {
   "display_name": "Python 3 (ipykernel)",
   "language": "python",
   "name": "python3"
  },
  "language_info": {
   "codemirror_mode": {
    "name": "ipython",
    "version": 3
   },
   "file_extension": ".py",
   "mimetype": "text/x-python",
   "name": "python",
   "nbconvert_exporter": "python",
   "pygments_lexer": "ipython3",
   "version": "3.9.13"
  }
 },
 "nbformat": 4,
 "nbformat_minor": 5
}
