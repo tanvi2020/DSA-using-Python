{
 "cells": [
  {
   "cell_type": "markdown",
   "id": "f580e6b6",
   "metadata": {},
   "source": [
    "# Aggresive Cows (Hard)"
   ]
  },
  {
   "cell_type": "markdown",
   "id": "ef97af75",
   "metadata": {},
   "source": [
    "Question\n",
    "Given an array of length ‘N’, where each element denotes the position of a stall. Now you have ‘N’ stalls and an integer ‘K’ which denotes the number of cows that are aggressive. To prevent the cows from hurting each other, you need to assign the cows to the stalls, such that the minimum distance between any two of them is as large as possible. Return the largest minimum distance.\n",
    "Eg\n",
    "\n",
    "array: 1,2,4,8,9  &  k=3\n",
    "O/P: 3\n",
    "Explaination: 1st cow at stall 1 , 2nd cow at stall 4 and 3rd cow at stall 8"
   ]
  },
  {
   "cell_type": "markdown",
   "id": "5f2bdbfc",
   "metadata": {},
   "source": [
    "# 🐄 Problem Summary :\n",
    "- You are given n stalls in a line, each at some position.\n",
    "\n",
    "- You need to place c cows in these stalls.\n",
    "\n",
    "- The goal is to maximize the minimum distance between any two cows.\n",
    "\n"
   ]
  },
  {
   "cell_type": "markdown",
   "id": "fecc76da",
   "metadata": {},
   "source": [
    "## Brute Logic"
   ]
  },
  {
   "cell_type": "code",
   "execution_count": 13,
   "id": "f5d2c50f",
   "metadata": {},
   "outputs": [
    {
     "name": "stdout",
     "output_type": "stream",
     "text": [
      "3\n"
     ]
    }
   ],
   "source": [
    "def Aggressive_cows(arr,cows):\n",
    "    arr.sort()\n",
    "    max_dist = arr[-1] - arr[0]\n",
    "    # I will check if I can place all the cows keeping a min distance of i\n",
    "    # The range of my distance will lie between 1 to the min-max element in the array \n",
    "    for distance in range(1, max_dist + 1):\n",
    "            if Can_be_Possible(arr,distance,cows)==True: # If all my cows can be placed whithin that distance \n",
    "                continue \n",
    "            else:\n",
    "                return (distance-1) # If all my cows are not getting placed in the current distance return me the previous \n",
    "                         # distance as the min distance which is  maximum for all cows to get placed\n",
    "    return distance\n",
    "def Can_be_Possible(arr,distance,cows):\n",
    "    cow_count=1  # Intially my cow count will be 1 \n",
    "    last_cow=arr[0] # and I will place that cow in the first position\n",
    "        \n",
    "    # Now I will iterate through the stalls to place other cows in distance> = given distance\n",
    "    for i in range(1,len(arr)):\n",
    "        if (arr[i]-last_cow)>=distance: \n",
    "            cow_count+=1 \n",
    "            last_cow=arr[i]\n",
    "            # So if the distance I get by subtracting last_cow value from arr[i] is >= minimum distance I want \n",
    "            # then I will place one more cow at position i and the new cow position will be arr[i]\n",
    "        if cow_count==cows: # Checking if all cows I gave as input are getting placed in the stalls\n",
    "            return True\n",
    "        \n",
    "    return False \n",
    "            \n",
    "print(Aggressive_cows([0,3,4,7,9,10],4))              \n",
    "                          "
   ]
  },
  {
   "cell_type": "markdown",
   "id": "01d2c4ba",
   "metadata": {},
   "source": [
    "## Binary Logic"
   ]
  },
  {
   "cell_type": "code",
   "execution_count": 24,
   "id": "0eb40d92",
   "metadata": {},
   "outputs": [
    {
     "name": "stdout",
     "output_type": "stream",
     "text": [
      "3\n"
     ]
    }
   ],
   "source": [
    "def Aggressive_cows(arr,cows):\n",
    "    arr.sort()\n",
    "    low=1\n",
    "    high=arr[-1]-arr[0]\n",
    "    best=0\n",
    "    while low<=high:\n",
    "        mid=(low+high)//2\n",
    "        if Can_be_possible(arr,mid,cows)==True:\n",
    "            best=mid\n",
    "            low=mid+1\n",
    "        else:\n",
    "            high=mid-1\n",
    "    return best\n",
    "def Can_be_possible(arr,distance,cows):\n",
    "    cow_count=1\n",
    "    last_cow=arr[0]\n",
    "    for i in range(len(arr)):\n",
    "        if arr[i]-last_cow>=distance:  # if arr[i]-last_cow>=mid\n",
    "            cow_count+=1\n",
    "            last_cow=arr[i]\n",
    "        if cow_count==cows:\n",
    "            return True\n",
    "    return False\n",
    "\n",
    "print(Aggressive_cows([0,3,4,7,9,10],4))    \n",
    "        \n",
    "    "
   ]
  },
  {
   "cell_type": "code",
   "execution_count": null,
   "id": "56b8d2cc",
   "metadata": {},
   "outputs": [],
   "source": []
  }
 ],
 "metadata": {
  "kernelspec": {
   "display_name": "Python 3 (ipykernel)",
   "language": "python",
   "name": "python3"
  },
  "language_info": {
   "codemirror_mode": {
    "name": "ipython",
    "version": 3
   },
   "file_extension": ".py",
   "mimetype": "text/x-python",
   "name": "python",
   "nbconvert_exporter": "python",
   "pygments_lexer": "ipython3",
   "version": "3.9.13"
  }
 },
 "nbformat": 4,
 "nbformat_minor": 5
}
