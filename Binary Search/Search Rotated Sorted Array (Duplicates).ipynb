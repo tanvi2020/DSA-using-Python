{
 "cells": [
  {
   "cell_type": "markdown",
   "id": "9a1c5b46",
   "metadata": {},
   "source": [
    "# Search Rotated Sorted Array (Duplicates)"
   ]
  },
  {
   "cell_type": "markdown",
   "id": "f4be9a08",
   "metadata": {},
   "source": [
    "- Find the middle (mid) → Check if arr[mid] == target. If yes, return mid.\n",
    "- Check for duplicates:\n",
    "If arr[low] == arr[mid] == arr[high], we reduce search space (low += 1, high -= 1).\n",
    "- Find the sorted half:\n",
    "-- If arr[low] to arr[mid] is sorted → check if target lies in this range.\n",
    "-- If arr[mid] to arr[high] is sorted → check if target lies in this range.\n",
    "- Move to the correct half and repeat until low > high."
   ]
  },
  {
   "cell_type": "code",
   "execution_count": 2,
   "id": "d0b246e2",
   "metadata": {},
   "outputs": [
    {
     "name": "stdout",
     "output_type": "stream",
     "text": [
      "3\n"
     ]
    }
   ],
   "source": [
    "def rotated_duplicates(arr,target):\n",
    "    low=0\n",
    "    high=len(arr)-1\n",
    "    while low<=high:\n",
    "        mid=(low+high)//2\n",
    "        # If target found at mid\n",
    "        if arr[mid]==target:\n",
    "            return mid\n",
    "        \n",
    "        if arr[mid]==arr[low] and arr[mid]==arr[high]: # If low=mid=high we wont be able to find which half is exactly sorted\n",
    "            high-=1 \n",
    "            low+=1\n",
    "            continue  # So we shrink the low and high until the conditions below satisfy\n",
    "            \n",
    "        if arr[low]<=arr[mid]:\n",
    "            if arr[mid]>=target and arr[low]<=target:\n",
    "                high=mid-1\n",
    "            else:\n",
    "                low=mid+1    \n",
    "        else:\n",
    "            if arr[mid]<=target and arr[high]>=target:\n",
    "                low=mid+1\n",
    "            else:\n",
    "                high=mid-1\n",
    "    return -1\n",
    "arr=[3,1,2,3,3,3,3,3]\n",
    "print(rotated_duplicates(arr,3))"
   ]
  },
  {
   "cell_type": "code",
   "execution_count": null,
   "id": "9d319e4f",
   "metadata": {},
   "outputs": [],
   "source": []
  }
 ],
 "metadata": {
  "kernelspec": {
   "display_name": "Python 3 (ipykernel)",
   "language": "python",
   "name": "python3"
  },
  "language_info": {
   "codemirror_mode": {
    "name": "ipython",
    "version": 3
   },
   "file_extension": ".py",
   "mimetype": "text/x-python",
   "name": "python",
   "nbconvert_exporter": "python",
   "pygments_lexer": "ipython3",
   "version": "3.9.13"
  }
 },
 "nbformat": 4,
 "nbformat_minor": 5
}
