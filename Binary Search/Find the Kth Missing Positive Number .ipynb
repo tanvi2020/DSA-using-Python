{
 "cells": [
  {
   "cell_type": "markdown",
   "id": "60d3a770",
   "metadata": {},
   "source": [
    "# Find the Kth Missing Positive Number "
   ]
  },
  {
   "cell_type": "markdown",
   "id": "41db7c39",
   "metadata": {},
   "source": [
    "Given an array arr of positive integers sorted in a strictly increasing order, and an integer k.\n",
    "\n",
    "Return the kth positive integer that is missing from this array.\n",
    "\n",
    " \n",
    "\n",
    "- Example 1:\n",
    "\n",
    "Input: arr = [2,3,4,7,11], k = 5\n",
    "Output: 9\n",
    "Explanation: The missing positive integers are [1,5,6,8,9,10,12,13,...]. The 5th missing positive integer is 9.\n",
    "- Example 2:\n",
    "\n",
    "Input: arr = [1,2,3,4], k = 2\n",
    "Output: 6\n",
    "Explanation: The missing positive integers are [5,6,7,...]. The 2nd missing positive integer is 6."
   ]
  },
  {
   "cell_type": "markdown",
   "id": "14507b67",
   "metadata": {},
   "source": [
    "## Brute Force Logic "
   ]
  },
  {
   "cell_type": "code",
   "execution_count": 5,
   "id": "e99a1210",
   "metadata": {},
   "outputs": [
    {
     "name": "stdout",
     "output_type": "stream",
     "text": [
      "9\n"
     ]
    }
   ],
   "source": [
    "def Brute_k_missing(arr,k):\n",
    "    for i in range(len(arr)): # Iterate through each element in array\n",
    "        if arr[i]<k: # If the element is less than k then we increment k by 1\n",
    "            k+=1\n",
    "        else:\n",
    "            break # When the element becomes greater than k we immediately stop\n",
    "    return k\n",
    "print(Brute_k_missing([2,3,4,7,11],5))"
   ]
  },
  {
   "cell_type": "markdown",
   "id": "03a18248",
   "metadata": {},
   "source": [
    "## Binary Logic"
   ]
  },
  {
   "cell_type": "code",
   "execution_count": 11,
   "id": "b026f500",
   "metadata": {},
   "outputs": [
    {
     "name": "stdout",
     "output_type": "stream",
     "text": [
      "9\n"
     ]
    }
   ],
   "source": [
    "def Binary_missing(arr,k):\n",
    "    low=0\n",
    "    high=len(arr)-1\n",
    "    while low<=high:\n",
    "        # Find the mid\n",
    "        mid=(low+high)//2\n",
    "        \n",
    "        # Find the Number of Missing Values\n",
    "        missing=arr[mid]-(mid+1)  # element - (index + 1)\n",
    "        \n",
    "        # Check if the Number of Missing Values are Less that or greater than k\n",
    "        if missing < k:\n",
    "            low=mid+1  # move right to find value > k\n",
    "        else:\n",
    "            high=mid-1 # Move left to find value < k\n",
    "        \n",
    "    return high+k+1 # We can also return low+k as the answer \n",
    "  \n",
    "print(Binary_missing([2,3,4,7,11],5))"
   ]
  },
  {
   "cell_type": "code",
   "execution_count": null,
   "id": "6d59f975",
   "metadata": {},
   "outputs": [],
   "source": []
  }
 ],
 "metadata": {
  "kernelspec": {
   "display_name": "Python 3 (ipykernel)",
   "language": "python",
   "name": "python3"
  },
  "language_info": {
   "codemirror_mode": {
    "name": "ipython",
    "version": 3
   },
   "file_extension": ".py",
   "mimetype": "text/x-python",
   "name": "python",
   "nbconvert_exporter": "python",
   "pygments_lexer": "ipython3",
   "version": "3.9.13"
  }
 },
 "nbformat": 4,
 "nbformat_minor": 5
}
