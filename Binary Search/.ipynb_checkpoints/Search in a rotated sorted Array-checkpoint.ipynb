{
 "cells": [
  {
   "cell_type": "markdown",
   "id": "573678a9",
   "metadata": {},
   "source": [
    "# Search in a rotated sorted Array"
   ]
  },
  {
   "cell_type": "markdown",
   "id": "05cd1d51",
   "metadata": {},
   "source": [
    "A rotated sorted array is an array that was initially sorted in ascending order but then rotated at some pivot.\n",
    "Example:\n",
    "Sorted Array → [1, 2, 3, 4, 5, 6, 7]\n",
    "Rotated Array → [4, 5, 6, 7, 1, 2, 3]\n",
    "\n",
    "- Steps to Search an Element Efficiently:\n",
    "- Find the mid-point (mid) of the array.\n",
    "- Check if the mid element is the target. If arr[mid] == target, return mid.\n",
    "- Determine which half is sorted.\n",
    "- If arr[low] ≤ arr[mid], it means left half is sorted.\n",
    "- Otherwise, right half is sorted.\n",
    "- Decide where to search next.\n",
    "- If the left half is sorted:\n",
    "- Check if the target is within arr[low] to arr[mid].\n",
    "- If yes, search left (high = mid - 1).\n",
    "- Otherwise, search right (low = mid + 1).\n",
    "- If the right half is sorted:\n",
    "- Check if the target is within arr[mid] to arr[high].\n",
    "- If yes, search right (low = mid + 1).\n",
    "- Otherwise, search left (high = mid - 1).\n",
    "- Repeat steps 1-4 using binary search until low > high.\n",
    "- If not found, return -1."
   ]
  },
  {
   "cell_type": "code",
   "execution_count": null,
   "id": "5f00e56b",
   "metadata": {},
   "outputs": [],
   "source": []
  }
 ],
 "metadata": {
  "kernelspec": {
   "display_name": "Python 3 (ipykernel)",
   "language": "python",
   "name": "python3"
  },
  "language_info": {
   "codemirror_mode": {
    "name": "ipython",
    "version": 3
   },
   "file_extension": ".py",
   "mimetype": "text/x-python",
   "name": "python",
   "nbconvert_exporter": "python",
   "pygments_lexer": "ipython3",
   "version": "3.9.13"
  }
 },
 "nbformat": 4,
 "nbformat_minor": 5
}
