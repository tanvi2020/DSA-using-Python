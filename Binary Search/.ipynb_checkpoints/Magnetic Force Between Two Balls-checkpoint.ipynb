{
 "cells": [
  {
   "cell_type": "markdown",
   "id": "e09a8964",
   "metadata": {},
   "source": [
    "# 🧩 Problem: Magnetic Force Between Two Balls 🧲⚽"
   ]
  },
  {
   "cell_type": "markdown",
   "id": "ed6a34c6",
   "metadata": {},
   "source": [
    "\n",
    "\n",
    "📄 Problem Statement:\n",
    "You are given an array positions[] — it contains the positions of n balls along a number line.\n",
    "\n",
    "You are asked to place m balls in these positions such that the minimum magnetic force between any two balls is as large as possible.\n",
    "\n",
    "The magnetic force between two balls at positions x and y is |x - y|.\n",
    "\n",
    "You need to find the maximum possible minimum force between any two balls.\n",
    "\n"
   ]
  },
  {
   "cell_type": "markdown",
   "id": "6b9d0e34",
   "metadata": {},
   "source": [
    "Input: positions = [1, 2, 8, 4, 9], m = 3 \n",
    "    \n",
    "Output: 3\n",
    "\n",
    "Explanation: Place balls at positions 1, 4, and 8. \n",
    "    \n",
    "The distances are [3, 4] → minimum = 3, which is the largest we can achieve."
   ]
  },
  {
   "cell_type": "markdown",
   "id": "d2d81384",
   "metadata": {},
   "source": [
    "# Brute force logic"
   ]
  },
  {
   "cell_type": "code",
   "execution_count": 17,
   "id": "1c2e780e",
   "metadata": {},
   "outputs": [
    {
     "name": "stdout",
     "output_type": "stream",
     "text": [
      "3\n"
     ]
    }
   ],
   "source": [
    "def Function(positions,m):\n",
    "    positions.sort()\n",
    "    max_force=positions[-1]-positions[0]\n",
    "    \n",
    "    for magforce in range(1,max_force+1):\n",
    "        if isPossible(magforce,positions,m)==True:\n",
    "            continue\n",
    "        else:\n",
    "            return (magforce-1)\n",
    "def isPossible(magforce,positions,m):\n",
    "    balls=1\n",
    "    first_ball=positions[0]\n",
    "    for i in range(len(positions)):\n",
    "        if abs(first_ball-positions[i])>=magforce:\n",
    "            balls+=1\n",
    "            first_ball=positions[i]\n",
    "        if balls==m:\n",
    "            return True\n",
    "    return False \n",
    "print(Function([1,2,8,4,9],3))\n",
    "            \n",
    "            "
   ]
  },
  {
   "cell_type": "markdown",
   "id": "086b7ed3",
   "metadata": {},
   "source": [
    "# Binary Logic"
   ]
  },
  {
   "cell_type": "code",
   "execution_count": 20,
   "id": "978c9543",
   "metadata": {},
   "outputs": [
    {
     "name": "stdout",
     "output_type": "stream",
     "text": [
      "3\n"
     ]
    }
   ],
   "source": [
    "def Binary(positions,m):\n",
    "    positions.sort()\n",
    "    low=1\n",
    "    high=(positions[-1]-positions[0])\n",
    "    answer=-1\n",
    "    while low<=high:\n",
    "        mid=(low+high)//2\n",
    "        if isPossible(positions,m,mid)==True:\n",
    "            answer=mid\n",
    "            low=mid+1\n",
    "        else:\n",
    "            high=mid-1\n",
    "    return answer\n",
    "def isPossible(positions,m,mid):\n",
    "    balls=1\n",
    "    first_ball=positions[0]\n",
    "    for i in range(len(positions)):\n",
    "        if abs(positions[i]-first_ball)>=mid:\n",
    "            balls+=1\n",
    "            first_ball=positions[i]\n",
    "        if balls==m:\n",
    "            return True\n",
    "    return False \n",
    "print(Binary([1,2,8,4,9],3))\n",
    "    "
   ]
  },
  {
   "cell_type": "code",
   "execution_count": null,
   "id": "cf7668cd",
   "metadata": {},
   "outputs": [],
   "source": []
  }
 ],
 "metadata": {
  "kernelspec": {
   "display_name": "Python 3 (ipykernel)",
   "language": "python",
   "name": "python3"
  },
  "language_info": {
   "codemirror_mode": {
    "name": "ipython",
    "version": 3
   },
   "file_extension": ".py",
   "mimetype": "text/x-python",
   "name": "python",
   "nbconvert_exporter": "python",
   "pygments_lexer": "ipython3",
   "version": "3.9.13"
  }
 },
 "nbformat": 4,
 "nbformat_minor": 5
}
