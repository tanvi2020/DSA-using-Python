{
 "cells": [
  {
   "cell_type": "markdown",
   "id": "62343e84",
   "metadata": {},
   "source": [
    "# Binary Search Recursive Logic "
   ]
  },
  {
   "cell_type": "code",
   "execution_count": 9,
   "id": "273046ed",
   "metadata": {},
   "outputs": [
    {
     "name": "stdout",
     "output_type": "stream",
     "text": [
      "3\n",
      "-1\n"
     ]
    }
   ],
   "source": [
    "def Binary(arr,low,high,target):\n",
    "    # Base condition : if low crosses high then target not found return -1\n",
    "    if low>high:\n",
    "        return -1\n",
    "    \n",
    "    # Define mid\n",
    "    mid=(low+high)//2\n",
    "    \n",
    "    # If target found, means target==arr[mid]\n",
    "    if target==arr[mid]:\n",
    "        return mid\n",
    "    elif target>arr[mid]: # if target is less than mid then consider right side and eliminate left side \n",
    "        return Binary(arr,mid+1,high,target)\n",
    "    else : # if target<arr[mid] then consider left side and eliminate right side \n",
    "        return Binary(arr,low,mid-1,target)\n",
    "    \n",
    "arr=[3,4,6,7,9,12,16,17]\n",
    "n=len(arr)-1\n",
    "print(Binary(arr,0,n,7))\n",
    "print(Binary(arr,0,n,15))"
   ]
  },
  {
   "cell_type": "code",
   "execution_count": null,
   "id": "d8eb1c6f",
   "metadata": {},
   "outputs": [],
   "source": []
  }
 ],
 "metadata": {
  "kernelspec": {
   "display_name": "Python 3 (ipykernel)",
   "language": "python",
   "name": "python3"
  },
  "language_info": {
   "codemirror_mode": {
    "name": "ipython",
    "version": 3
   },
   "file_extension": ".py",
   "mimetype": "text/x-python",
   "name": "python",
   "nbconvert_exporter": "python",
   "pygments_lexer": "ipython3",
   "version": "3.9.13"
  }
 },
 "nbformat": 4,
 "nbformat_minor": 5
}
