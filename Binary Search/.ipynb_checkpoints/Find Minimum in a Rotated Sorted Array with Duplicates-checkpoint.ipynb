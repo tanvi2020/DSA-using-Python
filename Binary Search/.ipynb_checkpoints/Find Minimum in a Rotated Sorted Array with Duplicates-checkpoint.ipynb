{
 "cells": [
  {
   "cell_type": "markdown",
   "id": "22e24f6b",
   "metadata": {},
   "source": [
    "# Find Minimum in a Rotated Sorted Array with Duplicates "
   ]
  },
  {
   "cell_type": "markdown",
   "id": "a89763e6",
   "metadata": {},
   "source": [
    "- 1️⃣ Find mid\n",
    "- 2️⃣ If arr[mid] > arr[high], minimum is in the right half → move low = mid + 1.\n",
    "- 3️⃣ If arr[mid] < arr[high], minimum is in the left half (including mid) → move high = mid.\n",
    "- 4️⃣ If arr[mid] == arr[high], we don’t know where the minimum is → shrink high -= 1.\n",
    "- 5️⃣ Eventually, low will point to the minimum element.\n",
    "\n",
    " ### Find the middle element (mid)\n",
    "- 2️⃣ If there are duplicates (arr[low] == arr[mid] == arr[high]), reduce search space smartly.\n",
    "- 3️⃣ Identify the sorted half:\n",
    "\n",
    "- If left half is sorted, the minimum could be arr[low], but we search right.\n",
    "- If right half is sorted, the minimum could be arr[mid], so we search left.\n",
    "- 4️⃣ Keep tracking the minimum (mini).\n",
    "- 5️⃣ Eventually, return the smallest value found. 🚀"
   ]
  },
  {
   "cell_type": "code",
   "execution_count": 9,
   "id": "43ada2f7",
   "metadata": {},
   "outputs": [
    {
     "name": "stdout",
     "output_type": "stream",
     "text": [
      "1\n",
      "1\n",
      "1\n"
     ]
    }
   ],
   "source": [
    "def Minimum_duplicates(arr):\n",
    "    low=0\n",
    "    high=len(arr)-1\n",
    "    while low<=high:\n",
    "        # Find mid\n",
    "        mid=(low+high)//2\n",
    "        # Check which half is sorted\n",
    "        if arr[mid]>arr[high]: # left half is sorted but we search right\n",
    "            low=mid+1\n",
    "        elif arr[mid]<arr[high] : # right half is sorted but we search left\n",
    "            high=mid # We do not subtract 1 from mid as mid can also be the minimum \n",
    "        else : # if arr[mid]==arr[high] then we need to shrink high\n",
    "            high-=1\n",
    "    return arr[low] # low will point to the minimum element\n",
    "print(Minimum_duplicates([3, 1, 2, 3, 3, 3, 3, 3]))  \n",
    "print(Minimum_duplicates([8, 8, 8, 7,5,1,2, 3, 3, 3, 3, 3, 3]))  \n",
    "print(Minimum_duplicates([3, 3, 3, 3, 3, 3, 3, 1, 3, 3, 3])) "
   ]
  },
  {
   "cell_type": "code",
   "execution_count": null,
   "id": "84015925",
   "metadata": {},
   "outputs": [],
   "source": []
  }
 ],
 "metadata": {
  "kernelspec": {
   "display_name": "Python 3 (ipykernel)",
   "language": "python",
   "name": "python3"
  },
  "language_info": {
   "codemirror_mode": {
    "name": "ipython",
    "version": 3
   },
   "file_extension": ".py",
   "mimetype": "text/x-python",
   "name": "python",
   "nbconvert_exporter": "python",
   "pygments_lexer": "ipython3",
   "version": "3.9.13"
  }
 },
 "nbformat": 4,
 "nbformat_minor": 5
}
