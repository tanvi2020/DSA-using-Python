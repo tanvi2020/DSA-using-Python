{
 "cells": [
  {
   "cell_type": "markdown",
   "id": "6e612a18",
   "metadata": {},
   "source": [
    "# Minimum Days to make M bouquets "
   ]
  },
  {
   "cell_type": "markdown",
   "id": "c812ab69",
   "metadata": {},
   "source": [
    "You are given an integer array bloomDay, an integer m and an integer k.\n",
    "\n",
    "You want to make m bouquets. To make a bouquet, you need to use k adjacent flowers from the garden.\n",
    "\n",
    "The garden consists of n flowers, the ith flower will bloom in the bloomDay[i] and then can be used in exactly one bouquet.\n",
    "\n",
    "Return the minimum number of days you need to wait to be able to make m bouquets from the garden. If it is impossible to make m bouquets return -1.\n",
    "\n",
    " \n",
    "\n",
    "- Example 1:\n",
    "\n",
    "Input: bloomDay = [1,10,3,10,2], m = 3, k = 1\n",
    "Output: 3\n",
    "Explanation: Let us see what happened in the first three days. x means flower bloomed and _ means flower did not bloom in the garden.\n",
    "We need 3 bouquets each should contain 1 flower.\n",
    "After day 1: [x, _, _, _, _]   // we can only make one bouquet.\n",
    "After day 2: [x, _, _, _, x]   // we can only make two bouquets.\n",
    "After day 3: [x, _, x, _, x]   // we can make 3 bouquets. The answer is 3.\n",
    "- Example 2:\n",
    "\n",
    "Input: bloomDay = [1,10,3,10,2], m = 3, k = 2\n",
    "Output: -1\n",
    "Explanation: We need 3 bouquets each has 2 flowers, that means we need 6 flowers. We only have 5 flowers so it is impossible to get the needed bouquets and we return -1.\n",
    "- Example 3:\n",
    "\n",
    "Input: bloomDay = [7,7,7,7,12,7,7], m = 2, k = 3\n",
    "Output: 12\n",
    "Explanation: We need 2 bouquets each should have 3 flowers.\n",
    "Here is the garden after the 7 and 12 days:\n",
    "After day 7: [x, x, x, x, _, x, x]\n",
    "We can make one bouquet of the first three flowers that bloomed. We cannot make another bouquet from the last three flowers that bloomed because they are not adjacent.\n",
    "After day 12: [x, x, x, x, x, x, x]\n",
    "It is obvious that we can make two bouquets in different ways.\n",
    " "
   ]
  },
  {
   "cell_type": "markdown",
   "id": "b8d34ebc",
   "metadata": {},
   "source": [
    "## Imagine you have a garden. Each flower in it blooms on a different day (given in the array).You want to make m bouquets, and each bouquet must have k flowers right next to each other (adjacent).Your goal is to find the minimum number of days you should wait so that you can collect m such bouquets from the garden."
   ]
  },
  {
   "cell_type": "markdown",
   "id": "b7652b50",
   "metadata": {},
   "source": [
    "# 🍭 Simple Intuition:\n",
    "We want to find the smallest day such that:\n",
    "\n",
    "There are enough flowers bloomed by that day\n",
    "\n",
    "We can group them into m bouquets\n",
    "\n",
    "Each bouquet has exactly k adjacent bloomed flowers"
   ]
  },
  {
   "cell_type": "markdown",
   "id": "3a802c12",
   "metadata": {},
   "source": [
    "-- Binary Search Idea:\n",
    "You don’t know the day exactly, so what do we do?\n",
    "We try different days using binary search! Here's how:\n",
    "\n",
    "Start with low = min(arr) and high = max(arr)\n",
    "\n",
    "Pick a day in the middle (mid)\n",
    "\n",
    "Check: Can we form m bouquets with k adjacent flowers on or before day mid?\n",
    "\n",
    "✅ Yes? → Try a smaller day (maybe you can get bouquets earlier!)\n",
    "\n",
    "❌ No? → Too early. Try waiting longer\n",
    "\n",
    "Keep doing this until you find the minimum day."
   ]
  },
  {
   "cell_type": "code",
   "execution_count": 1,
   "id": "f57d4569",
   "metadata": {},
   "outputs": [
    {
     "name": "stdout",
     "output_type": "stream",
     "text": [
      "13\n"
     ]
    }
   ],
   "source": [
    "def Possible(arr,day,m,k): # m is the minimum number of bouquets to form using k adjacent flowers\n",
    "    count=0\n",
    "    for i in range(0,len(arr)):\n",
    "        if arr[i]<=day:  # If the day is less or equal to the specified day then the flower has bloomed \n",
    "            count+=1\n",
    "        else: # If the day is greater than specified day means the flower has not yet bloomed \n",
    "            no_of_bouquets=count//k # We first store the count of how many bouquets with k adjacent flowers can be formed with count\n",
    "            count=0 # then we mark the next day as 0 since its greater than our specified day and flower has not bloomed yet\n",
    "    no_of_bouquets=count//k # In the end we make sure that the previous count we calculated is still with us\n",
    "    if no_of_bouquets>=m:\n",
    "        return True\n",
    "    else:\n",
    "        return False\n",
    "\n",
    "def Binary_flowers(arr,m,k):\n",
    "    low=min(arr) #The lowest day when a flower will bloom in the guven array of dates\n",
    "    high=max(arr)  #The max day for a flower to bloom in the given array of dates\n",
    "    ans=-1\n",
    "    while low<=high: # We traverse in the range of low to high \n",
    "        mid=(low+high)//2 # Find the mid\n",
    "        if (Possible(arr,mid,m,k))==True: # If Minimum Days to make M bouquets with k adjacent flowers condition is satisfied\n",
    "            ans=mid  \n",
    "            high=mid-1 # Try to find earlier day\n",
    "        else :\n",
    "            low=mid+1 # wait longer \n",
    "    return ans # If Condition failed and we do not form m bouquets \n",
    "        \n",
    "arr=[7,7,7,7,13,12,11,7]\n",
    "m=2\n",
    "k=3\n",
    "print(Binary_flowers(arr,m,k))"
   ]
  },
  {
   "cell_type": "markdown",
   "id": "709145c9",
   "metadata": {},
   "source": [
    "### But the Above code is returning me the wrong output because I am resetting no_of_bouquets to zero inside the loopThis line overwrites the no_of_bouquets each time instead of accumulating all the valid bouquets across the garden."
   ]
  },
  {
   "cell_type": "code",
   "execution_count": 2,
   "id": "5c40a2a5",
   "metadata": {},
   "outputs": [
    {
     "name": "stdout",
     "output_type": "stream",
     "text": [
      "12\n"
     ]
    }
   ],
   "source": [
    "def Possible(arr,day,m,k):\n",
    "    count=0\n",
    "    bouquet=0\n",
    "    for i in range(0,len(arr)):\n",
    "        if arr[i]<=day: # If the day is less than or equal to my specified day\n",
    "            count+=1 # Then increment the count by 1 indicating the flower has bloomed \n",
    "            if count==k : # If count of flower is qual to k adjacent flower required to form the bouquet\n",
    "                bouquet+=1 # A bouquet can be formed with k adjacent flowers \n",
    "                count=0 # Reset the count for next potential bouquet\n",
    "        else: # If day is greater than specified day then flower has not bloomed\n",
    "            count=0 # So we mark that day as 0\n",
    "    return bouquet>=m # If m or greater bouquets can be formed then only return the bouquet count\n",
    "def Binary_Flowers(arr,m,k):\n",
    "    low=min(arr)\n",
    "    high=max(arr)\n",
    "    ans=-1\n",
    "    while low<=high:\n",
    "        mid=(low+high)//2\n",
    "        if (Possible(arr,mid,m,k))==True:\n",
    "            ans=mid\n",
    "            high=mid-1 # Try to find an earlier day\n",
    "        else:\n",
    "            low=mid+1 # Wait Longer\n",
    "    return ans\n",
    "\n",
    "arr=[7,7,7,7,13,12,11,7]\n",
    "m=2\n",
    "k=3\n",
    "print(Binary_Flowers(arr,m,k))     \n",
    "                        "
   ]
  },
  {
   "cell_type": "code",
   "execution_count": null,
   "id": "912a7250",
   "metadata": {},
   "outputs": [],
   "source": []
  }
 ],
 "metadata": {
  "kernelspec": {
   "display_name": "Python 3 (ipykernel)",
   "language": "python",
   "name": "python3"
  },
  "language_info": {
   "codemirror_mode": {
    "name": "ipython",
    "version": 3
   },
   "file_extension": ".py",
   "mimetype": "text/x-python",
   "name": "python",
   "nbconvert_exporter": "python",
   "pygments_lexer": "ipython3",
   "version": "3.9.13"
  }
 },
 "nbformat": 4,
 "nbformat_minor": 5
}
