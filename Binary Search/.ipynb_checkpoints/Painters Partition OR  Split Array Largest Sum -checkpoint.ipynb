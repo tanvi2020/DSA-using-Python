{
 "cells": [
  {
   "cell_type": "markdown",
   "id": "a02809d5",
   "metadata": {},
   "source": [
    "# Painters Partition / Split Array Largest Sum "
   ]
  },
  {
   "cell_type": "code",
   "execution_count": 3,
   "id": "5f7eb8ca",
   "metadata": {},
   "outputs": [
    {
     "name": "stdout",
     "output_type": "stream",
     "text": [
      "60\n"
     ]
    }
   ],
   "source": [
    "# Main function to find the minimum time required to paint all walls using k painters\n",
    "def Func(arr, k):\n",
    "    low = max(arr)       # A painter must at least paint the largest wall\n",
    "    high = sum(arr)      # One painter paints all walls\n",
    "    time = -1            # To store the minimum time (our answer)\n",
    "    \n",
    "    while low <= high:\n",
    "        mid = (low + high) // 2  # Try middle value as potential minimum time\n",
    "        \n",
    "        required_painters = is_Possible(arr, mid)\n",
    "        \n",
    "        if required_painters <= k:\n",
    "            # If we can paint all walls using <= k painters in this mid time,\n",
    "            # then try to find a smaller possible time\n",
    "            time = mid\n",
    "            high = mid - 1\n",
    "        else:\n",
    "            # Too few painters for this time, need to increase allowed time\n",
    "            low = mid + 1\n",
    "    \n",
    "    return time  # Minimum time required\n",
    "\n",
    "# Function to check if a given max_time (mid) can be used to paint all walls using at most k painters\n",
    "def is_Possible(arr, mid):\n",
    "    painters = 1 # Start with 1 painter\n",
    "    walls = 0  # Track the sum of wall units painted by current painter\n",
    "    \n",
    "    for i in range(len(arr)):\n",
    "        # If current wall can be painted within mid time by this painter\n",
    "        if arr[i] + walls <= mid:\n",
    "            walls += arr[i]  # Add wall to current painter’s workload\n",
    "        else:\n",
    "            # Assign this wall to a new painter\n",
    "            painters += 1\n",
    "            walls = arr[i]  # Start counting new painter's workload\n",
    "            \n",
    "    return painters  # Return number of painters required for given mid time\n",
    "\n",
    "\n",
    "# Example usage:\n",
    "print(Func([10, 20, 30, 40], 2))  # Output: 60\n",
    "   \n",
    "    "
   ]
  },
  {
   "cell_type": "code",
   "execution_count": null,
   "id": "76c4353c",
   "metadata": {},
   "outputs": [],
   "source": []
  }
 ],
 "metadata": {
  "kernelspec": {
   "display_name": "Python 3 (ipykernel)",
   "language": "python",
   "name": "python3"
  },
  "language_info": {
   "codemirror_mode": {
    "name": "ipython",
    "version": 3
   },
   "file_extension": ".py",
   "mimetype": "text/x-python",
   "name": "python",
   "nbconvert_exporter": "python",
   "pygments_lexer": "ipython3",
   "version": "3.9.13"
  }
 },
 "nbformat": 4,
 "nbformat_minor": 5
}
