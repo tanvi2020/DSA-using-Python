{
 "cells": [
  {
   "cell_type": "markdown",
   "id": "3361789a",
   "metadata": {},
   "source": [
    "# Find How many times Array has been Rotated (Duplicates)"
   ]
  },
  {
   "cell_type": "code",
   "execution_count": 11,
   "id": "53789ee5",
   "metadata": {},
   "outputs": [
    {
     "name": "stdout",
     "output_type": "stream",
     "text": [
      "Number of times the array was rotated = 1\n",
      "Number of times the array was rotated = 4\n",
      "Number of times the array was rotated = 5\n"
     ]
    }
   ],
   "source": [
    "def index_duplicates(arr):\n",
    "    low=0\n",
    "    high=len(arr)-1\n",
    "    index=-1\n",
    "    #mini=float('inf')\n",
    "    while low<=high:\n",
    "        mid=(low+high)//2\n",
    "        \n",
    "        # Check which side is sorted \n",
    "        if arr[mid]>arr[high]: # Left is sorted but search Right\n",
    "            low=mid+1\n",
    "            \n",
    "        elif arr[mid]<arr[high]: # Right is sorted but search Left\n",
    "            high=mid # Just to avoid extra number of iterations as mid can also be the minimum\n",
    "            \n",
    "        else: # if arr[mid]==arr[high] duplicates \n",
    "            high-=1 # shrink high\n",
    "            \n",
    "    return f'Number of times the array was rotated = {low}'  #low will point to the minimum element\n",
    "print(index_duplicates([3, 1, 2, 3, 3, 3, 3, 3]))  \n",
    "print(index_duplicates([8, 8, 8, 7, 1, 2,2, 3, 3, 3, 3, 3]))  \n",
    "print(index_duplicates([3, 3, 3, 3, 3, 1, 3, 3, 3, 3, 3])) \n",
    "    "
   ]
  },
  {
   "cell_type": "code",
   "execution_count": null,
   "id": "8dd95be1",
   "metadata": {},
   "outputs": [],
   "source": []
  }
 ],
 "metadata": {
  "kernelspec": {
   "display_name": "Python 3 (ipykernel)",
   "language": "python",
   "name": "python3"
  },
  "language_info": {
   "codemirror_mode": {
    "name": "ipython",
    "version": 3
   },
   "file_extension": ".py",
   "mimetype": "text/x-python",
   "name": "python",
   "nbconvert_exporter": "python",
   "pygments_lexer": "ipython3",
   "version": "3.9.13"
  }
 },
 "nbformat": 4,
 "nbformat_minor": 5
}
