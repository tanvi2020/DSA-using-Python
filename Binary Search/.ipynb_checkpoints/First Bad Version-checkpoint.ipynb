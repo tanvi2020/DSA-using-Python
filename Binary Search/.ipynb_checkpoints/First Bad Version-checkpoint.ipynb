{
 "cells": [
  {
   "cell_type": "markdown",
   "id": "c84efa81",
   "metadata": {},
   "source": [
    "# 🔍 Problem 1: First Bad Version\n",
    "🧠 Problem Statement:\n",
    "\n",
    "\n",
    "You are a product tester. A company is developing a new product.\n",
    "\n",
    "You are given an API isBadVersion(version) which returns:\n",
    "\n",
    "\n",
    "True if the version is bad\n",
    "\n",
    "False if the version is good\n",
    "\n",
    "You need to find the first bad version out of n total versions.\n",
    "\n",
    "📌 All versions after the first bad version are also bad.\n",
    "\n",
    "Your goal is to find the earliest version that’s bad using minimum number of API calls.\n",
    "\n"
   ]
  },
  {
   "cell_type": "markdown",
   "id": "b6887491",
   "metadata": {},
   "source": [
    "n = 5  \n",
    "\n",
    "bad = 4  \n",
    "\n",
    "isBadVersion(1) → False \n",
    "\n",
    "isBadVersion(2) → False \n",
    "\n",
    "isBadVersion(3) → False \n",
    "\n",
    "isBadVersion(4) → True \n",
    "\n",
    "isBadVersion(5) → True  \n",
    "\n",
    "Output: 4\n"
   ]
  },
  {
   "cell_type": "code",
   "execution_count": 15,
   "id": "7f441e94",
   "metadata": {},
   "outputs": [
    {
     "name": "stdout",
     "output_type": "stream",
     "text": [
      "4\n"
     ]
    }
   ],
   "source": [
    "def Find_bad_version(n):\n",
    "    low=1\n",
    "    high=n\n",
    "    answer=-1\n",
    "    while low<=high:\n",
    "        mid=(low+high)//2\n",
    "        answer=isBadVersion(mid)\n",
    "        if answer==True:\n",
    "            answer=mid\n",
    "            high=mid-1\n",
    "        else:\n",
    "            low=mid+1\n",
    "    return answer\n",
    "def isBadVersion(version):\n",
    "    return version>=4\n",
    "   \n",
    "    \n",
    "print(Find_bad_version(10))"
   ]
  },
  {
   "cell_type": "code",
   "execution_count": null,
   "id": "866e19b6",
   "metadata": {},
   "outputs": [],
   "source": []
  }
 ],
 "metadata": {
  "kernelspec": {
   "display_name": "Python 3 (ipykernel)",
   "language": "python",
   "name": "python3"
  },
  "language_info": {
   "codemirror_mode": {
    "name": "ipython",
    "version": 3
   },
   "file_extension": ".py",
   "mimetype": "text/x-python",
   "name": "python",
   "nbconvert_exporter": "python",
   "pygments_lexer": "ipython3",
   "version": "3.9.13"
  }
 },
 "nbformat": 4,
 "nbformat_minor": 5
}
