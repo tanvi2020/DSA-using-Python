{
 "cells": [
  {
   "cell_type": "markdown",
   "id": "4a29e4d7",
   "metadata": {},
   "source": [
    "#  Koko Eating Bananas"
   ]
  },
  {
   "cell_type": "markdown",
   "id": "96bd167a",
   "metadata": {},
   "source": [
    "✅ Brute Force Approach\n",
    "🔧 Logic:\n",
    "Try all possible values of k from 1 to the max value in piles\n",
    "\n",
    "For each k, calculate total hours Koko takes\n",
    "\n",
    "If total hours ≤ h → it's a valid speed\n",
    "\n",
    "Return the smallest valid k\n",
    "\n",
    "🧠 Why brute force is slow?\n",
    "We check every speed up to max pile size. For large inputs, this is slow."
   ]
  },
  {
   "cell_type": "code",
   "execution_count": 8,
   "id": "f82a4e00",
   "metadata": {},
   "outputs": [
    {
     "data": {
      "text/plain": [
       "4"
      ]
     },
     "execution_count": 8,
     "metadata": {},
     "output_type": "execute_result"
    }
   ],
   "source": [
    "import math\n",
    "def Brute(piles,h):\n",
    "    max_piles=max(piles)\n",
    "    for k in range(1,max_piles+1):\n",
    "        total_time=0\n",
    "        for p in piles:\n",
    "            total_time+=math.ceil(p/k)\n",
    "        if total_time<=h:\n",
    "            return k\n",
    "    return max_piles\n",
    "Brute([3,6,7,11],8)"
   ]
  },
  {
   "cell_type": "markdown",
   "id": "673093d7",
   "metadata": {},
   "source": [
    "🚀 Binary Search Optimization\n",
    "🔧 Binary Search Logic:\n",
    "Minimum speed (low) = 1\n",
    "\n",
    "Maximum speed (high) = max(piles)\n",
    "\n",
    "Binary search for the minimum k such that total hours ≤ h\n",
    "\n",
    "In each step:\n",
    "\n",
    "Calculate mid = (low + high) // 2\n",
    "\n",
    "Calculate total hours at this speed\n",
    "\n",
    "If hours ≤ h → maybe we can go slower → high = mid - 1\n",
    "\n",
    "Else → too slow → low = mid + 1\n",
    "\n"
   ]
  },
  {
   "cell_type": "code",
   "execution_count": 11,
   "id": "bb03d547",
   "metadata": {},
   "outputs": [
    {
     "data": {
      "text/plain": [
       "4"
      ]
     },
     "execution_count": 11,
     "metadata": {},
     "output_type": "execute_result"
    }
   ],
   "source": [
    "def Binary_Koko(piles,h): \n",
    "    low=1 # Minimum 1 banana can be eaten per hour \n",
    "    high=max(piles)# Storing the maximum element of piles as the maximum number of bananas that can be eaten per hour\n",
    "    result=high # start with the highest speed of eating bananas \n",
    "    while low<=high:\n",
    "        mid=(low+high)//2\n",
    "        total_time=fun(piles,mid)\n",
    "        if total_time<=h:\n",
    "            result=mid\n",
    "            high=mid-1\n",
    "        else:\n",
    "            low=mid+1\n",
    "    return result\n",
    "def fun(piles,speed):\n",
    "    time=0\n",
    "    for pile in piles:\n",
    "        time+=math.ceil(pile/speed)\n",
    "    return time\n",
    "Binary_Koko([3,6,7,11],8)"
   ]
  },
  {
   "cell_type": "code",
   "execution_count": null,
   "id": "801a3d32",
   "metadata": {},
   "outputs": [],
   "source": []
  }
 ],
 "metadata": {
  "kernelspec": {
   "display_name": "Python 3 (ipykernel)",
   "language": "python",
   "name": "python3"
  },
  "language_info": {
   "codemirror_mode": {
    "name": "ipython",
    "version": 3
   },
   "file_extension": ".py",
   "mimetype": "text/x-python",
   "name": "python",
   "nbconvert_exporter": "python",
   "pygments_lexer": "ipython3",
   "version": "3.9.13"
  }
 },
 "nbformat": 4,
 "nbformat_minor": 5
}
