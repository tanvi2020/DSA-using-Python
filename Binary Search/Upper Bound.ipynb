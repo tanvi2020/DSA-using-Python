{
 "cells": [
  {
   "cell_type": "markdown",
   "id": "3b09889e",
   "metadata": {},
   "source": [
    "# Upper Bound\n",
    "Upper Bound is the lowest index value such that arr[mid]>target"
   ]
  },
  {
   "cell_type": "code",
   "execution_count": 9,
   "id": "204b9371",
   "metadata": {},
   "outputs": [
    {
     "name": "stdout",
     "output_type": "stream",
     "text": [
      "2\n"
     ]
    }
   ],
   "source": [
    "def upper(arr,target):\n",
    "    low=0\n",
    "    high=len(arr)-1\n",
    "    result=len(arr)\n",
    "    while low<high:\n",
    "        mid=(low+high)//2\n",
    "        if arr[mid]>target:\n",
    "            result=mid\n",
    "            high=mid-1\n",
    "        else:\n",
    "            low=mid+1\n",
    "    return result\n",
    "arr=[1,2,3,3,4,5,8,8,9,9,11]\n",
    "print(upper(arr,1))\n",
    "            "
   ]
  },
  {
   "cell_type": "code",
   "execution_count": null,
   "id": "434a677b",
   "metadata": {},
   "outputs": [],
   "source": []
  }
 ],
 "metadata": {
  "kernelspec": {
   "display_name": "Python 3 (ipykernel)",
   "language": "python",
   "name": "python3"
  },
  "language_info": {
   "codemirror_mode": {
    "name": "ipython",
    "version": 3
   },
   "file_extension": ".py",
   "mimetype": "text/x-python",
   "name": "python",
   "nbconvert_exporter": "python",
   "pygments_lexer": "ipython3",
   "version": "3.9.13"
  }
 },
 "nbformat": 4,
 "nbformat_minor": 5
}
