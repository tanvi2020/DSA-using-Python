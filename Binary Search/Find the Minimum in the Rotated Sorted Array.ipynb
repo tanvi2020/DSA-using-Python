{
 "cells": [
  {
   "cell_type": "markdown",
   "id": "e27a369b",
   "metadata": {},
   "source": [
    "# Find the Minimum in the Rotated Sorted Array"
   ]
  },
  {
   "cell_type": "markdown",
   "id": "ddf1f1c6",
   "metadata": {},
   "source": [
    "## Steps :\n",
    "- Find the mid element \n",
    "- check which half is sorted - left / right half\n",
    "- If left half is sorted then , minimum element of the left half will be index 0 element and for right half the minimum value will be at the mid index. Update minimum with the minimum value of left/right half and eliminate the left half(low=mid+1) or the right half (high=mid-1)\n",
    "- If we find a value which is less than the minimum value then only the minimum value will get updated \n",
    "- Repeat these steps until we get the final answer\n"
   ]
  },
  {
   "cell_type": "code",
   "execution_count": 3,
   "id": "41990763",
   "metadata": {
    "scrolled": true
   },
   "outputs": [
    {
     "name": "stdout",
     "output_type": "stream",
     "text": [
      "1\n",
      "1\n",
      "1\n",
      "2\n"
     ]
    }
   ],
   "source": [
    "def Minimum_rotated(arr):\n",
    "    low=0\n",
    "    high=len(arr)-1\n",
    "    mini=float('inf')\n",
    "    while low<=high:\n",
    "        mid=(low+high)//2\n",
    "        \n",
    "         # Additional Condition If a search space left / right half is already sorted then we return the arr[low] and break\n",
    "        # if arr[low]<=arr[mid] and arr[mid]<=arr[high] ... so this can be written as if arr[low]<=arr[high] means sorted\n",
    "        if arr[low]<=arr[high]:\n",
    "            mini=min(mini,arr[low])\n",
    "            break\n",
    "            \n",
    "        # Check which half is sorted\n",
    "        \n",
    "        if arr[low]<=arr[mid]: # Then left half is sorted \n",
    "            # Update the mini value with the minimum value of the sorted half\n",
    "            mini=min(mini,arr[low]) # The minimum value of left side is always the first value . and if the first value of low\n",
    "            # is greater than mini then mini value won't get updated.\n",
    "            low=mid+1 # After updating eliminate the left half\n",
    "\n",
    "        else : # if arr[high]>arr[mid] then right half is sorted\n",
    "            mini=min(mini,arr[mid]) # The minimum value for the right side will always lie at the mid position\n",
    "            high=mid-1 # After updating eliminate the right half\n",
    "            \n",
    "       \n",
    "    return mini # in the end return the minimum value\n",
    "\n",
    "print(Minimum_rotated([1,2,3,4,5,6]))\n",
    "print(Minimum_rotated([1,2]))\n",
    "print(Minimum_rotated([4,5,1,2,3]))\n",
    "print(Minimum_rotated([4,5,6,2,3]))\n"
   ]
  },
  {
   "cell_type": "code",
   "execution_count": null,
   "id": "e8b3d998",
   "metadata": {},
   "outputs": [],
   "source": [
    "# Find the Minimum in the Rotated Sorted Array\n",
    "\n",
    "## Steps :\n",
    "- Find the mid element \n",
    "- check which half is sorted - left / right half\n",
    "- If left half is sorted then , minimum element of the left half will be index 0 element and for right half the minimum value will be at the mid index. Update minimum with the minimum value of left/right half and eliminate the left half(low=mid+1) or the right half (high=mid-1)\n",
    "- If we find a value which is less than the minimum value then only the minimum value will get updated \n",
    "- Repeat these steps until we get the final answer\n",
    "\n",
    "\n",
    "def Minimum_rotated(arr):\n",
    "    low=0\n",
    "    high=len(arr)-1\n",
    "    mini=float('inf')\n",
    "    while low<=high:\n",
    "        mid=(low+high)//2\n",
    "        \n",
    "         # Additional Condition If a search space left / right half is already sorted then we return the arr[low] and break\n",
    "        # if arr[low]<=arr[mid] and arr[mid]<=arr[high] ... so this can be written as if arr[low]<=arr[high] means sorted\n",
    "        if arr[low]<=arr[high]:\n",
    "            mini=min(mini,arr[low])\n",
    "            break\n",
    "            \n",
    "        # Check which half is sorted\n",
    "        \n",
    "        if arr[low]<=arr[mid]: # Then left half is sorted \n",
    "            # Update the mini value with the minimum value of the sorted half\n",
    "            mini=min(mini,arr[low]) # The minimum value of left side is always the first value . and if the first value of low\n",
    "            # is greater than mini then mini value won't get updated.\n",
    "            low=mid+1 # After updating eliminate the left half\n",
    "\n",
    "        else : # if arr[high]>arr[mid] then right half is sorted\n",
    "            mini=min(mini,arr[mid]) # The minimum value for the right side will always lie at the mid position\n",
    "            high=mid-1 # After updating eliminate the right half\n",
    "            \n",
    "       \n",
    "    return mini # in the end return the minimum value\n",
    "\n",
    "print(Minimum_rotated([1,2,3,4,5,6]))\n",
    "print(Minimum_rotated([1,2]))\n",
    "print(Minimum_rotated([4,5,1,2,3]))\n",
    "print(Minimum_rotated([4,5,6,2,3]))\n"
   ]
  }
 ],
 "metadata": {
  "kernelspec": {
   "display_name": "Python 3 (ipykernel)",
   "language": "python",
   "name": "python3"
  },
  "language_info": {
   "codemirror_mode": {
    "name": "ipython",
    "version": 3
   },
   "file_extension": ".py",
   "mimetype": "text/x-python",
   "name": "python",
   "nbconvert_exporter": "python",
   "pygments_lexer": "ipython3",
   "version": "3.9.13"
  }
 },
 "nbformat": 4,
 "nbformat_minor": 5
}
