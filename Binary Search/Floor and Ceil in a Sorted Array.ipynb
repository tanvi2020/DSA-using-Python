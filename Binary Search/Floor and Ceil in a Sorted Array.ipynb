{
 "cells": [
  {
   "cell_type": "markdown",
   "id": "e1980228",
   "metadata": {},
   "source": [
    "# Floor and Ceil in a Sorted Array\n",
    "- Floor : Largest Element in an array <= target\n",
    "- Ceil : Smallest Element in an array >= target (lower bound)"
   ]
  },
  {
   "cell_type": "code",
   "execution_count": 14,
   "id": "eb71b39e",
   "metadata": {},
   "outputs": [
    {
     "name": "stdout",
     "output_type": "stream",
     "text": [
      "5\n"
     ]
    }
   ],
   "source": [
    "# Find Floor\n",
    "def floor(arr,target):\n",
    "    low=0\n",
    "    high=len(arr)-1\n",
    "    answer=len(arr)\n",
    "    while low<=high:\n",
    "        mid=(low+high)//2\n",
    "        if arr[mid]<=target:\n",
    "            answer=arr[mid]\n",
    "            low=mid+1\n",
    "        else:\n",
    "            high=mid-1\n",
    "    return answer\n",
    "arr=[1,2,3,5,8,9,10]\n",
    "print(floor(arr,7))\n",
    "        "
   ]
  },
  {
   "cell_type": "code",
   "execution_count": 15,
   "id": "a38ef694",
   "metadata": {},
   "outputs": [
    {
     "name": "stdout",
     "output_type": "stream",
     "text": [
      "3\n"
     ]
    }
   ],
   "source": [
    "def ceil(arr,target):\n",
    "    low=0\n",
    "    high=len(arr)-1\n",
    "    result=len(arr)\n",
    "    while low<=high:\n",
    "        mid=(low+high)//2\n",
    "        if arr[mid]>=target:\n",
    "            result=arr[mid]\n",
    "            high=mid-1\n",
    "        else:\n",
    "            low=mid+1\n",
    "    return result\n",
    "arr=[1,2,3,5,8,9,10]\n",
    "print(ceil(arr,3))"
   ]
  },
  {
   "cell_type": "code",
   "execution_count": null,
   "id": "28f4d9bc",
   "metadata": {},
   "outputs": [],
   "source": []
  }
 ],
 "metadata": {
  "kernelspec": {
   "display_name": "Python 3 (ipykernel)",
   "language": "python",
   "name": "python3"
  },
  "language_info": {
   "codemirror_mode": {
    "name": "ipython",
    "version": 3
   },
   "file_extension": ".py",
   "mimetype": "text/x-python",
   "name": "python",
   "nbconvert_exporter": "python",
   "pygments_lexer": "ipython3",
   "version": "3.9.13"
  }
 },
 "nbformat": 4,
 "nbformat_minor": 5
}
