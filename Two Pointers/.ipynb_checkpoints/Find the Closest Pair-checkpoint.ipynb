{
 "cells": [
  {
   "cell_type": "markdown",
   "id": "6473067c",
   "metadata": {},
   "source": [
    "# Find the Closest Pair"
   ]
  },
  {
   "cell_type": "markdown",
   "id": "7b2bb26d",
   "metadata": {},
   "source": [
    "Problem Statement: Find the Closest Pair\n",
    "You are given two sorted arrays and a target sum. The goal is to find one element from each array such that their sum is closest to the target.\n",
    "\n",
    "Example:\n",
    "Input:\n",
    "Array 1: [1, 4, 6]\n",
    "Array 2: [3, 8, 10]\n",
    "Target: 14\n",
    "Output:\n",
    "Closest Pair: (4, 10)\n",
    "Explanation: The sum of 4 (from Array 1) and 10 (from Array 2) is 14, which exactly matches the target.\n",
    "Another Example:\n",
    "Array 1: [1, 3, 7, 10]\n",
    "\n",
    "Array 2: [2, 4, 9]\n",
    "\n",
    "Target: 13\n",
    "\n",
    "Closest Pair: (7, 4)\n",
    "Explanation:\n",
    "Possible sums are:\n",
    "\n",
    "1+4=5 (too low)\n",
    "3+4=7 (closer)\n",
    "7+4=11 (closer)\n",
    "10+4=14 (closer but not exact).\n",
    "The closest pair is (7, 4) with a sum of 11, closest to 13.\n",
    "\n",
    "Key Characteristics of the Problem:\n",
    "Two Input Arrays:\n",
    "\n",
    "Each array is sorted in ascending order.\n",
    "Target Sum:\n",
    "\n",
    "A given number that represents the \"desired\" sum.\n",
    "Objective:\n",
    "\n",
    "Find a pair (x, y) such that:\n",
    "x is from the first array.\n",
    "y is from the second array.\n",
    "The absolute difference between x + y and the target is the smallest among all pairs.\n",
    "Minimize: abs((x + y) - target).\n",
    "Constraints:\n",
    "\n",
    "Both arrays may have different lengths.\n",
    "The arrays may contain positive, negative, or zero values.\n",
    "Why Use the Two-Pointer Technique?\n",
    "Since the arrays are sorted:\n",
    "\n",
    "Start with one pointer (i) at the beginning of the first array and another pointer (j) at the end of the second array.\n",
    "The sorted order allows us to adjust the sum dynamically:\n",
    "If the current sum is less than the target, move the left pointer (i) forward to increase the sum.\n",
    "If the current sum is greater than the target, move the right pointer (j) backward to decrease the sum.\n",
    "This makes the approach efficient, with a time complexity of O(n + m), where n and m are the lengths of the two arrays.\n",
    "Steps to Solve:\n",
    "Initialize Pointers:\n",
    "\n",
    "Start i = 0 (beginning of Array 1) and j = len(Array2) - 1 (end of Array 2).\n",
    "Track the Closest Pair:\n",
    "\n",
    "Keep a variable closest_pair to store the pair with the closest sum to the target.\n",
    "Use another variable min_diff to store the smallest difference between the sum and the target.\n",
    "Calculate Sum and Difference:\n",
    "\n",
    "At every step, calculate the sum of the two elements: sum = arr1[i] + arr2[j].\n",
    "Calculate the absolute difference: diff = abs(target - sum).\n",
    "Update Closest Pair:\n",
    "\n",
    "If the diff is smaller than min_diff, update min_diff and set closest_pair = (arr1[i], arr2[j]).\n",
    "Adjust Pointers:\n",
    "\n",
    "If sum < target, increment i (move right in Array 1 to increase the sum).\n",
    "If sum > target, decrement j (move left in Array 2 to decrease the sum).\n",
    "Continue until i >= len(Array1) or j < 0.\n",
    "Return the Closest Pair:\n",
    "\n",
    "After completing the loop, return the closest_pair.\n"
   ]
  },
  {
   "cell_type": "code",
   "execution_count": 1,
   "id": "ab733e63",
   "metadata": {},
   "outputs": [
    {
     "name": "stdout",
     "output_type": "stream",
     "text": [
      "(5, 30)\n"
     ]
    }
   ],
   "source": [
    "def ClosestPair(arr1,arr2,target):\n",
    " \n",
    "    left=0\n",
    "    right=len(arr2)-1\n",
    "    closest_pair=None # A variable to store the closest sum to the target\n",
    "    min_diff=float('inf') # to store the min difference between sum and target\n",
    "    while left<len(arr1) and right>=0:\n",
    "        sums=arr1[left]+arr2[right]\n",
    "        diff=abs(target-sums)\n",
    "        if diff<min_diff:\n",
    "            min_diff=diff\n",
    "            closest_pair=(arr1[left],arr2[right])\n",
    "        if sums<target:\n",
    "            left+=1\n",
    "        else:\n",
    "            right-=1\n",
    " \n",
    "    return closest_pair\n",
    "print(ClosestPair([1,2,3,4,5],[10,20,30,40,50],36))\n",
    "    "
   ]
  },
  {
   "cell_type": "code",
   "execution_count": null,
   "id": "106ad66e",
   "metadata": {},
   "outputs": [],
   "source": []
  }
 ],
 "metadata": {
  "kernelspec": {
   "display_name": "Python 3 (ipykernel)",
   "language": "python",
   "name": "python3"
  },
  "language_info": {
   "codemirror_mode": {
    "name": "ipython",
    "version": 3
   },
   "file_extension": ".py",
   "mimetype": "text/x-python",
   "name": "python",
   "nbconvert_exporter": "python",
   "pygments_lexer": "ipython3",
   "version": "3.9.13"
  }
 },
 "nbformat": 4,
 "nbformat_minor": 5
}
