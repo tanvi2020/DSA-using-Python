{
 "cells": [
  {
   "cell_type": "markdown",
   "id": "016f0f02",
   "metadata": {},
   "source": [
    "# Move Zeroes to the End"
   ]
  },
  {
   "cell_type": "markdown",
   "id": "80c5b518",
   "metadata": {},
   "source": [
    "3. Move Zeroes to the End\n",
    "Scenario:\n",
    "You are managing an inventory system, and you have a list of item counts. Some items have zero stock, and you want to move all the zero-stock items to the end of the list while maintaining the relative order of the rest.\n",
    "\n",
    "Input:\n",
    "inventory = [5, 0, 3, 0, 12]\n",
    "Output: [5, 3, 12, 0, 0]\n"
   ]
  },
  {
   "cell_type": "code",
   "execution_count": 1,
   "id": "102c8946",
   "metadata": {},
   "outputs": [
    {
     "name": "stdout",
     "output_type": "stream",
     "text": [
      "[5, 3, 12, 0, 0]\n"
     ]
    }
   ],
   "source": [
    "class Inventory:\n",
    "    def zeros(self,arr):\n",
    "        i=0\n",
    "        for j in range(0,len(arr)):\n",
    "            if arr[j]!=0:\n",
    "                arr[i]=arr[j]\n",
    "                i+=1\n",
    "       # Fill the rest with zeros\n",
    "        for j in range(i, len(arr)):\n",
    "            arr[j] = 0\n",
    "\n",
    "        return arr\n",
    "    \n",
    "o=Inventory()\n",
    "result=o.zeros([5, 0, 3, 0, 12])\n",
    "print(result)"
   ]
  },
  {
   "cell_type": "code",
   "execution_count": null,
   "id": "03d6afd7",
   "metadata": {},
   "outputs": [],
   "source": []
  }
 ],
 "metadata": {
  "kernelspec": {
   "display_name": "Python 3 (ipykernel)",
   "language": "python",
   "name": "python3"
  },
  "language_info": {
   "codemirror_mode": {
    "name": "ipython",
    "version": 3
   },
   "file_extension": ".py",
   "mimetype": "text/x-python",
   "name": "python",
   "nbconvert_exporter": "python",
   "pygments_lexer": "ipython3",
   "version": "3.9.13"
  }
 },
 "nbformat": 4,
 "nbformat_minor": 5
}
