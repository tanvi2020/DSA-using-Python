{
 "cells": [
  {
   "cell_type": "markdown",
   "id": "b9933e4a",
   "metadata": {},
   "source": [
    "#  Remove Duplicates from Sorted Array"
   ]
  },
  {
   "cell_type": "markdown",
   "id": "02a2ba65",
   "metadata": {},
   "source": [
    "Problem: Remove Duplicates from Sorted Array\n",
    "\n",
    "Scenario:\n",
    "You're managing a sorted inventory list, and some items are repeated. Your task is to remove the duplicates so that each item appears only once, and you need to do this with minimal space usage.\n",
    "\n",
    "How would you approach this using the two-pointer technique?\n",
    "What would the two pointers represent in this case?\n",
    "What are the edge cases to consider here?"
   ]
  },
  {
   "cell_type": "code",
   "execution_count": 1,
   "id": "16d02e9d",
   "metadata": {},
   "outputs": [
    {
     "data": {
      "text/plain": [
       "[1, 2, 3, 4, 5]"
      ]
     },
     "execution_count": 1,
     "metadata": {},
     "output_type": "execute_result"
    }
   ],
   "source": [
    "def fun(arr):\n",
    "    i=0\n",
    "    for j in range(1,len(arr)):\n",
    "        if arr[i]!=arr[j]:\n",
    "            i+=1\n",
    "            arr[i]=arr[j]\n",
    "    return arr[:i+1]\n",
    "\n",
    "fun([1,2,3,3,3,4,5])\n",
    "    "
   ]
  },
  {
   "cell_type": "code",
   "execution_count": null,
   "id": "1fa9b5ef",
   "metadata": {},
   "outputs": [],
   "source": []
  }
 ],
 "metadata": {
  "kernelspec": {
   "display_name": "Python 3 (ipykernel)",
   "language": "python",
   "name": "python3"
  },
  "language_info": {
   "codemirror_mode": {
    "name": "ipython",
    "version": 3
   },
   "file_extension": ".py",
   "mimetype": "text/x-python",
   "name": "python",
   "nbconvert_exporter": "python",
   "pygments_lexer": "ipython3",
   "version": "3.9.13"
  }
 },
 "nbformat": 4,
 "nbformat_minor": 5
}
