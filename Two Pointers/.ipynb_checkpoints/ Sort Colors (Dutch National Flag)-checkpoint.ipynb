{
 "cells": [
  {
   "cell_type": "markdown",
   "id": "05d698d6",
   "metadata": {},
   "source": [
    "# Sort Colors (Dutch National Flag)"
   ]
  },
  {
   "cell_type": "markdown",
   "id": "bfbe0a6c",
   "metadata": {},
   "source": [
    "Sort Colors (Dutch National Flag):\n",
    "Sort an array with elements 0, 1, and 2 without using extra space.\n",
    "\n",
    "For this problem we will we given an array of 0's , 1's and 2's . Our goal is to sort the array elements without creating a new\n",
    "array . \n",
    "So for this problem we will be using three pointers : low mid and high . mid will be the pointer which won't move until and \n",
    "unless any swaps are done in left or right pointers . \n",
    "So our array will have the below basic structure \n",
    "--> low to low-1 will be all the 0's\n",
    "--> mid to mid-1 will be all the 1's\n",
    "--> mid to high will be all the Unsorted elements 0's 1's and 2's\n",
    "--> high+1 to n-1 will be all 2's where n is the size of the array\n",
    "intially keep low=mid=0 and  high=n-1\n",
    "Now we need to sort the elements so how will that structure look like? Below is its structure\n",
    "  00000        11111        010122       22222\n",
    "Low  Low-1   Mid  Mid-1  Mid   High    High+1 n-1\n",
    "What we need to do here is we need to swap the unsorted elements. But How? So 0's are low so they will go on the left\n",
    "1's will stay as it is and since 2's are high they will go to the right . \n",
    "\n",
    "Now what Happens if \n",
    "If mid==0  Swap(array[low],aray[mid]) and increment mid and low by 1\n",
    "if mid==1  Skip 1 and move to the next element by incrementing Mid \n",
    "If mid==2  Swap(array[high],array[mid]) and decrement high \n",
    "\n",
    "In the end return the array\n",
    "\n",
    "\n",
    "In this problem, we are given an array consisting of 0s, 1s, and 2s, and our task is to sort this array without using any extra space. The algorithm uses three pointers: low, mid, and high.\n",
    "\n",
    "Here's a breakdown of the steps:\n",
    "\n",
    "Pointer Initialization:\n",
    "\n",
    "low: Keeps track of the boundary for the 0s.\n",
    "mid: Keeps track of the current element being processed.\n",
    "high: Keeps track of the boundary for the 2s.\n",
    "Initially, set:\n",
    "\n",
    "low = 0\n",
    "mid = 0\n",
    "high = n - 1 (where n is the length of the array).\n",
    "Partitioning the Array: The idea is to move low, mid, and high pointers to partition the array into 3 sections:\n",
    "\n",
    "From the start to low - 1, the array should contain all the 0s.\n",
    "From low to mid - 1, the array should contain all the 1s.\n",
    "From mid to high, the array should contain unsorted elements (0s, 1s, or 2s).\n",
    "From high + 1 to the end of the array, the array should contain all the 2s.\n",
    "Swapping Logic: The algorithm runs in a single pass by adjusting the positions of low, mid, and high based on the value of array[mid]:\n",
    "\n",
    "If array[mid] == 0: Swap array[low] and array[mid], then increment both low and mid by 1 (since we have placed a 0 at the correct position).\n",
    "If array[mid] == 1: Just increment mid (since 1s are already in the right section).\n",
    "If array[mid] == 2: Swap array[high] and array[mid], then decrement high (since we need to move the 2 to the right section without changing mid).\n",
    "Termination Condition: The algorithm continues until mid exceeds high, which means all elements have been sorted into their correct sections.\n"
   ]
  },
  {
   "cell_type": "code",
   "execution_count": 1,
   "id": "881ccc11",
   "metadata": {},
   "outputs": [
    {
     "name": "stdout",
     "output_type": "stream",
     "text": [
      "[0, 0, 0, 0, 0, 1, 1, 1, 1, 2, 2]\n"
     ]
    }
   ],
   "source": [
    "def Colors(array):\n",
    "    low=0\n",
    "    mid=0\n",
    "    high=len(array)-1\n",
    "    while mid<=high:\n",
    "        if array[mid]==0:\n",
    "            array[low],array[mid]=array[mid],array[low]\n",
    "            mid+=1\n",
    "            low+=1\n",
    "        elif array[mid]==1:\n",
    "            mid+=1\n",
    "        else: # array[mid]=2\n",
    "            array[high],array[mid]=array[mid],array[high]\n",
    "            high-=1\n",
    "    return array\n",
    "\n",
    "print(Colors([0,1,1,0,1,2,1,2,0,0,0]))      "
   ]
  },
  {
   "cell_type": "code",
   "execution_count": null,
   "id": "7c080106",
   "metadata": {},
   "outputs": [],
   "source": []
  }
 ],
 "metadata": {
  "kernelspec": {
   "display_name": "Python 3 (ipykernel)",
   "language": "python",
   "name": "python3"
  },
  "language_info": {
   "codemirror_mode": {
    "name": "ipython",
    "version": 3
   },
   "file_extension": ".py",
   "mimetype": "text/x-python",
   "name": "python",
   "nbconvert_exporter": "python",
   "pygments_lexer": "ipython3",
   "version": "3.9.13"
  }
 },
 "nbformat": 4,
 "nbformat_minor": 5
}
