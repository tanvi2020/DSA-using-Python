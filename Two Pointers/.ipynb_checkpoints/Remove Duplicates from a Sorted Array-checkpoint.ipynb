{
 "cells": [
  {
   "cell_type": "markdown",
   "id": "cb12d0d1",
   "metadata": {},
   "source": [
    "# Remove Duplicates from a Sorted Array "
   ]
  },
  {
   "cell_type": "markdown",
   "id": "b5ee31f4",
   "metadata": {},
   "source": [
    "2. Remove Duplicates from a Sorted Array\n",
    "Scenario:\n",
    "You run a bakery, and every day you receive a sorted list of customer IDs. \n",
    "You want to remove duplicate IDs from the list to keep track of unique customers.\n",
    "\n",
    "Input:\n",
    "customer_ids = [1, 1, 2, 3, 3, 4, 5, 5]\n",
    "Output: A list of unique customer IDs, maintaining the order.\n",
    "    \n",
    "For this questions we will maintain two pointer i and j, i will identify unique elements and j will be used to traverse the\n",
    "array . If i-value != j-value then increment i by 1 and set value at i = value of j . If the value of i and j matches then\n",
    "j will keep moving forward until i-value != j-value and once this is True then i will be again increment by one and the value\n",
    "of j will be copied in the new position of i. By doing this the unique elements will be shifted towards the left side of the \n",
    "array and the duplicates will go to the right. To extract only the unique elements, we will slice the array upto i+1 since i\n",
    "is the one maintaining unique elements. \n"
   ]
  },
  {
   "cell_type": "code",
   "execution_count": 1,
   "id": "5252e998",
   "metadata": {},
   "outputs": [
    {
     "name": "stdout",
     "output_type": "stream",
     "text": [
      "[15, 20, 25, 30, 40]\n"
     ]
    }
   ],
   "source": [
    "class Duplicates:\n",
    "    def Bakery(self,arr):\n",
    "        if not arr:\n",
    "            return 'Please enter an array'\n",
    "        i=0\n",
    "        for j in range(1,len(arr)):  # j will traverse the array starting from 1 since i=0 \n",
    "            if arr[i]!=arr[j]: # if the value in i and j positions are different then\n",
    "                i+=1 # shift i by one postion \n",
    "                arr[i]=arr[j]  # update the value of j into i\n",
    "        return arr[:i+1]  #Slicing array to just keep the unique elemets\n",
    "        \n",
    "o = Duplicates()\n",
    "result = o.Bakery([15, 20, 20, 25, 30, 30, 40])\n",
    "print(result)  \n",
    "                "
   ]
  },
  {
   "cell_type": "code",
   "execution_count": null,
   "id": "98d96165",
   "metadata": {},
   "outputs": [],
   "source": []
  }
 ],
 "metadata": {
  "kernelspec": {
   "display_name": "Python 3 (ipykernel)",
   "language": "python",
   "name": "python3"
  },
  "language_info": {
   "codemirror_mode": {
    "name": "ipython",
    "version": 3
   },
   "file_extension": ".py",
   "mimetype": "text/x-python",
   "name": "python",
   "nbconvert_exporter": "python",
   "pygments_lexer": "ipython3",
   "version": "3.9.13"
  }
 },
 "nbformat": 4,
 "nbformat_minor": 5
}
