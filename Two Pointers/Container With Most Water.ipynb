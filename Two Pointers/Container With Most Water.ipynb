{
 "cells": [
  {
   "cell_type": "markdown",
   "id": "e19cc411",
   "metadata": {},
   "source": [
    "# Container With Most Water"
   ]
  },
  {
   "cell_type": "markdown",
   "id": "43b187eb",
   "metadata": {},
   "source": [
    "You are given an integer array height of length n. There are n vertical lines drawn such that the two endpoints of the ith line are (i, 0) and (i, height[i]).\n",
    "\n",
    "Find two lines that together with the x-axis form a container, such that the container contains the most water.\n",
    "\n",
    "Return the maximum amount of water a container can store.\n",
    "\n",
    "Input: height = [1,8,6,2,5,4,8,3,7]\n",
    "Output: 49\n",
    "Explanation: The above vertical lines are represented by array [1,8,6,2,5,4,8,3,7].\n",
    "In this case, the max area of water (blue section) the container can contain is 49.\n",
    "\n",
    "\n",
    "The basic logic behind this problem is that, we are given an array of heights consider them as the walls of the container,\n",
    "left wall and the right wall , the width of the container will be the difference between the right and the left wall . \n",
    "How much water will fit in the container will depend upon the bar with minimum height . So if left=4 and right=7 then \n",
    "the water can fit only upto level 4.The area of the container will be the product of width and Water_fit. \n",
    "We have to return the Max container that is the container which has the maximum area. \n",
    "Since the water_fit will depend upon the height of the minimum wall of either left or right, we will be chceking the heights of\n",
    "left and right walls , if left is minimum , increment left if right is minimum decrement right"
   ]
  },
  {
   "cell_type": "code",
   "execution_count": 1,
   "id": "d872b009",
   "metadata": {},
   "outputs": [
    {
     "name": "stdout",
     "output_type": "stream",
     "text": [
      "49\n"
     ]
    }
   ],
   "source": [
    "# Brute Force Approach \n",
    "def Water_Container(height):\n",
    "    max_container=0\n",
    "    for i in range(len(height)):\n",
    "        for j in range(i+1,len(height)):\n",
    "            width=j-1\n",
    "            water_fit=min(height[i],height[j])\n",
    "            area=width*water_fit\n",
    "            max_container=max(max_container,area)\n",
    "    return max_container\n",
    "\n",
    "print(Water_Container([1,8,6,2,5,4,8,3,7]))\n"
   ]
  },
  {
   "cell_type": "code",
   "execution_count": 2,
   "id": "1d43d46a",
   "metadata": {},
   "outputs": [
    {
     "name": "stdout",
     "output_type": "stream",
     "text": [
      "49\n"
     ]
    }
   ],
   "source": [
    "# Two pointer Approach\n",
    "def Water_container(height):\n",
    "    max_container=0  #To store the area of container with the maximum area\n",
    "    left=0\n",
    "    right=len(height)-1\n",
    "    while left<right:\n",
    "        width=right-left  # Width will be the difference between the left and right walls of the container \n",
    "        \n",
    "        # The height of the contianer will depend on the wall which is of minimum height \n",
    "        container_height=min(height[left],height[right]) \n",
    "        \n",
    "        area_of_container=width*container_height\n",
    "        \n",
    "        # Check for the wall with minimum height and shift left/right pointers accordingly .\n",
    "        if height[left]<height[right]:\n",
    "            left+=1\n",
    "        else:\n",
    "            right-=1\n",
    "        max_container=max(max_container,area_of_container) # Store the value of the max container \n",
    "    return max_container\n",
    "print(Water_container([1,8,6,2,5,4,8,3,7]))"
   ]
  },
  {
   "cell_type": "code",
   "execution_count": null,
   "id": "6f93fe77",
   "metadata": {},
   "outputs": [],
   "source": []
  }
 ],
 "metadata": {
  "kernelspec": {
   "display_name": "Python 3 (ipykernel)",
   "language": "python",
   "name": "python3"
  },
  "language_info": {
   "codemirror_mode": {
    "name": "ipython",
    "version": 3
   },
   "file_extension": ".py",
   "mimetype": "text/x-python",
   "name": "python",
   "nbconvert_exporter": "python",
   "pygments_lexer": "ipython3",
   "version": "3.9.13"
  }
 },
 "nbformat": 4,
 "nbformat_minor": 5
}
