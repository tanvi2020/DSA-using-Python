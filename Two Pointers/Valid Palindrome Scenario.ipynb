{
 "cells": [
  {
   "cell_type": "markdown",
   "id": "a1b7b5df",
   "metadata": {},
   "source": [
    "# Valid Palindrome Scenario"
   ]
  },
  {
   "cell_type": "markdown",
   "id": "ed1386b2",
   "metadata": {},
   "source": [
    "Valid Palindrome\n",
    "Scenario:\n",
    "Your friend sends you a message, and you want to check if the message is a palindrome after removing non-alphanumeric characters and ignoring case.\n",
    "\n",
    "Input:\n",
    "message = \"A man, a plan, a canal: Panama\"\n",
    "Output: True"
   ]
  },
  {
   "cell_type": "code",
   "execution_count": 1,
   "id": "e376eb6e",
   "metadata": {},
   "outputs": [
    {
     "name": "stdout",
     "output_type": "stream",
     "text": [
      "True\n",
      "False\n"
     ]
    }
   ],
   "source": [
    "def palindrome(str):\n",
    "    new=''.join([x.lower() for x in str if x.isalnum()])\n",
    "    return new==new[::-1]\n",
    "print(palindrome(\"A man, a plan, a canal: Panama\"))\n",
    "print(palindrome(\"Spill the tea\"))\n",
    "        "
   ]
  },
  {
   "cell_type": "code",
   "execution_count": null,
   "id": "81fd52e2",
   "metadata": {},
   "outputs": [],
   "source": []
  }
 ],
 "metadata": {
  "kernelspec": {
   "display_name": "Python 3 (ipykernel)",
   "language": "python",
   "name": "python3"
  },
  "language_info": {
   "codemirror_mode": {
    "name": "ipython",
    "version": 3
   },
   "file_extension": ".py",
   "mimetype": "text/x-python",
   "name": "python",
   "nbconvert_exporter": "python",
   "pygments_lexer": "ipython3",
   "version": "3.9.13"
  }
 },
 "nbformat": 4,
 "nbformat_minor": 5
}
