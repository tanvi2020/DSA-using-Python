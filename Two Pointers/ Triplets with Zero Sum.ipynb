{
 "cells": [
  {
   "cell_type": "markdown",
   "id": "de9eb8a3",
   "metadata": {},
   "source": [
    "# Triplets with Zero Sum"
   ]
  },
  {
   "cell_type": "markdown",
   "id": "2da6e6c3",
   "metadata": {},
   "source": [
    "\t\t\t\n",
    "\t\t1. First, we sort the array in ascending order. This helps us use the two-pointer technique effectively, as the array is           now ordered.\n",
    "\t\t2. We pick one element at a time (arr[i]) to be the first element of the triplet. This element is fixed for now, and we            will look for two other numbers (using pointers) to complete the triplet. Those will be left and right. \n",
    "\t\t3. If the current number arr[i] is the same as the previous number, we skip it to avoid duplicate triplets. If arr[1] ==            arr[0], skip the iteration for i = 1.\n",
    "\t\t4. After fixing the first element, we use two pointers:\n",
    "\t\t\t• left: Starts from the next element (i + 1).\n",
    "\t\t\t• right: Starts from the last element of the array\n",
    "\t\t5. Then we calculate sum \n",
    "\t\tCalculate the sum of the three numbers:\n",
    "\t\ttotal = arr[i] + arr[left] + arr[right]\n",
    "\t\t6. The we chcek if Total is zero . If total == 0, it means we found a valid triplet!\n",
    "\t\tAdd the triplet [arr[i], arr[left], arr[right]] to the result list.\n",
    "\t\t7. Handle the Case Where Sum is Less or Greater Than Zero:\n",
    "\t\t\t• If total < 0:\n",
    "\t\t\t\t○ Increment the left pointer to increase the sum (since the array is sorted, moving left to the right increases                   the value).\n",
    "\t\t\t• If total > 0:\n",
    "\t\t\t\t○ Decrement the right pointer to decrease the sum (moving right to the left decreases the value).\n",
    "\t\t8. Skip Duplicate Values for Left and Right Pointers:\n",
    "\t\t\t○ If there are duplicate values for left or right, skip them to avoid adding the same triplet multiple times.\n",
    "\t\t\t○ Example: If arr[left] == arr[left + 1], increment left.\n",
    "\t\t9. Repeat the Process:\n",
    "\t\t\t○ Keep adjusting the left and right pointers until they cross (left >= right).\n",
    "\t\t\t○ Move to the next i and repeat the process until all triplets are checked.\n",
    "\t\t10. Return Result as answer\n"
   ]
  },
  {
   "cell_type": "code",
   "execution_count": 2,
   "id": "cf5b607a",
   "metadata": {},
   "outputs": [
    {
     "name": "stdout",
     "output_type": "stream",
     "text": [
      "[[-1, -1, 2], [-1, 0, 1]]\n"
     ]
    }
   ],
   "source": [
    "def threeSum(arr):\n",
    "    arr.sort()\n",
    "    n=len(arr)\n",
    "    result=[]  \n",
    "    for i in range(n-2):\n",
    "        if i>0 and arr[i]==arr[i-1]:\n",
    "            continue\n",
    "        left=i+1\n",
    "        right=n-1\n",
    "        while left<right:\n",
    "            sums=arr[i]+arr[left]+arr[right]\n",
    "            if sums<0:\n",
    "                left+=1\n",
    "            elif sums>0:\n",
    "                right-=1\n",
    "            else:\n",
    "                result.append([arr[i],arr[left],arr[right]])\n",
    "                left+=1\n",
    "                right-=1\n",
    "                while left<right and arr[left]==arr[left-1]:\n",
    "                    left+=1\n",
    "                while left<right and arr[right]==arr[right+1]:\n",
    "                    right-=1\n",
    "    return result\n",
    "    \n",
    "print(threeSum([-1, 0, 1, 2, -1, -4]))           \n",
    "                           \n",
    "            "
   ]
  },
  {
   "cell_type": "code",
   "execution_count": null,
   "id": "27e49db5",
   "metadata": {},
   "outputs": [],
   "source": []
  }
 ],
 "metadata": {
  "kernelspec": {
   "display_name": "Python 3 (ipykernel)",
   "language": "python",
   "name": "python3"
  },
  "language_info": {
   "codemirror_mode": {
    "name": "ipython",
    "version": 3
   },
   "file_extension": ".py",
   "mimetype": "text/x-python",
   "name": "python",
   "nbconvert_exporter": "python",
   "pygments_lexer": "ipython3",
   "version": "3.9.13"
  }
 },
 "nbformat": 4,
 "nbformat_minor": 5
}
