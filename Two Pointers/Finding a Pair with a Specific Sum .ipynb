{
 "cells": [
  {
   "cell_type": "markdown",
   "id": "a14a5ae1",
   "metadata": {},
   "source": [
    "# Finding a Pair with a Specific Sum "
   ]
  },
  {
   "cell_type": "markdown",
   "id": "b384d85c",
   "metadata": {},
   "source": [
    "1. Finding a Pair with a Specific Sum\n",
    "Scenario:\n",
    "You are organizing a party, and you want to give a gift to two guests whose ages add up to exactly 50. The list of guest ages is sorted. Find the two ages that sum up to 50.\n",
    "\n",
    "Input:\n",
    "ages = [15, 20, 25, 30, 35, 40]\n",
    "Target: 50\n",
    "\n",
    "Say suppose start =15 and end = 40 . The below code will check whether the addition of start+end matches the target . If \n",
    "the sum > target then we will reduce the end by sfiting it one position to the left direction but if the sum < target then we\n",
    "have to increase the value of the start by shifting it one position to the right . This required the array to be Sorted."
   ]
  },
  {
   "cell_type": "code",
   "execution_count": 1,
   "id": "93fd0e95",
   "metadata": {},
   "outputs": [
    {
     "data": {
      "text/plain": [
       "'The ages 15 and 35 sum up to 50'"
      ]
     },
     "execution_count": 1,
     "metadata": {},
     "output_type": "execute_result"
    }
   ],
   "source": [
    "class Gifts:\n",
    "    def twoages(self,ages,target):\n",
    "        start=0 \n",
    "       # print(start)\n",
    "        end=len(ages)-1\n",
    "       # print(end)\n",
    "        while start<end:\n",
    "            sum=ages[start]+ages[end] # sum = Addition of the start and end position values \n",
    "            if sum==target:\n",
    "                return f'The ages {ages[start]} and {ages[end]} sum up to {target}' # using return statement for the loop to stop at the first pair that matches target\n",
    "            if sum<target:\n",
    "                start+=1  # Increasing start value by1 by Shifting it to the right\n",
    "            else:\n",
    "                end-=1  # Decreasing end value by 1 by shifting it to the left\n",
    "        return None\n",
    "o=Gifts()\n",
    "o.twoages([15, 20, 25, 30, 35, 40],50)\n"
   ]
  },
  {
   "cell_type": "code",
   "execution_count": null,
   "id": "81ed0522",
   "metadata": {},
   "outputs": [],
   "source": []
  }
 ],
 "metadata": {
  "kernelspec": {
   "display_name": "Python 3 (ipykernel)",
   "language": "python",
   "name": "python3"
  },
  "language_info": {
   "codemirror_mode": {
    "name": "ipython",
    "version": 3
   },
   "file_extension": ".py",
   "mimetype": "text/x-python",
   "name": "python",
   "nbconvert_exporter": "python",
   "pygments_lexer": "ipython3",
   "version": "3.9.13"
  }
 },
 "nbformat": 4,
 "nbformat_minor": 5
}
