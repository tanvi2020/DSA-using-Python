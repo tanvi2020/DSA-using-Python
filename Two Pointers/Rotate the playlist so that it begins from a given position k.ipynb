{
 "cells": [
  {
   "cell_type": "markdown",
   "id": "b64c4d7d",
   "metadata": {},
   "source": [
    "# Rotate the playlist so that it begins from a given position k"
   ]
  },
  {
   "cell_type": "markdown",
   "id": "721b2540",
   "metadata": {},
   "source": [
    "You are managing a playlist for a party. The playlist is a list of songs, and the DJ wants to start the list from a specific song and continue in order. You need to rotate the playlist so that it begins from a given position k.\n",
    "\n",
    "Example:\n",
    "Input: playlist = [1, 2, 3, 4, 5, 6, 7], k = 3\n",
    "Output: [4, 5, 6, 7, 1, 2, 3]\n",
    "    \n",
    "Using two pointers \n",
    "i and k for this problem is a good start, but here's how you'd approach it conceptually:\n",
    "\n",
    "Pointer \n",
    "i: Starts at the beginning of the array (index 0).\n",
    "Pointer \n",
    "k: Points to the index where the rotation should start (given in the problem).\n",
    "Approach:\n",
    "Step 1: Split the array into two parts: one from the start to k−1 and the other from k to the end.\n",
    "Step 2: Rearrange these two parts so that the second part comes first, followed by the first part.\n",
    "If you try to directly \"rotate\" using pointers, you might need extra logic to move elements one by one, \n",
    "which is less efficient. Instead, you can simply slice and rearrange \n"
   ]
  },
  {
   "cell_type": "code",
   "execution_count": 1,
   "id": "2228dd5a",
   "metadata": {},
   "outputs": [
    {
     "name": "stdout",
     "output_type": "stream",
     "text": [
      "first_part =  [1, 2, 3]\n",
      "second_part =  [4, 5]\n",
      "[4, 5, 1, 2, 3]\n"
     ]
    }
   ],
   "source": [
    "arr = [1, 2, 3, 4, 5]\n",
    "k = 3\n",
    "first_part=arr[0:3]\n",
    "second_part=arr[3:]\n",
    "print('first_part = ',first_part)\n",
    "print('second_part = ',second_part)\n",
    "arr=second_part+first_part\n",
    "print(arr)"
   ]
  },
  {
   "cell_type": "code",
   "execution_count": null,
   "id": "212060eb",
   "metadata": {},
   "outputs": [],
   "source": []
  }
 ],
 "metadata": {
  "kernelspec": {
   "display_name": "Python 3 (ipykernel)",
   "language": "python",
   "name": "python3"
  },
  "language_info": {
   "codemirror_mode": {
    "name": "ipython",
    "version": 3
   },
   "file_extension": ".py",
   "mimetype": "text/x-python",
   "name": "python",
   "nbconvert_exporter": "python",
   "pygments_lexer": "ipython3",
   "version": "3.9.13"
  }
 },
 "nbformat": 4,
 "nbformat_minor": 5
}
