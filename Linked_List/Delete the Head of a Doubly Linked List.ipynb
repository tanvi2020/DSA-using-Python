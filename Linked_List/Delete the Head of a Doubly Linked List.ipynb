{
 "cells": [
  {
   "cell_type": "markdown",
   "id": "ec4d73a1",
   "metadata": {},
   "source": [
    "# Delete the Head of a Doubly Linked List\n",
    "\n",
    "## Step 1: What does the head node have?\n",
    "- It has a .data value.\n",
    "\n",
    "- It has a .next pointer to the second node.\n",
    "\n",
    "- It has a .prev pointer which should be None (since it’s the head).\n",
    "\n",
    "The second node (i.e., head.next) should become the new head.\n",
    "\n",
    "We should set new_head.prev = None to break the link back to the old head.\n"
   ]
  },
  {
   "cell_type": "code",
   "execution_count": 11,
   "id": "06b34d84",
   "metadata": {},
   "outputs": [
    {
     "name": "stdout",
     "output_type": "stream",
     "text": [
      "Forward: \n",
      "2->3->4->5->None\n",
      "Backward\n",
      "5->4->3->2->None\n",
      "Forward: \n",
      "None\n",
      "Backward\n",
      "None\n"
     ]
    }
   ],
   "source": [
    "class Node:\n",
    "    def __init__(self,value):\n",
    "        self.data=value\n",
    "        self.next=None\n",
    "        self.prev=None\n",
    "\n",
    "def create_doubly_list(values):\n",
    "    head=Node(values[0])\n",
    "    mover=head\n",
    "    for v in values[1:]:\n",
    "        new_node=Node(v) # Create the new node\n",
    "        mover.next=new_node # Mover your next will be new node\n",
    "        new_node.prev=mover # new node your previous will be mover\n",
    "        mover=new_node # mover move to the new node\n",
    "        \n",
    "    return head\n",
    "\n",
    "def delete_head(head):\n",
    "    if head.next is None or head is None:\n",
    "        return None\n",
    "    else:\n",
    "        new_head=head.next # the new node will store the second node as the head \n",
    "        new_head.prev=None  # Make sure the previous points to None\n",
    "    \n",
    "    return new_head # return the new head node\n",
    "\n",
    "def print_list(head):\n",
    "    current=head\n",
    "    last=None\n",
    "    \n",
    "    print('Forward: ')\n",
    "    while current:\n",
    "        print(current.data,end='->')\n",
    "        last=current\n",
    "        current=current.next\n",
    "    print('None')\n",
    "    \n",
    "    \n",
    "    print('Backward')\n",
    "    while last:\n",
    "        print(last.data,end='->')\n",
    "        last=last.prev\n",
    "    print('None')\n",
    "    \n",
    "\n",
    "values=[1,2,3,4,5]\n",
    "head=create_doubly_list(values)\n",
    "d=delete_head(head)\n",
    "print_list(d) \n",
    "\n",
    "values2=[10]\n",
    "head2=create_doubly_list(values2)\n",
    "d2=delete_head(head2)\n",
    "print_list(d2) \n"
   ]
  },
  {
   "cell_type": "code",
   "execution_count": null,
   "id": "5bf1c7c7",
   "metadata": {},
   "outputs": [],
   "source": []
  }
 ],
 "metadata": {
  "kernelspec": {
   "display_name": "Python 3 (ipykernel)",
   "language": "python",
   "name": "python3"
  },
  "language_info": {
   "codemirror_mode": {
    "name": "ipython",
    "version": 3
   },
   "file_extension": ".py",
   "mimetype": "text/x-python",
   "name": "python",
   "nbconvert_exporter": "python",
   "pygments_lexer": "ipython3",
   "version": "3.9.13"
  }
 },
 "nbformat": 4,
 "nbformat_minor": 5
}
