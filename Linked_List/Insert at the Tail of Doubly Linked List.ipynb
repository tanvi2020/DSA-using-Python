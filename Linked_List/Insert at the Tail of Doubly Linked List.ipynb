{
 "cells": [
  {
   "cell_type": "markdown",
   "id": "92c0dd91",
   "metadata": {},
   "source": [
    "# Insert at the Tail of DOubly Linked List"
   ]
  },
  {
   "cell_type": "code",
   "execution_count": 22,
   "id": "9953995a",
   "metadata": {},
   "outputs": [
    {
     "name": "stdout",
     "output_type": "stream",
     "text": [
      "Forward : \n",
      "1->2->3->4->5->100->None\n",
      "Backward : \n",
      "100->5->4->3->2->1->None\n"
     ]
    }
   ],
   "source": [
    "class Node:\n",
    "    def __init__(self,value):\n",
    "        self.data=value\n",
    "        self.next=None\n",
    "        self.prev=None\n",
    "        \n",
    "def create_doubly_list(values):\n",
    "    head=Node(values[0])\n",
    "    mover=head\n",
    "    for v in values[1:]:\n",
    "        new_node=Node(v)\n",
    "        mover.next=new_node\n",
    "        new_node.prev=mover\n",
    "        mover=mover.next\n",
    "    return head\n",
    "\n",
    "def insert_tail(head,val):\n",
    "    temp=head\n",
    "    while temp.next is not None:\n",
    "        temp=temp.next\n",
    "    \n",
    "    new_node=Node(val)\n",
    "    temp.next=new_node\n",
    "    new_node.prev=temp\n",
    "    return head\n",
    "\n",
    "def print_list(head):\n",
    "    current=head\n",
    "    last=None\n",
    "    \n",
    "    print('Forward : ')\n",
    "    while current:\n",
    "        print(current.data,end='->')\n",
    "        last=current # Before moving forward store the current node in last\n",
    "        current=current.next # Then shift current ahead\n",
    "    print('None')\n",
    "    \n",
    "    print('Backward : ')\n",
    "    while last:\n",
    "        print(last.data,end='->')\n",
    "        last=last.prev\n",
    "    print('None')\n",
    "    \n",
    "values=[1,2,3,4,5]\n",
    "head=create_doubly_list(values)\n",
    "i=insert_tail(head,100)\n",
    "print_list(i) "
   ]
  },
  {
   "cell_type": "code",
   "execution_count": null,
   "id": "dc9db010",
   "metadata": {},
   "outputs": [],
   "source": []
  }
 ],
 "metadata": {
  "kernelspec": {
   "display_name": "Python 3 (ipykernel)",
   "language": "python",
   "name": "python3"
  },
  "language_info": {
   "codemirror_mode": {
    "name": "ipython",
    "version": 3
   },
   "file_extension": ".py",
   "mimetype": "text/x-python",
   "name": "python",
   "nbconvert_exporter": "python",
   "pygments_lexer": "ipython3",
   "version": "3.9.13"
  }
 },
 "nbformat": 4,
 "nbformat_minor": 5
}
