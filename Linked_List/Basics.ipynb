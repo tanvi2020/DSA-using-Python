{
 "cells": [
  {
   "cell_type": "markdown",
   "id": "9b88c5d7",
   "metadata": {},
   "source": [
    "## Basic structure of a linked list\n",
    "It’s just a chain of boxes.\n",
    "Each box has:\n",
    "\n",
    "Some data (like a number)\n",
    "\n",
    "A pointer to the next box (like an arrow)\n",
    "\n",
    "So instead of everything sitting in memory side-by-side (like arrays), the boxes are linked one after the other using arrows →→→\n",
    "\n",
    "[10 | →] → [20 | →] → [30 | None]"
   ]
  },
  {
   "cell_type": "code",
   "execution_count": 6,
   "id": "0dd7e85b",
   "metadata": {},
   "outputs": [
    {
     "name": "stdout",
     "output_type": "stream",
     "text": [
      "<__main__.Node object at 0x000001EDC08E5B20> <__main__.Node object at 0x000001EDC08E5610> <__main__.Node object at 0x000001EDC08E5CA0>\n",
      "10 20 30\n"
     ]
    }
   ],
   "source": [
    "class Node:\n",
    "    def __init__(self,value):\n",
    "        self.data=value\n",
    "        self.next=None\n",
    "node1=Node(10)\n",
    "node2=Node(20)\n",
    "node3=Node(30)\n",
    "node1.next=node2\n",
    "node2.next=node3\n",
    "node3.next=None\n",
    "print(node1,node2,node3)  # will print the memory locations\n",
    "print(node1.data,node2.data,node3.data)# will print the values "
   ]
  },
  {
   "cell_type": "markdown",
   "id": "d14da0b2",
   "metadata": {},
   "source": [
    "Output :  This is a Node object in memory, and here’s where it lives.”"
   ]
  },
  {
   "cell_type": "code",
   "execution_count": 8,
   "id": "e3547893",
   "metadata": {},
   "outputs": [
    {
     "name": "stdout",
     "output_type": "stream",
     "text": [
      "10 -> 20 -> 30 -> None\n"
     ]
    }
   ],
   "source": [
    "class Node: # Node class is acting like a custom data structure which has two values : Data and next memory location\n",
    "    def __init__(self,value): \n",
    "        self.data=value  # the data variable will store the value\n",
    "        self.next=None # The next is initially None but it will store the next value's memmory location\n",
    "node1=Node(10)\n",
    "node2=Node(20)\n",
    "node3=Node(30)\n",
    "node1.next=node2\n",
    "node2.next=node3\n",
    "node3.next=None\n",
    "\n",
    "def print_list(head):\n",
    "    current_node=head\n",
    "    while current_node:\n",
    "        print(current_node.data,end=' -> ')\n",
    "        current_node=current_node.next\n",
    "    print(None)\n",
    "\n",
    "print_list(node1)"
   ]
  },
  {
   "cell_type": "markdown",
   "id": "1fd3bcc9",
   "metadata": {},
   "source": [
    "# what if we try to give a list of nodes like nodes=[10,20,30,40,50] "
   ]
  },
  {
   "cell_type": "code",
   "execution_count": 11,
   "id": "846411e8",
   "metadata": {},
   "outputs": [
    {
     "name": "stdout",
     "output_type": "stream",
     "text": [
      "10->20->30->40->50->None\n"
     ]
    }
   ],
   "source": [
    "class Node: #[10|memory][20|memory][30|None]\n",
    "    def __init__(self,value):\n",
    "        self.data=value \n",
    "        self.next=None\n",
    "def create_linked_list(values): #[10,20,30,40,50]\n",
    "    head=Node(values[0]) #  You create the first node of the linked list that is your head \n",
    "    current=head # head → [10 | None] ← current   \n",
    "    for v in values[1:]: #[20,30,40,50]\n",
    "        current.next=Node(v) # You create a new node with the next value (like 20) And link it to the previous node using .next\n",
    "        current=current.next # current → [20 | None]\n",
    "    return head\n",
    "def print_list(head):\n",
    "    while head:\n",
    "        print(head.data,end='->')\n",
    "        head=head.next\n",
    "    print('None')\n",
    "values = [10, 20, 30, 40, 50]\n",
    "head = create_linked_list(values)\n",
    "print_list(head)"
   ]
  },
  {
   "cell_type": "code",
   "execution_count": 12,
   "id": "d321966c",
   "metadata": {},
   "outputs": [
    {
     "name": "stdout",
     "output_type": "stream",
     "text": [
      "10->20->30->40->50->None\n"
     ]
    }
   ],
   "source": [
    "class Node:\n",
    "    def __init__(self,value):\n",
    "        self.data=value\n",
    "        self.next=None\n",
    "def create_linked_list(values):\n",
    "    head=Node(values[0])\n",
    "    mover=head\n",
    "    for v in values[1:]:\n",
    "        mover.next=Node(v)\n",
    "        mover=mover.next\n",
    "    return head\n",
    "def print_list(head):\n",
    "    while head:\n",
    "        print(head.data,end='->')\n",
    "        head=head.next\n",
    "    print('None')\n",
    "values = [10, 20, 30, 40, 50]\n",
    "head = create_linked_list(values)\n",
    "print_list(head)\n",
    "\n",
    "        "
   ]
  },
  {
   "cell_type": "markdown",
   "id": "96c44c4d",
   "metadata": {},
   "source": [
    "A small issue here is that I am tempering the head . and the head should remain as is it actually"
   ]
  },
  {
   "cell_type": "markdown",
   "id": "b6acb707",
   "metadata": {},
   "source": [
    "## Optimized version of the code "
   ]
  },
  {
   "cell_type": "code",
   "execution_count": 13,
   "id": "e6a1f65c",
   "metadata": {},
   "outputs": [
    {
     "name": "stdout",
     "output_type": "stream",
     "text": [
      "10->20->30->40->50->None\n"
     ]
    }
   ],
   "source": [
    "class Node:\n",
    "    def __init__(self,value):\n",
    "        self.data=value\n",
    "        self.next=None\n",
    "\n",
    "def create_linked_list(values):\n",
    "    head=Node(values[0])\n",
    "    mover=head\n",
    "    for v in values[1:]:\n",
    "        mover.next=Node(v)\n",
    "        mover=mover.next\n",
    "    return head\n",
    "\n",
    "def print_list(head):\n",
    "    current=head\n",
    "    while current:\n",
    "        print(current.data,end='->')\n",
    "        current=current.next\n",
    "    print('None')\n",
    "values = [10, 20, 30, 40, 50]\n",
    "head = create_linked_list(values)\n",
    "print_list(head)\n"
   ]
  },
  {
   "cell_type": "code",
   "execution_count": null,
   "id": "7745d284",
   "metadata": {},
   "outputs": [],
   "source": []
  }
 ],
 "metadata": {
  "kernelspec": {
   "display_name": "Python 3 (ipykernel)",
   "language": "python",
   "name": "python3"
  },
  "language_info": {
   "codemirror_mode": {
    "name": "ipython",
    "version": 3
   },
   "file_extension": ".py",
   "mimetype": "text/x-python",
   "name": "python",
   "nbconvert_exporter": "python",
   "pygments_lexer": "ipython3",
   "version": "3.9.13"
  }
 },
 "nbformat": 4,
 "nbformat_minor": 5
}
