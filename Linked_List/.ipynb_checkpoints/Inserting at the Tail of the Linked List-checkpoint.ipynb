{
 "cells": [
  {
   "cell_type": "markdown",
   "id": "50460914",
   "metadata": {},
   "source": [
    "# Inserting at the Tail of the Linked List\n",
    "\n",
    "- temp = head\n",
    "- Until temp.next is not None move temp forward and traverse \n",
    "- Once temp.next is None then Create a new Node\n",
    "- Point temp.next -> new Node\n",
    "- return head\n"
   ]
  },
  {
   "cell_type": "code",
   "execution_count": 1,
   "id": "aad46724",
   "metadata": {},
   "outputs": [
    {
     "name": "stdout",
     "output_type": "stream",
     "text": [
      "1->2->3->4->5->6->7->8->9->10->None\n",
      "1->10->None\n"
     ]
    }
   ],
   "source": [
    "class Node:\n",
    "    def __init__(self,value):\n",
    "        self.data=value\n",
    "        self.next=None\n",
    "\n",
    "def create_linked_list(values):\n",
    "    head=Node(values[0])\n",
    "    mover=head\n",
    "    for v in values[1:]:\n",
    "        mover.next=Node(v)\n",
    "        mover=mover.next\n",
    "    return head\n",
    "\n",
    "def insert_at_tail(head,val):\n",
    "    if head is None:\n",
    "        return Node(val)\n",
    "    temp=head\n",
    "    while temp.next is not None :\n",
    "        temp=temp.next\n",
    "    new_node=Node(val)\n",
    "    temp.next=new_node\n",
    "    return head\n",
    "\n",
    "def print_list(head):\n",
    "    current=head\n",
    "    while current:\n",
    "        print(current.data,end='->')\n",
    "        current=current.next\n",
    "    print('None')\n",
    "\n",
    "    \n",
    "values=[1,2,3,4,5,6,7,8,9]\n",
    "head=create_linked_list(values)\n",
    "i=insert_at_tail(head,10)\n",
    "print_list(i)\n",
    "\n",
    "value2=[1]\n",
    "head=create_linked_list(value2)\n",
    "i=insert_at_tail(head,10)\n",
    "print_list(i)"
   ]
  },
  {
   "cell_type": "markdown",
   "id": "2d543fe5",
   "metadata": {},
   "source": [
    "# Inserting at the Head of the Linked List\n",
    "\n",
    "- Create a new Node\n",
    "- Point it to the head \n",
    "- Return the new node instead of head"
   ]
  },
  {
   "cell_type": "code",
   "execution_count": 12,
   "id": "f38d3d02",
   "metadata": {},
   "outputs": [
    {
     "name": "stdout",
     "output_type": "stream",
     "text": [
      "123->10->20->30->40->50->None\n",
      "123->10->None\n"
     ]
    }
   ],
   "source": [
    "class Node:\n",
    "    def __init__(self,value):\n",
    "        self.data=value\n",
    "        self.next=None\n",
    "\n",
    "def create_linked_list(values):\n",
    "    head=Node(values[0])\n",
    "    mover=head\n",
    "    for v in values[1:]:\n",
    "        mover.next=Node(v)\n",
    "        mover=mover.next\n",
    "    return head\n",
    "\n",
    "def insert_at_head(head,val):\n",
    "    new_node=Node(val) # Create a new Node\n",
    "    new_node.next=head # Point that node to the current head\n",
    "    return new_node # Return the new node as the head\n",
    "\n",
    "def print_list(head):\n",
    "    current=head\n",
    "    while current:\n",
    "        print(current.data,end='->')\n",
    "        current=current.next\n",
    "    print('None')\n",
    "    \n",
    "values = [10, 20, 30, 40, 50]\n",
    "head = create_linked_list(values)\n",
    "i=insert_at_head(head,123)\n",
    "print_list(i)    \n",
    "\n",
    "values2 = [10]\n",
    "head = create_linked_list(values2)\n",
    "i=insert_at_head(head,123)\n",
    "print_list(i) "
   ]
  },
  {
   "cell_type": "code",
   "execution_count": null,
   "id": "4cabdb5e",
   "metadata": {},
   "outputs": [],
   "source": []
  }
 ],
 "metadata": {
  "kernelspec": {
   "display_name": "Python 3 (ipykernel)",
   "language": "python",
   "name": "python3"
  },
  "language_info": {
   "codemirror_mode": {
    "name": "ipython",
    "version": 3
   },
   "file_extension": ".py",
   "mimetype": "text/x-python",
   "name": "python",
   "nbconvert_exporter": "python",
   "pygments_lexer": "ipython3",
   "version": "3.9.13"
  }
 },
 "nbformat": 4,
 "nbformat_minor": 5
}
