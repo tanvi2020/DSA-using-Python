{
 "cells": [
  {
   "cell_type": "markdown",
   "id": "e2741b95",
   "metadata": {},
   "source": [
    "# Doubly Linked List \n",
    "\n",
    "The Node has 3 parts :\n",
    "    \n",
    "- Value\n",
    "- Next (what will be my next)\n",
    "- Prev (which was my previous )"
   ]
  },
  {
   "cell_type": "code",
   "execution_count": 4,
   "id": "3ff1831c",
   "metadata": {},
   "outputs": [
    {
     "name": "stdout",
     "output_type": "stream",
     "text": [
      "Forward : \n",
      "1->2->3->4->5->None\n",
      "Backward : \n",
      "5->4->3->2->1->None\n"
     ]
    }
   ],
   "source": [
    "class Node:\n",
    "    def __init__(self,value):\n",
    "        self.data=value\n",
    "        self.next=None\n",
    "        self.prev=None\n",
    "\n",
    "def create_doubly_list(values):\n",
    "    head=Node(values[0])\n",
    "    mover=head\n",
    "    for v in values[1:]:\n",
    "        new_node=Node(v)  # Create a new node\n",
    "        mover.next=new_node # Mover your next will be new node\n",
    "        new_node.prev=mover # New node your previous will be mover\n",
    "        mover=new_node # Mover move to the new node \n",
    "    return head\n",
    "\n",
    "def print_list(head):\n",
    "    current=head\n",
    "    last=None\n",
    "    \n",
    "    print('Forward : ')\n",
    "    while current:\n",
    "        print(current.data,end='->')\n",
    "        last=current # Update last as current value\n",
    "        current=current.next\n",
    "    print('None')\n",
    "    \n",
    "    print(\"Backward : \")\n",
    "    while last:\n",
    "        print(last.data,end='->')\n",
    "        last=last.prev\n",
    "    print('None')\n",
    "    \n",
    "values=[1,2,3,4,5]\n",
    "head=create_doubly_list(values)\n",
    "print_list(head)\n",
    "        \n",
    "        "
   ]
  },
  {
   "cell_type": "code",
   "execution_count": null,
   "id": "4c565c5f",
   "metadata": {},
   "outputs": [],
   "source": []
  }
 ],
 "metadata": {
  "kernelspec": {
   "display_name": "Python 3 (ipykernel)",
   "language": "python",
   "name": "python3"
  },
  "language_info": {
   "codemirror_mode": {
    "name": "ipython",
    "version": 3
   },
   "file_extension": ".py",
   "mimetype": "text/x-python",
   "name": "python",
   "nbconvert_exporter": "python",
   "pygments_lexer": "ipython3",
   "version": "3.9.13"
  }
 },
 "nbformat": 4,
 "nbformat_minor": 5
}
