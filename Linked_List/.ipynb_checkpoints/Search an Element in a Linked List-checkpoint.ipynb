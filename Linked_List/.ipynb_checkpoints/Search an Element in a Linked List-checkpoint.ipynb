{
 "cells": [
  {
   "cell_type": "markdown",
   "id": "a6b8268f",
   "metadata": {},
   "source": [
    "## Search an Element in a Linked List"
   ]
  },
  {
   "cell_type": "code",
   "execution_count": 9,
   "id": "50bc0090",
   "metadata": {},
   "outputs": [
    {
     "name": "stdout",
     "output_type": "stream",
     "text": [
      "1\n",
      "0\n"
     ]
    }
   ],
   "source": [
    "class Node:\n",
    "    def __init__(self,value):\n",
    "        self.data=value\n",
    "        self.next=None\n",
    "\n",
    "def Create_linked_list(values):\n",
    "    head=Node(values[0])\n",
    "    mover=head\n",
    "    for v in values[1:]:\n",
    "        mover.next=Node(v)\n",
    "        mover=mover.next\n",
    "    return head\n",
    "\n",
    "def Search(number,head):\n",
    "    current=head\n",
    "    while current:\n",
    "        if current.data==number:\n",
    "            return 1\n",
    "        current=current.next  # move to the next element\n",
    "        \n",
    "    return 0\n",
    "        \n",
    "values = [10, 20, 30, 40, 50]\n",
    "head = Create_linked_list(values)\n",
    "print(Search(20,head))\n",
    "print(Search(13,head))"
   ]
  },
  {
   "cell_type": "code",
   "execution_count": null,
   "id": "868fde45",
   "metadata": {},
   "outputs": [],
   "source": []
  }
 ],
 "metadata": {
  "kernelspec": {
   "display_name": "Python 3 (ipykernel)",
   "language": "python",
   "name": "python3"
  },
  "language_info": {
   "codemirror_mode": {
    "name": "ipython",
    "version": 3
   },
   "file_extension": ".py",
   "mimetype": "text/x-python",
   "name": "python",
   "nbconvert_exporter": "python",
   "pygments_lexer": "ipython3",
   "version": "3.9.13"
  }
 },
 "nbformat": 4,
 "nbformat_minor": 5
}
