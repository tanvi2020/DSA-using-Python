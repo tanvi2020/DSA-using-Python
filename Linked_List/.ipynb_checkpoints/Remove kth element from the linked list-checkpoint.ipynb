{
 "cells": [
  {
   "cell_type": "markdown",
   "id": "77664454",
   "metadata": {},
   "source": [
    "# Remove kth element from the linked list"
   ]
  },
  {
   "cell_type": "code",
   "execution_count": 29,
   "id": "ee51ed50",
   "metadata": {},
   "outputs": [
    {
     "name": "stdout",
     "output_type": "stream",
     "text": [
      "10->20->40->50->None\n",
      "1->2->3->4->5->6->None\n",
      "2->3->4->5->6->None\n"
     ]
    }
   ],
   "source": [
    "# Remove kth element from the linked list\n",
    "class Node:\n",
    "    def __init__(self,value):\n",
    "        self.data=value\n",
    "        self.next=None\n",
    "\n",
    "def create_linked_list(values):\n",
    "    head=Node(values[0])\n",
    "    mover=head\n",
    "    for v in values[1:]:\n",
    "        mover.next=Node(v)\n",
    "        mover=mover.next\n",
    "    return head\n",
    "\n",
    "def delete_kth_value(head,k): # Imagine a train and we have to remove the kth coach\n",
    "    if k==1: #if k=1 then return the second coach as the head\n",
    "        return head.next\n",
    "    \n",
    "    # Start walking through the coaches one by one\n",
    "    # Keep Track of \n",
    "    prev=None  # The previous coach\n",
    "    current=head # the current coach\n",
    "    counter=1 # Position Counter\n",
    "    while current:\n",
    "        if counter==k: # If I am at the kth position \n",
    "            prev.next=current.next # Tell the previous coach to skip the current coach and point to its next coach\n",
    "            break # AFter doing this we break and return the updated head of the list\n",
    "        prev=current # To remember which was the previous coach we first move the prev coach to current coach\n",
    "        current=current.next # then move the current coach to the next coach\n",
    "        counter+=1 # AFter moving to the next coach increment the counter by 1\n",
    "    return head\n",
    "\n",
    "def print_list(head):\n",
    "    current=head\n",
    "    while current:\n",
    "        print(current.data,end='->')\n",
    "        current=current.next\n",
    "    print('None')\n",
    "    \n",
    "values = [10, 20, 30, 40, 50]\n",
    "head = create_linked_list(values)\n",
    "h=delete_kth_value(head,k=3)\n",
    "print_list(h)  \n",
    "\n",
    "values2 = [1,2,3,4,5,6]\n",
    "head = create_linked_list(values2)\n",
    "h=delete_kth_value(head,k=8) # If k > len(linked_list)\n",
    "print_list(h)  \n",
    "\n",
    "values3 = [1,2,3,4,5,6]\n",
    "head = create_linked_list(values3)\n",
    "h=delete_kth_value(head,k=1) # Remove First Element (head)\n",
    "print_list(h)  "
   ]
  },
  {
   "cell_type": "code",
   "execution_count": null,
   "id": "3834e4ac",
   "metadata": {},
   "outputs": [],
   "source": []
  }
 ],
 "metadata": {
  "kernelspec": {
   "display_name": "Python 3 (ipykernel)",
   "language": "python",
   "name": "python3"
  },
  "language_info": {
   "codemirror_mode": {
    "name": "ipython",
    "version": 3
   },
   "file_extension": ".py",
   "mimetype": "text/x-python",
   "name": "python",
   "nbconvert_exporter": "python",
   "pygments_lexer": "ipython3",
   "version": "3.9.13"
  }
 },
 "nbformat": 4,
 "nbformat_minor": 5
}
