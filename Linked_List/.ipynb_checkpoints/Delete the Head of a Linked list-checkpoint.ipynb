{
 "cells": [
  {
   "cell_type": "markdown",
   "id": "4696d27e",
   "metadata": {},
   "source": [
    "## Delete the Head of a Linked list "
   ]
  },
  {
   "cell_type": "code",
   "execution_count": 16,
   "id": "d4bd05c6",
   "metadata": {},
   "outputs": [
    {
     "name": "stdout",
     "output_type": "stream",
     "text": [
      "20->30->40->50->None\n"
     ]
    }
   ],
   "source": [
    "class Node:\n",
    "    def __init__(self,value):\n",
    "        self.data=value\n",
    "        self.next=None\n",
    "def create_linked_list(values):\n",
    "    head=Node(values[0])\n",
    "    mover=head\n",
    "    for v in values[1:]:\n",
    "        mover.next=Node(v)\n",
    "        mover=mover.next\n",
    "    return head\n",
    "\n",
    "def remove_head(head):\n",
    "    return head.next\n",
    "    \n",
    "def print_list(head):\n",
    "    current=head\n",
    "    while current:\n",
    "        print(current.data,end='->')\n",
    "        current=current.next\n",
    "    print(None)\n",
    "\n",
    "values = [10, 20, 30, 40, 50]\n",
    "head = create_linked_list(values)\n",
    "head=remove_head(head)\n",
    "print_list(head)"
   ]
  },
  {
   "cell_type": "code",
   "execution_count": null,
   "id": "70f6a2d3",
   "metadata": {},
   "outputs": [],
   "source": []
  }
 ],
 "metadata": {
  "kernelspec": {
   "display_name": "Python 3 (ipykernel)",
   "language": "python",
   "name": "python3"
  },
  "language_info": {
   "codemirror_mode": {
    "name": "ipython",
    "version": 3
   },
   "file_extension": ".py",
   "mimetype": "text/x-python",
   "name": "python",
   "nbconvert_exporter": "python",
   "pygments_lexer": "ipython3",
   "version": "3.9.13"
  }
 },
 "nbformat": 4,
 "nbformat_minor": 5
}
