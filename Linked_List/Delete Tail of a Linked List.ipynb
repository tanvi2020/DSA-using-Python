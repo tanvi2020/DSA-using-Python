{
 "cells": [
  {
   "cell_type": "markdown",
   "id": "25c0ceff",
   "metadata": {},
   "source": [
    "# Delete Tail of a Linked List"
   ]
  },
  {
   "cell_type": "code",
   "execution_count": 16,
   "id": "b3d98c5f",
   "metadata": {},
   "outputs": [
    {
     "name": "stdout",
     "output_type": "stream",
     "text": [
      "10->20->30->40->None\n",
      "None\n"
     ]
    }
   ],
   "source": [
    "class Node: # A self defined data structure which has two parts : a Data and a Memory Location initially None\n",
    "    def __init__(self,value):\n",
    "        self.data=value\n",
    "        self.next=None\n",
    "\n",
    "def create_linked_list(values): # Think like building a train.Each coach is a Node\n",
    "    head=Node(values[0]) # The first coach is the head \n",
    "    mover=head # We call the head coach as mover \n",
    "    for v in values[1:]: # Iterate through rest of the values given\n",
    "        mover.next=Node(v) # Mover connect your rope to the new coach who holds value v\n",
    "        mover=mover.next # Mover move to the coach you just added \n",
    "    return head #if we dont return the head we will forget where the train started.Head is first coach and  we are at last coach \n",
    "\n",
    "def remove_tail(head):\n",
    "    if head is None or head.next is None: # if list is empty or has only one element\n",
    "        return None\n",
    "    temp=head\n",
    "    while temp.next.next:\n",
    "        temp=temp.next\n",
    "    temp.next=None\n",
    "    return head \n",
    "\n",
    "def print_list(head):\n",
    "    current=head\n",
    "    while current:\n",
    "        print(current.data,end='->')\n",
    "        current=current.next\n",
    "    print('None')\n",
    "    \n",
    "values=[10,20,30,40,50]\n",
    "head=create_linked_list(values)\n",
    "h=remove_tail(head)\n",
    "print_list(h)\n",
    "\n",
    "values2=[10]\n",
    "head=create_linked_list(values2)\n",
    "h=remove_tail(head)\n",
    "print_list(h)\n",
    "        "
   ]
  },
  {
   "cell_type": "code",
   "execution_count": null,
   "id": "28ba1ffd",
   "metadata": {},
   "outputs": [],
   "source": []
  }
 ],
 "metadata": {
  "kernelspec": {
   "display_name": "Python 3 (ipykernel)",
   "language": "python",
   "name": "python3"
  },
  "language_info": {
   "codemirror_mode": {
    "name": "ipython",
    "version": 3
   },
   "file_extension": ".py",
   "mimetype": "text/x-python",
   "name": "python",
   "nbconvert_exporter": "python",
   "pygments_lexer": "ipython3",
   "version": "3.9.13"
  }
 },
 "nbformat": 4,
 "nbformat_minor": 5
}
