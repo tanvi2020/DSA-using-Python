{
 "cells": [
  {
   "cell_type": "markdown",
   "id": "746bbb24",
   "metadata": {},
   "source": [
    "# Deleting kth Node from a Doubly linked List"
   ]
  },
  {
   "cell_type": "markdown",
   "id": "f6a07b79",
   "metadata": {},
   "source": [
    "Delete the node at position k from a doubly linked list.\n",
    "\n",
    "Deleting the head\n",
    "\n",
    "Deleting the tail\n",
    "\n",
    "Deleting in the middle\n",
    "\n",
    "Deleting when k is out of bounds"
   ]
  },
  {
   "cell_type": "code",
   "execution_count": 19,
   "id": "fa59cd07",
   "metadata": {},
   "outputs": [
    {
     "name": "stdout",
     "output_type": "stream",
     "text": [
      "Forward : \n",
      "1->2->4->5->None\n",
      "Backward : \n",
      "5->4->2->1->None\n",
      "Position out of bounds\n",
      "Forward : \n",
      "1->2->3->4->5->None\n",
      "Backward : \n",
      "5->4->3->2->1->None\n",
      "Forward : \n",
      "None\n",
      "Backward : \n",
      "None\n"
     ]
    }
   ],
   "source": [
    "class Node:\n",
    "    def __init__(self,value):\n",
    "        self.data=value\n",
    "        self.prev=None\n",
    "        self.next=None\n",
    "        \n",
    "def create_doubly_list(values):\n",
    "    head=Node(values[0])\n",
    "    mover=head\n",
    "    \n",
    "    for v in values[1:]:\n",
    "        new_node=Node(v) # Create a new node\n",
    "        mover.next=new_node  # Mover your next will be the new node\n",
    "        new_node.prev=mover # new node your prev will be the mover\n",
    "        mover=mover.next #  Mover move to new node\n",
    "    \n",
    "    return head\n",
    "\n",
    "def delete_kth_node(head,k):\n",
    "    if head is None or head.next is None:\n",
    "        return None\n",
    "    if k==1:  # Then we need to delete the head and second node will become head. \n",
    "        new_head=head.next\n",
    "        if new_head: # If the list has a second node\n",
    "            new_head.prev=None\n",
    "        return new_head\n",
    "    \n",
    "    temp=head\n",
    "    counter=1\n",
    "    while temp is not None : # While temp is not None or while k does not cross the length of the linked list\n",
    "        if counter==k:\n",
    "            if temp.prev: # If temp has a previous\n",
    "                temp.prev.next=temp.next # temp.prev your next will be the temp's next\n",
    "            if temp.next: # If temp has a next\n",
    "                temp.next.prev=temp.prev  # temp's next your previous will be temp.prev\n",
    "            return head\n",
    "                \n",
    "        temp=temp.next\n",
    "        counter+=1\n",
    "    \n",
    "    if temp is None: \n",
    "        print(\"Position out of bounds\")\n",
    "        return head\n",
    "    \n",
    "    return head\n",
    "        \n",
    "        \n",
    "def print_list(head):\n",
    "    current=head\n",
    "    last=None\n",
    "    \n",
    "    print('Forward : ')\n",
    "    while current:\n",
    "        print(current.data,end='->')\n",
    "        last=current # Before moving forward store the current node in last\n",
    "        current=current.next # Then shift current ahead\n",
    "    print('None')\n",
    "    \n",
    "    print('Backward : ')\n",
    "    while last:\n",
    "        print(last.data,end='->')\n",
    "        last=last.prev\n",
    "    print('None')\n",
    "    \n",
    "values=[1,2,3,4,5]\n",
    "head=create_doubly_list(values)\n",
    "d=delete_kth_node(head,3)\n",
    "print_list(d) \n",
    "        \n",
    "values2=[1,2,3,4,5]\n",
    "head2=create_doubly_list(values2)\n",
    "d2=delete_kth_node(head2,7)\n",
    "print_list(d2) \n",
    "\n",
    "values3=[1]\n",
    "head3=create_doubly_list(values3)\n",
    "d3=delete_kth_node(head3,1)\n",
    "print_list(d3) \n",
    "\n"
   ]
  },
  {
   "cell_type": "code",
   "execution_count": null,
   "id": "4be612e0",
   "metadata": {},
   "outputs": [],
   "source": []
  }
 ],
 "metadata": {
  "kernelspec": {
   "display_name": "Python 3 (ipykernel)",
   "language": "python",
   "name": "python3"
  },
  "language_info": {
   "codemirror_mode": {
    "name": "ipython",
    "version": 3
   },
   "file_extension": ".py",
   "mimetype": "text/x-python",
   "name": "python",
   "nbconvert_exporter": "python",
   "pygments_lexer": "ipython3",
   "version": "3.9.13"
  }
 },
 "nbformat": 4,
 "nbformat_minor": 5
}
