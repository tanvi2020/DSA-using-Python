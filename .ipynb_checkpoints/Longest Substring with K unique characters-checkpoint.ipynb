{
 "cells": [
  {
   "cell_type": "markdown",
   "id": "094bfc24",
   "metadata": {},
   "source": [
    "# Longest Substring with K unique characters"
   ]
  },
  {
   "cell_type": "raw",
   "id": "9f0c667b",
   "metadata": {},
   "source": [
    "In this question , we will be given a string and k which is count of unique characters that must be present in the substring..\n",
    "So if k=3 then the substring must have 3 unique characters only and the second condition is that that substring must be the \n",
    "largest among all other substrings having k unique characters . \n",
    "\n",
    "1. So for this problem I need to take the following inputs ---> a string and a count of unique characters k\n",
    "2. Output : Largest substring with k unique characters \n",
    "3. How to identify that this is a Variable sliding window problem? --> Given : A string and k | To Find: Largest substr(window)\n",
    "\n",
    "Pseudocode:\n",
    "    Let,\n",
    "    #To iterate over the string\n",
    "    i=0 \n",
    "    j=0 \n",
    "    \n",
    "    # To store the size of the largest window\n",
    "    mx=0  \n",
    "    \n",
    "    # A hashmap/ dictionary to keep a track of unique characters and thier count \n",
    "    d={}\n",
    "    \n",
    "    while j<length(string):  \n",
    "        #Update the dictionary with unique characters and thier respective counts \n",
    "        d[string[j]]=d.get(string[j],0)+1\n",
    "\n",
    "        # If length(d) is less than k then icrement j by 1\n",
    "        if len(d)<k:\n",
    "            j+=1\n",
    "        # else if the size of the dictionary equals k and condition of k unique characters is satisfied,store the window size \n",
    "          in mx \n",
    "            mx=max(mx,j-i+1)\n",
    "        #else if size > k then decrement the count of the ith char by 1 if count of ith char=0 then pop it . increment i and j \n",
    "            while len(d)>k:\n",
    "                d[string[i]]-=1\n",
    "                if d[string[i]]==0:\n",
    "                    d.pop(string[i])\n",
    "                i+=1  \n",
    "            j+=1\n",
    "            \n",
    "        # In the end return mx as the answer which will be the largest window with k unique characters \n"
   ]
  },
  {
   "cell_type": "code",
   "execution_count": 3,
   "id": "a3123ee0",
   "metadata": {},
   "outputs": [
    {
     "name": "stdout",
     "output_type": "stream",
     "text": [
      "8\n"
     ]
    }
   ],
   "source": [
    "def Largest_str(string,k):\n",
    "    i=0\n",
    "    j=0\n",
    "    mx=0  # To store size of the largest window\n",
    "    d={}  # A dictionary to keep track of count of each character\n",
    "    while j < len(string):\n",
    "        # Store the unique characters of the string along with their counts in the dictionary\n",
    "        d[string[j]]=d.get(string[j],0)+1\n",
    "        # Check if the size of the dictionary is less than k , If yes then increment j by 1\n",
    "        if len(d)<k:\n",
    "            j+=1\n",
    "        \n",
    "        # Once the size of the dictionary equals k and condition of k unique characters is satisfied,store the window size in mx\n",
    "        elif len(d)==k:\n",
    "            mx=max(mx,j-i+1)\n",
    "            j+=1  # increment j by 1 \n",
    "            \n",
    "        # If the size of dictionary exceeds k,decrement the count of ith character by 1 once the count becomes 0 pop the character\n",
    "        elif len(d)>k:\n",
    "            while len(d)>k:\n",
    "                d[string[i]]-=1\n",
    "                if d[string[i]]==0:\n",
    "                    d.pop(string[i])\n",
    "                i+=1  \n",
    "            j+=1\n",
    "    return mx\n",
    "print(Largest_str('aabcbbeecbaacc', 3))  # Output: 8   \n",
    "    "
   ]
  },
  {
   "cell_type": "code",
   "execution_count": null,
   "id": "1fb2716a",
   "metadata": {},
   "outputs": [],
   "source": []
  }
 ],
 "metadata": {
  "kernelspec": {
   "display_name": "Python 3 (ipykernel)",
   "language": "python",
   "name": "python3"
  },
  "language_info": {
   "codemirror_mode": {
    "name": "ipython",
    "version": 3
   },
   "file_extension": ".py",
   "mimetype": "text/x-python",
   "name": "python",
   "nbconvert_exporter": "python",
   "pygments_lexer": "ipython3",
   "version": "3.9.13"
  }
 },
 "nbformat": 4,
 "nbformat_minor": 5
}
