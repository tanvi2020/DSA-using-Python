{
 "cells": [
  {
   "cell_type": "markdown",
   "id": "3570e246",
   "metadata": {},
   "source": [
    "# Find Maximums of all subarrays of size K"
   ]
  },
  {
   "cell_type": "code",
   "execution_count": 1,
   "id": "4e43e6e2",
   "metadata": {},
   "outputs": [
    {
     "name": "stdout",
     "output_type": "stream",
     "text": [
      "[-1]\n",
      "[-1, 2]\n",
      "[-1, 2, 3]\n",
      "maximum= 3\n",
      "[2]\n",
      "[2, 3]\n",
      "[2, 3, -4]\n",
      "maximum= 3\n",
      "[3]\n",
      "[3, -4]\n",
      "[3, -4, -5]\n",
      "maximum= 3\n",
      "[-4]\n",
      "[-4, -5]\n",
      "[-4, -5, 6]\n",
      "maximum= 6\n",
      "[-5]\n",
      "[-5, 6]\n",
      "[-5, 6, -8]\n",
      "maximum= 6\n",
      "[6]\n",
      "[6, -8]\n",
      "[6, -8, 7]\n",
      "maximum= 7\n",
      "[3, 3, 3, 6, 6, 7]\n"
     ]
    }
   ],
   "source": [
    "# Brute Force Approach to Find Maximums of all subarrays of size K\n",
    "def fun(arr,k):\n",
    "    i=0\n",
    "    j=0\n",
    "    v=[]\n",
    "    maxi=0\n",
    "    for i in range((len(arr)-k)+1):\n",
    "        list1=[]\n",
    "        for j in range(i,i+k):\n",
    "            list1.append(arr[j])\n",
    "            print(list1)\n",
    "        maxi=max(list1)\n",
    "        print('maximum=',maxi)\n",
    "        v.append(maxi)\n",
    "        \n",
    "    return v\n",
    "print(fun([-1,2,3,-4,-5,6,-8,7],3)) "
   ]
  },
  {
   "cell_type": "code",
   "execution_count": 2,
   "id": "cb414682",
   "metadata": {},
   "outputs": [
    {
     "name": "stdout",
     "output_type": "stream",
     "text": [
      "Sliding Window Approach\n",
      "**************************** Result 1 *******************************\n",
      "[-1]\n",
      "[-1, 2]\n",
      "[-1, 2, 3]\n",
      "3\n",
      "[2, 3, -4]\n",
      "3\n",
      "[3, -4, -5]\n",
      "3\n",
      "[-4, -5, 6]\n",
      "6\n",
      "[-5, 6, -8]\n",
      "6\n",
      "[6, -8, 7]\n",
      "7\n",
      "[3, 3, 3, 6, 6, 7]\n",
      "**************************** Result 2 *******************************\n",
      "[9]\n",
      "[9, 5]\n",
      "[9, 5, 7]\n",
      "9\n",
      "[5, 7, 4]\n",
      "7\n",
      "[7, 4, 10]\n",
      "10\n",
      "[9, 7, 10]\n"
     ]
    }
   ],
   "source": [
    "print('Sliding Window Approach')\n",
    "def fun2(arr,k):\n",
    "    i=0\n",
    "    j=0\n",
    "    list1=[] # A list which will store only elements of window size k\n",
    "    maxi=0 # Maxi will store the max in list1\n",
    "    v=[] # A vector to store list of all maximum elements\n",
    "    while j<len(arr):\n",
    "        list1.append(arr[j])\n",
    "        print(list1)\n",
    "        if j-i+1<k:\n",
    "            j+=1\n",
    "        elif j-i+1==k:\n",
    "            maxi=max(list1)\n",
    "            print(maxi)\n",
    "            v.append(maxi)\n",
    "            list1.pop(0)  # Pop the previous ith element from the list before sliding the window\n",
    "            i+=1\n",
    "            j+=1\n",
    "    return v\n",
    "print('**************************** Result 1 *******************************')\n",
    "print(fun2([-1,2,3,-4,-5,6,-8,7],3))\n",
    "print('**************************** Result 2 *******************************')\n",
    "print(fun2([9,5,7,4,10],3))\n",
    "\n",
    "#The max(list1) operation runs in O(k) for each iteration. Since we calculate this for every window in the array,\n",
    "#the overall complexity becomes O(k⋅(n−k+1)),where n is the size of the array. For large values of k, this can be inefficient."
   ]
  },
  {
   "cell_type": "raw",
   "id": "50765d99",
   "metadata": {},
   "source": [
    "1. How to identify that this is a sliding window problem?\n",
    "\t\ta. Given : An Array , a Window size k \n",
    "\t\tb.  Find the Max \n",
    "\t2. For this type of problem, I initially used a list[] to store only the elements in a window , then I used another variable maxi=max(list) to find the maximum of the list and v[] to store the maximum of each window. But this code was calculating the maximum for each and every window regardless whether the elements were of any future use of now . The Big O complexity of this code was O(k)\n",
    "\t3. To Optimize this solution , I used deque instead if list . Using a deque we can keep track of the indices of only useful elements and pop the elements which are of no further use from both the sides . \n",
    "\t\ta. First pop all the elements on the Left which are outside the current window \n",
    "\t\tb. Then pop all elements on the Right which are less than the current element\n",
    "\t\tc. Append the index of the current element in the deque\n",
    "\t\td. Only after window size k is reached , append the maximum element into v \n",
    "\t4. Pseudocode :\n",
    "\t\tn=len(arr)  ---> to store length of the array\n",
    "\t\tv=[]  --> to store maximum values \n",
    "\t\tDq=deque()  ---> to maintain indices of maximum values\n",
    "\t\tFor j in range(n):\n",
    "\t\t\tRemove elements on the left which are outside the window \n",
    "\t\t\tIf dq and dq[0]<window size j-k+1 :\n",
    "\t\t\t\tDq.popleft()\n",
    "\t\t\tIf the Elements on the right are greater than the current value\n",
    "\t\t\tIf  dq and arr[dq[-1]]>j : \n",
    "\t\t\tDq.pop\n",
    "\t\t\t\n",
    "\t\t\tAppend the index of the current value in deque :\n",
    "\t\t\tDq.append(j)\n",
    "\t\t\t\n",
    "\t\t\tAppend maximum element in v only if window size k is satisfied\n",
    "\t\t\tIf j>=k-1:\n",
    "\t\t\t\tv.append(arr[dq[0]])\n",
    "\t\tReturn the answer \n",
    "\t\tReturn v\n"
   ]
  },
  {
   "cell_type": "code",
   "execution_count": 3,
   "id": "34270cef",
   "metadata": {},
   "outputs": [
    {
     "name": "stdout",
     "output_type": "stream",
     "text": [
      "[9, 6, 5, 3, 5]\n",
      "[3, 3, 3, 6, 6, 7]\n"
     ]
    }
   ],
   "source": [
    "# we can optimize it further to O(n)O(n)O(n) by using a Deque (Double-Ended Queue).\n",
    "# Instead of maintaining list1 and recalculating the maximum for every window, we use a deque to keep track of\n",
    "# indices of useful elements in the current window. This avoids repeatedly calculating the maximum.\n",
    "\n",
    "from collections import deque \n",
    "def optimize(arr,k):\n",
    "    n=len(arr)\n",
    "    dq=deque()\n",
    "    v=[]\n",
    "    for j in range(n):\n",
    "        # Remove all the elements which come outside the current window \n",
    "        if dq and dq[0]<j-k+1:\n",
    "            dq.popleft()\n",
    "    \n",
    "        # Remove elements which are smaller than the current value\n",
    "        while dq and arr[dq[-1]]<arr[j]: \n",
    "            dq.pop()\n",
    "            \n",
    "        # Append the index of the current element in the deque \n",
    "        dq.append(j)\n",
    "        \n",
    "        # Add the maximum for the current window to the result\n",
    "        if j>=k-1: #This checks if the first window of size k is complete. We only start adding maximum values to the result \n",
    "                    # after the window size is reached\n",
    "            v.append(arr[dq[0]])\n",
    "    return v\n",
    "print(optimize([9, 6, 5, 3, 2, 1, 5], 3))\n",
    "print(optimize([-1,2,3,-4,-5,6,-8,7],3))"
   ]
  },
  {
   "cell_type": "code",
   "execution_count": null,
   "id": "75289dab",
   "metadata": {},
   "outputs": [],
   "source": []
  }
 ],
 "metadata": {
  "kernelspec": {
   "display_name": "Python 3 (ipykernel)",
   "language": "python",
   "name": "python3"
  },
  "language_info": {
   "codemirror_mode": {
    "name": "ipython",
    "version": 3
   },
   "file_extension": ".py",
   "mimetype": "text/x-python",
   "name": "python",
   "nbconvert_exporter": "python",
   "pygments_lexer": "ipython3",
   "version": "3.9.13"
  }
 },
 "nbformat": 4,
 "nbformat_minor": 5
}
