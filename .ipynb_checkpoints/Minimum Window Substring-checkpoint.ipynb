{
 "cells": [
  {
   "cell_type": "markdown",
   "id": "0932ff77",
   "metadata": {},
   "source": [
    "# Minimum Window Substring"
   ]
  },
  {
   "cell_type": "raw",
   "id": "41f6f5d9",
   "metadata": {},
   "source": [
    "Function MinimumWindowSubstring(string, sub):\n",
    "    Initialize a dictionary `d` to store the frequency of characters in `sub`\n",
    "    For each character `char` in `sub`:\n",
    "        d[char] = d.get(char, 0) + 1\n",
    "    \n",
    "    Initialize `required` = len(d)  # Number of unique characters in `sub`\n",
    "    Initialize `i = 0`, `j = 0`, `count = required`\n",
    "    Initialize `min_length = float('inf')` and `start = 0` for tracking the minimum window\n",
    "\n",
    "    While `j < len(string)`:\n",
    "        # Check if the current character is part of `sub`\n",
    "        If `string[j]` is in `d`:\n",
    "            d[string[j]] -= 1\n",
    "            If `d[string[j]] == 0`:  # Character is completely matched\n",
    "                count -= 1\n",
    "\n",
    "        # When all characters are matched\n",
    "        While `count == 0`:\n",
    "            # Update the minimum window length\n",
    "            If `j - i + 1 < min_length`:\n",
    "                min_length = j - i + 1\n",
    "                start = i  # Update the starting index of the minimum window\n",
    "            \n",
    "            # Shrink the window from the left\n",
    "            If `string[i]` is in `d`:\n",
    "                d[string[i]] += 1\n",
    "                If `d[string[i]] > 0`:  # Character is no longer fully matched\n",
    "                    count += 1\n",
    "            Increment `i` (move the left pointer forward)\n",
    "\n",
    "        Increment `j` (expand the window from the right)\n",
    "\n",
    "    If `min_length == float('inf')`:\n",
    "        Return \"\"  # No valid window found\n",
    "    Else:\n",
    "        Return `string[start:start + min_length]`"
   ]
  },
  {
   "cell_type": "code",
   "execution_count": 1,
   "id": "7813f9bf",
   "metadata": {},
   "outputs": [
    {
     "name": "stdout",
     "output_type": "stream",
     "text": [
      "tma\n"
     ]
    }
   ],
   "source": [
    "def Minimum(string,sub):\n",
    "    i=0\n",
    "    j=0\n",
    "    d={}\n",
    "    count=0\n",
    "    required_count=0\n",
    "    start=0  \n",
    "    min_length=float('inf')\n",
    "    # Update the dictionary with the chars in substring and thier respective count . This must be done before the loop since \n",
    "        #we don't want the count to get recalculated in each and every iteration. \n",
    "    for char in sub:\n",
    "        d[char]=d.get(char,0)+1\n",
    "    required_count=len(d)\n",
    "    count=required_count\n",
    "    while j<len(string):\n",
    "        # Check if j is in d , If yes then decrement j by 1 and if j==0 decrement count by 1\n",
    "        if string[j] in d :\n",
    "            d[string[j]]-=1\n",
    "            if d[string[j]]==0:\n",
    "                count-=1\n",
    "        \n",
    "        # If count becomes 0 , then updated the length of the minimum window in min_length\n",
    "        while count==0:\n",
    "            if j-i+1<min_length:\n",
    "                min_length=j-i+1\n",
    "                start=i\n",
    "        \n",
    "        # Check if ith element is in d . This step is done since we want to shrink the window .So here we need to pop ith values\n",
    "        # and move the window forward\n",
    "            if string[i] in d:\n",
    "                d[string[i]]+=1\n",
    "                if d[string[i]]>0:\n",
    "                    count+=1\n",
    "            i+=1\n",
    "        j+=1\n",
    "        \n",
    "    if min_length==float('inf'):\n",
    "        return ''\n",
    "    else:\n",
    "        return string[start:start+min_length]\n",
    "    \n",
    "print(Minimum('tmatatptmam','tma'))\n",
    "            \n",
    "            \n",
    "    "
   ]
  },
  {
   "cell_type": "code",
   "execution_count": null,
   "id": "62f588eb",
   "metadata": {},
   "outputs": [],
   "source": []
  }
 ],
 "metadata": {
  "kernelspec": {
   "display_name": "Python 3 (ipykernel)",
   "language": "python",
   "name": "python3"
  },
  "language_info": {
   "codemirror_mode": {
    "name": "ipython",
    "version": 3
   },
   "file_extension": ".py",
   "mimetype": "text/x-python",
   "name": "python",
   "nbconvert_exporter": "python",
   "pygments_lexer": "ipython3",
   "version": "3.9.13"
  }
 },
 "nbformat": 4,
 "nbformat_minor": 5
}
