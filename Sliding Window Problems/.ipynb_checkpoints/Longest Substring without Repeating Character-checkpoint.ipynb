{
 "cells": [
  {
   "cell_type": "markdown",
   "id": "b77b254e",
   "metadata": {},
   "source": [
    "# Longest Substring without Repeating Character"
   ]
  },
  {
   "cell_type": "raw",
   "id": "28e3cea0",
   "metadata": {},
   "source": [
    "For this type of question , we are given a String and are asked to satisfy two conditions :\n",
    "    1. The Substring of that string must be the longest (Longest Window)\n",
    "    2. The Substring should not have any repeating characters \n",
    "This question is similar to the previous question where we are asked to find the Longest Substring with k unique characters\n",
    "but the only difference here is that here we are not given the value of k. So what will be the value of k then?\n",
    "The answer to this is :\n",
    "    a. Say suppose a Substring of length 3 has 3 unique characters in it , in this case both the conditions in our problem \n",
    "       statement are satisfied \n",
    "    b. And Say if the length of substring is 3 but the unique characters are only 2 . in this case one / both of our conditions \n",
    "       might fail \n",
    "    So in the above two examples we get to know that, \n",
    "        number of unique values = size of the window \n",
    "        if 5 unique characters then size of window should also be 5    "
   ]
  },
  {
   "cell_type": "code",
   "execution_count": 2,
   "id": "c5333c92",
   "metadata": {},
   "outputs": [
    {
     "name": "stdout",
     "output_type": "stream",
     "text": [
      "6\n",
      "1\n",
      "8\n"
     ]
    }
   ],
   "source": [
    "def Longest_nonRepeating(string):\n",
    "    i=0\n",
    "    j=0\n",
    "    mx=0\n",
    "    d={}\n",
    "    while j<len(string):\n",
    "        # Update the dictionary with the unique characters and thier count\n",
    "        d[string[j]]=d.get(string[j],0)+1\n",
    "        \n",
    "        if len(d)==j-i+1:\n",
    "            mx=max(mx,j-i+1)\n",
    "            j+=1\n",
    "        elif len(d)<j-i+1:\n",
    "            while len(d)<j-i+1:\n",
    "                d[string[i]]-=1\n",
    "                if d[string[i]]==0:\n",
    "                    d.pop(string[i])\n",
    "                i+=1\n",
    "            j+=1\n",
    "    return  mx\n",
    "\n",
    "print(Longest_nonRepeating('abcdweewa'))         \n",
    "print(Longest_nonRepeating('aaaaaaaaaa'))\n",
    "print(Longest_nonRepeating('abcdefgh'))"
   ]
  },
  {
   "cell_type": "code",
   "execution_count": null,
   "id": "83897e5d",
   "metadata": {},
   "outputs": [],
   "source": []
  }
 ],
 "metadata": {
  "kernelspec": {
   "display_name": "Python 3 (ipykernel)",
   "language": "python",
   "name": "python3"
  },
  "language_info": {
   "codemirror_mode": {
    "name": "ipython",
    "version": 3
   },
   "file_extension": ".py",
   "mimetype": "text/x-python",
   "name": "python",
   "nbconvert_exporter": "python",
   "pygments_lexer": "ipython3",
   "version": "3.9.13"
  }
 },
 "nbformat": 4,
 "nbformat_minor": 5
}
