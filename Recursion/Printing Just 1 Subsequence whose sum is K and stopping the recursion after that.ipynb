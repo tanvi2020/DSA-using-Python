{
 "cells": [
  {
   "cell_type": "markdown",
   "id": "26b67154",
   "metadata": {},
   "source": [
    "# Printing Just 1 Subsequence whose sum is K and stopping the recursion after that"
   ]
  },
  {
   "cell_type": "code",
   "execution_count": 16,
   "id": "498984d1",
   "metadata": {},
   "outputs": [
    {
     "name": "stdout",
     "output_type": "stream",
     "text": [
      "[1, 1]\n"
     ]
    },
    {
     "data": {
      "text/plain": [
       "True"
      ]
     },
     "execution_count": 16,
     "metadata": {},
     "output_type": "execute_result"
    }
   ],
   "source": [
    "def Subsequence(index,array,list1,sums,k):\n",
    "    if index==len(array):\n",
    "        if sums==k:\n",
    "            print(list1)\n",
    "            return True  # Stop the Recursion after a subsequence is found\n",
    "        return False # Else continue to find\n",
    "    list1.append(array[index])\n",
    "    sums+=array[index]\n",
    "    if Subsequence(index+1,array,list1,sums,k):  # If found stop\n",
    "        return True\n",
    "    \n",
    "    list1.pop()\n",
    "    sums-=array[index]\n",
    "    if Subsequence(index+1,array,list1,sums,k):   # if found stop\n",
    "        return True\n",
    "    \n",
    "arr=[1,2,1]\n",
    "k=2\n",
    "list1=[]\n",
    "sums=0\n",
    "Subsequence(0,arr,list1,sums,k)    \n"
   ]
  },
  {
   "cell_type": "code",
   "execution_count": null,
   "id": "17a153d5",
   "metadata": {},
   "outputs": [],
   "source": []
  }
 ],
 "metadata": {
  "kernelspec": {
   "display_name": "Python 3 (ipykernel)",
   "language": "python",
   "name": "python3"
  },
  "language_info": {
   "codemirror_mode": {
    "name": "ipython",
    "version": 3
   },
   "file_extension": ".py",
   "mimetype": "text/x-python",
   "name": "python",
   "nbconvert_exporter": "python",
   "pygments_lexer": "ipython3",
   "version": "3.9.13"
  }
 },
 "nbformat": 4,
 "nbformat_minor": 5
}
