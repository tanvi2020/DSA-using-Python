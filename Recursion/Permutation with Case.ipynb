{
 "cells": [
  {
   "cell_type": "markdown",
   "id": "891e00c4",
   "metadata": {},
   "source": [
    "# Permutation with Case "
   ]
  },
  {
   "cell_type": "markdown",
   "id": "53e14c80",
   "metadata": {},
   "source": [
    "This problem generates all possible strings where each character can be either uppercase or lowercase.\n",
    "\n",
    "Example\n",
    "Input: \"ab\"\n",
    "Output:\n",
    "ab\n",
    "aB\n",
    "Ab\n",
    "AB\n",
    "\n",
    "\n",
    "Breakdown of the Logic\n",
    "- Start with an empty string and the first character.\n",
    "- For each character in the input string, make two choices:\n",
    "- Keep it lowercase.\n",
    "- Change it to uppercase.\n",
    "- Recursively process the next character until the whole string is formed.\n",
    "- Once we reach the end, print the string.\n",
    "\n",
    "\n"
   ]
  },
  {
   "cell_type": "raw",
   "id": "09fd93be",
   "metadata": {},
   "source": [
    "Pseudocode\n",
    "Function PermuteWithCase(input_str, output, index):\n",
    " -   If index == length of input_str:\n",
    "        Print output\n",
    "        Return\n",
    "    \n",
    "    Include the current character as lowercase\n",
    "    PermuteWithCase(input_str, output + lowercase(input_str[index]), index + 1)\n",
    "\n",
    "    Include the current character as uppercase\n",
    "    PermuteWithCase(input_str, output + uppercase(input_str[index]), index + 1)"
   ]
  },
  {
   "cell_type": "code",
   "execution_count": 11,
   "id": "eb6e0a8a",
   "metadata": {},
   "outputs": [
    {
     "name": "stdout",
     "output_type": "stream",
     "text": [
      "ab\n",
      "aB\n",
      "Ab\n",
      "AB\n"
     ]
    }
   ],
   "source": [
    "def Permute(inputstr,output,index):\n",
    "    if index==len(inputstr):\n",
    "        print(output)\n",
    "        return\n",
    "    \n",
    "    # Include the current character as lowercase\n",
    "    Permute(inputstr,output+inputstr[index].lower(),index+1)\n",
    "    \n",
    "    # Include the current character as uppercase\n",
    "    Permute(inputstr,output+inputstr[index].upper(),index+1)\n",
    "\n",
    "def Recursion(string):\n",
    "    Permute(string,\"\",0)\n",
    "\n",
    "Recursion('ab')"
   ]
  },
  {
   "cell_type": "code",
   "execution_count": null,
   "id": "d87f8dc2",
   "metadata": {},
   "outputs": [],
   "source": [
    "# Permutation with Case \n",
    "\n",
    "This problem generates all possible strings where each character can be either uppercase or lowercase.\n",
    "\n",
    "Example\n",
    "Input: \"ab\"\n",
    "Output:\n",
    "ab\n",
    "aB\n",
    "Ab\n",
    "AB\n",
    "\n",
    "\n",
    "Breakdown of the Logic\n",
    "- Start with an empty string and the first character.\n",
    "- For each character in the input string, make two choices:\n",
    "- Keep it lowercase.\n",
    "- Change it to uppercase.\n",
    "- Recursively process the next character until the whole string is formed.\n",
    "- Once we reach the end, print the string.\n",
    "\n",
    "\n",
    "\n",
    "\n",
    "Pseudocode\n",
    "Function PermuteWithCase(input_str, output, index):\n",
    " -   If index == length of input_str:\n",
    "        Print output\n",
    "        Return\n",
    "    \n",
    "    Include the current character as lowercase\n",
    "    PermuteWithCase(input_str, output + lowercase(input_str[index]), index + 1)\n",
    "\n",
    "    Include the current character as uppercase\n",
    "    PermuteWithCase(input_str, output + uppercase(input_str[index]), index + 1)\n",
    "\n",
    "def Permute(inputstr,output,index):\n",
    "    if index==len(inputstr):\n",
    "        print(output)\n",
    "        return\n",
    "    \n",
    "    # Include the current character as lowercase\n",
    "    Permute(inputstr,output+inputstr[index].lower(),index+1)\n",
    "    \n",
    "    # Include the current character as uppercase\n",
    "    Permute(inputstr,output+inputstr[index].upper(),index+1)\n",
    "\n",
    "def Recursion(string):\n",
    "    Permute(string,\"\",0)\n",
    "\n",
    "Recursion('ab')"
   ]
  }
 ],
 "metadata": {
  "kernelspec": {
   "display_name": "Python 3 (ipykernel)",
   "language": "python",
   "name": "python3"
  },
  "language_info": {
   "codemirror_mode": {
    "name": "ipython",
    "version": 3
   },
   "file_extension": ".py",
   "mimetype": "text/x-python",
   "name": "python",
   "nbconvert_exporter": "python",
   "pygments_lexer": "ipython3",
   "version": "3.9.13"
  }
 },
 "nbformat": 4,
 "nbformat_minor": 5
}
