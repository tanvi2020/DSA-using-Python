{
 "cells": [
  {
   "cell_type": "markdown",
   "id": "58d31b5f",
   "metadata": {},
   "source": [
    "# Letter Case Permutation "
   ]
  },
  {
   "cell_type": "markdown",
   "id": "8deb242f",
   "metadata": {},
   "source": [
    "This problem generates all possible permutations of a string where only alphabetic characters (letters) can change case (uppercase/lowercase), while digits remain unchanged.\n",
    "\n",
    "Example\n",
    "Input: \"a1B2\"\n",
    "Output:\n",
    "a1b2\n",
    "a1B2\n",
    "A1b2\n",
    "A1B2\n",
    "\n",
    "\n",
    "Breakdown of the Logic\n",
    "- Start with an empty string and the first character.\n",
    "- For each character:\n",
    "- If it is a digit, keep it the same and move to the next character.\n",
    "- If it is a letter, create two recursive calls:\n",
    "- One where the letter is lowercase.\n",
    "- One where the letter is uppercase.\n",
    "- Continue until the whole string is processed.\n",
    "- When the string is complete, print or store the result."
   ]
  },
  {
   "cell_type": "raw",
   "id": "60c71961",
   "metadata": {},
   "source": [
    "Pseudocode\n",
    "Function LetterCasePermutation(input_str, output, index):\n",
    "    If index == length of input_str:\n",
    "        Print output\n",
    "        Return\n",
    "    \n",
    "    If input_str[index] is a digit:\n",
    "        LetterCasePermutation(input_str, output + input_str[index], index + 1)\n",
    "    Else:\n",
    "        LetterCasePermutation(input_str, output + lowercase(input_str[index]), index + 1)\n",
    "        LetterCasePermutation(input_str, output + uppercase(input_str[index]), index + 1)"
   ]
  },
  {
   "cell_type": "code",
   "execution_count": 12,
   "id": "f6b0c04a",
   "metadata": {},
   "outputs": [
    {
     "name": "stdout",
     "output_type": "stream",
     "text": [
      "a1b2\n",
      "a1B2\n",
      "A1b2\n",
      "A1B2\n"
     ]
    }
   ],
   "source": [
    "def Permute(inputstr,output,index):\n",
    "    if index==len(inputstr):\n",
    "        print(output)\n",
    "        return\n",
    "    \n",
    "    if inputstr[index].isalpha()==True:  \n",
    "        Permute(inputstr,output+inputstr[index].lower(),index+1)\n",
    "        Permute(inputstr,output+inputstr[index].upper(),index+1)\n",
    "    else:\n",
    "        Permute(inputstr,output+inputstr[index],index+1)\n",
    "        \n",
    "def Recursion(string):\n",
    "    Permute(string,'',0)\n",
    "    \n",
    "Recursion('a1B2')"
   ]
  },
  {
   "cell_type": "code",
   "execution_count": null,
   "id": "5e7b1ab4",
   "metadata": {},
   "outputs": [],
   "source": []
  }
 ],
 "metadata": {
  "kernelspec": {
   "display_name": "Python 3 (ipykernel)",
   "language": "python",
   "name": "python3"
  },
  "language_info": {
   "codemirror_mode": {
    "name": "ipython",
    "version": 3
   },
   "file_extension": ".py",
   "mimetype": "text/x-python",
   "name": "python",
   "nbconvert_exporter": "python",
   "pygments_lexer": "ipython3",
   "version": "3.9.13"
  }
 },
 "nbformat": 4,
 "nbformat_minor": 5
}
