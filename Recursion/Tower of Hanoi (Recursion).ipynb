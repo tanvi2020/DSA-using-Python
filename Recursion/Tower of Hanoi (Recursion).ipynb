{
 "cells": [
  {
   "cell_type": "markdown",
   "id": "61e6a4a5",
   "metadata": {},
   "source": [
    "# Tower of Hanoi (Recursion)"
   ]
  },
  {
   "cell_type": "markdown",
   "id": "3feecc00",
   "metadata": {},
   "source": [
    "Tower of Hanoi is a mathematical puzzle where we have three rods (A, B, and C) and N disks. Initially, all the disks are stacked in decreasing value of diameter i.e., the smallest disk is placed on the top and they are on rod A. The objective of the puzzle is to move the entire stack to another rod (here considered C), obeying the following simple rules:\n",
    "\n",
    "- Only one disk can be moved at a time.\n",
    "- Each move consists of taking the upper disk from one of the stacks and placing it on top of another stack i.e. a disk can only be moved if it is the uppermost disk on a stack.\n",
    "- No disk may be placed on top of a smaller disk.\n",
    "\n",
    "\n",
    "# It follows a 3-step recursive process:\n",
    "\n",
    "- Move n-1 disks from source → helper.\n",
    "- Move the largest disk (n) from source → destination.\n",
    "- Move n-1 disks from helper → destination.\n",
    "\n",
    "For n = 3, the expected correct moves should be:\n",
    "- 1️⃣ Move disk 1 from 1 → 3\n",
    "- 2️⃣ Move disk 2 from 1 → 2\n",
    "- 3️⃣ Move disk 1 from 3 → 2\n",
    "- 4️⃣ Move disk 3 from 1 → 3\n",
    "- 5️⃣ Move disk 1 from 2 → 1\n",
    "- 6️⃣ Move disk 2 from 2 → 3\n",
    "- 7️⃣ Move disk 1 from 1 → 3"
   ]
  },
  {
   "cell_type": "code",
   "execution_count": 3,
   "id": "3fc5a980",
   "metadata": {},
   "outputs": [
    {
     "name": "stdout",
     "output_type": "stream",
     "text": [
      "Move the biggest disk 1 from  1 to 3\n",
      "Move disk 2 from 1 to 2\n",
      "Move the biggest disk 1 from  3 to 2\n",
      "Move disk 3 from 1 to 3\n",
      "Move the biggest disk 1 from  2 to 1\n",
      "Move disk 2 from 2 to 3\n",
      "Move the biggest disk 1 from  1 to 3\n"
     ]
    }
   ],
   "source": [
    "def solve(source,destination,helper,n): # n is the number of disks. source destination and helper are the rods.\n",
    "    if n==1: \n",
    "        print(f\"Move the biggest disk {n} from  {source} to {destination}\")\n",
    "        return\n",
    "    \n",
    "    # Move top n-1 disks from source to helper using destination  \n",
    "    solve(source,helper,destination,n-1)\n",
    "    \n",
    "    # Move the nth (biggest) disk from source to destination  \n",
    "    print(f\"Move disk {n} from {source} to {destination}\")\n",
    "    \n",
    "    \n",
    "    # Move n-1 disks from helper to destination using source \n",
    "    solve(helper,destination,source,n-1)\n",
    "\n",
    "def Recursion(n):\n",
    "    source=1\n",
    "    helper=2\n",
    "    destination=3\n",
    "    solve(source,destination,helper,n)\n",
    "    \n",
    "Recursion(3)  "
   ]
  },
  {
   "cell_type": "code",
   "execution_count": null,
   "id": "28607561",
   "metadata": {},
   "outputs": [],
   "source": []
  }
 ],
 "metadata": {
  "kernelspec": {
   "display_name": "Python 3 (ipykernel)",
   "language": "python",
   "name": "python3"
  },
  "language_info": {
   "codemirror_mode": {
    "name": "ipython",
    "version": 3
   },
   "file_extension": ".py",
   "mimetype": "text/x-python",
   "name": "python",
   "nbconvert_exporter": "python",
   "pygments_lexer": "ipython3",
   "version": "3.9.13"
  }
 },
 "nbformat": 4,
 "nbformat_minor": 5
}
