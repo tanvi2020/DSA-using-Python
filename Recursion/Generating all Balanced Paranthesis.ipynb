{
 "cells": [
  {
   "cell_type": "markdown",
   "id": "7225dc75",
   "metadata": {},
   "source": [
    "# Generating all Balanced Paranthesis"
   ]
  },
  {
   "cell_type": "markdown",
   "id": "5fa0923e",
   "metadata": {},
   "source": [
    "We need to generate all valid combinations of n pairs of parentheses.\n",
    "For example, if n = 3, the output should be:\n",
    "((()))\n",
    "(()())\n",
    "(())()\n",
    "()(())\n",
    "()()()"
   ]
  },
  {
   "cell_type": "markdown",
   "id": "b1f42cfc",
   "metadata": {},
   "source": [
    "# 🏗 How do we solve it?\n",
    "We need to build our string step by step, placing \"(\" (open bracket) and \")\" (close bracket) in the correct order.\n",
    "We have some rules:\n",
    "- 1️⃣ We can only add \"(\" if we still have some left to use.\n",
    "- 2️⃣ We can only add \")\" if there are more open brackets \"(\" placed before it.\n",
    "- 3️⃣ If both open and close brackets are used up, we print the combination."
   ]
  },
  {
   "cell_type": "code",
   "execution_count": 6,
   "id": "f0a845e3",
   "metadata": {},
   "outputs": [
    {
     "name": "stdout",
     "output_type": "stream",
     "text": [
      "((()))\n",
      "(()())\n",
      "(())()\n",
      "()(())\n",
      "()()()\n"
     ]
    }
   ],
   "source": [
    "def Parenthesis(n,opening,closing,output):\n",
    "    # Base condition :  If we have used all open and close brackets, print the result \n",
    "    if opening==0 and closing==0:\n",
    "        print(output)\n",
    "        return\n",
    "    \n",
    "    # Add opening bracket only until opening bracket count is not zero\n",
    "    if opening>0:\n",
    "        Parenthesis(n,opening-1,closing,output+'(')\n",
    "    \n",
    "    # Adding closing bracket only when count of closing brackets is greather than count of opening brackets \n",
    "    if closing>opening:\n",
    "        Parenthesis(n,opening,closing-1,output+')')\n",
    "\n",
    "def Recursion(n):\n",
    "    Parenthesis(n,n,n,'')\n",
    "    \n",
    "Recursion(3)"
   ]
  },
  {
   "cell_type": "code",
   "execution_count": null,
   "id": "e39566bc",
   "metadata": {},
   "outputs": [],
   "source": []
  }
 ],
 "metadata": {
  "kernelspec": {
   "display_name": "Python 3 (ipykernel)",
   "language": "python",
   "name": "python3"
  },
  "language_info": {
   "codemirror_mode": {
    "name": "ipython",
    "version": 3
   },
   "file_extension": ".py",
   "mimetype": "text/x-python",
   "name": "python",
   "nbconvert_exporter": "python",
   "pygments_lexer": "ipython3",
   "version": "3.9.13"
  }
 },
 "nbformat": 4,
 "nbformat_minor": 5
}
