{
 "cells": [
  {
   "cell_type": "markdown",
   "id": "a96af38f",
   "metadata": {},
   "source": [
    "# 🎯 What is the Josephus Problem?\n",
    "Imagine you have N people standing in a circle. You count every K-th person and eliminate them. You keep doing this until only one person is left. That person is the winner! 🏆"
   ]
  },
  {
   "cell_type": "markdown",
   "id": "9fea4850",
   "metadata": {},
   "source": [
    "# 🏗 How do we solve it using recursion?\n",
    "- 1️⃣ Start with N people numbered from 0 to N-1.\n",
    "- 2️⃣ Remove every K-th person.\n",
    "- 3️⃣ Keep doing this recursively until only one person is left.\n",
    "- 4️⃣ Adjust the position because people shift when someone is removed."
   ]
  },
  {
   "cell_type": "code",
   "execution_count": 8,
   "id": "76922ec3",
   "metadata": {},
   "outputs": [
    {
     "name": "stdout",
     "output_type": "stream",
     "text": [
      "24\n"
     ]
    }
   ],
   "source": [
    "def josephus(n, k):\n",
    "    #  Base Case: Only one person left\n",
    "    if n == 1:\n",
    "        return 0  # The last person standing is at index 0\n",
    "    \n",
    "    # Recursive Call: Find winner for (N-1) people, then adjust index\n",
    "    return (josephus(n - 1, k) + k) % n\n",
    "\n",
    "# Wrapper Function (to return 1-based position)\n",
    "def findWinner(n, k):\n",
    "    return josephus(n, k) + 1  # Convert 0-based index to 1-based\n",
    "\n",
    "# Test\n",
    "print(findWinner(40, 7))  # Output: 3"
   ]
  },
  {
   "cell_type": "code",
   "execution_count": null,
   "id": "af4656a7",
   "metadata": {},
   "outputs": [],
   "source": []
  }
 ],
 "metadata": {
  "kernelspec": {
   "display_name": "Python 3 (ipykernel)",
   "language": "python",
   "name": "python3"
  },
  "language_info": {
   "codemirror_mode": {
    "name": "ipython",
    "version": 3
   },
   "file_extension": ".py",
   "mimetype": "text/x-python",
   "name": "python",
   "nbconvert_exporter": "python",
   "pygments_lexer": "ipython3",
   "version": "3.9.13"
  }
 },
 "nbformat": 4,
 "nbformat_minor": 5
}
