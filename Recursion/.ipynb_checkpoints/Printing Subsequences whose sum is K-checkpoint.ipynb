{
 "cells": [
  {
   "cell_type": "markdown",
   "id": "494c6da2",
   "metadata": {},
   "source": [
    "# Printing Subsequences whose sum is K"
   ]
  },
  {
   "cell_type": "code",
   "execution_count": 12,
   "id": "6d25dd8d",
   "metadata": {},
   "outputs": [
    {
     "name": "stdout",
     "output_type": "stream",
     "text": [
      "[1, 1]\n",
      "[2]\n"
     ]
    }
   ],
   "source": [
    "# Print a Subsequence whose sum is k\n",
    "def Subsequence(index,array,k,list1,sums):\n",
    "    if index==len(array):\n",
    "        if sums==k:\n",
    "            print(list1)\n",
    "        return \n",
    "    list1.append(array[index])\n",
    "    sums+=array[index]\n",
    "    Subsequence(index+1,array,k,list1,sums)  # Take\n",
    "    list1.pop()\n",
    "    sums-=array[index]\n",
    "    Subsequence(index+1,array,k,list1,sums) # Not Take\n",
    "    \n",
    "arr=[1,2,1]\n",
    "k=2\n",
    "list1=[]\n",
    "sums=0\n",
    "Subsequence(0,arr,k,list1,sums)"
   ]
  },
  {
   "cell_type": "code",
   "execution_count": null,
   "id": "197c75e6",
   "metadata": {},
   "outputs": [],
   "source": []
  }
 ],
 "metadata": {
  "kernelspec": {
   "display_name": "Python 3 (ipykernel)",
   "language": "python",
   "name": "python3"
  },
  "language_info": {
   "codemirror_mode": {
    "name": "ipython",
    "version": 3
   },
   "file_extension": ".py",
   "mimetype": "text/x-python",
   "name": "python",
   "nbconvert_exporter": "python",
   "pygments_lexer": "ipython3",
   "version": "3.9.13"
  }
 },
 "nbformat": 4,
 "nbformat_minor": 5
}
