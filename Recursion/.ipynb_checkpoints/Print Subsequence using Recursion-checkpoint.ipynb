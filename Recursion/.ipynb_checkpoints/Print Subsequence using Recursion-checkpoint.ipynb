{
 "cells": [
  {
   "cell_type": "markdown",
   "id": "d89f44b5",
   "metadata": {},
   "source": [
    "# Print Subsequence using Recursion\n",
    "\n",
    "Subsequence : A sequence which is contigious or non-contigious but it follows a orders"
   ]
  },
  {
   "cell_type": "code",
   "execution_count": 2,
   "id": "e774e020",
   "metadata": {},
   "outputs": [
    {
     "name": "stdout",
     "output_type": "stream",
     "text": [
      "[3, 1, 2]\n",
      "[3, 1]\n",
      "[3, 2]\n",
      "[3]\n",
      "[1, 2]\n",
      "[1]\n",
      "[2]\n",
      "[]\n"
     ]
    }
   ],
   "source": [
    "def Subsequence(index,array,list1):\n",
    "    if index>=len(array):\n",
    "        print(list1)\n",
    "        return\n",
    "    list1.append(array[index])\n",
    "    Subsequence(index+1,array,list1)  # Take\n",
    "    list1.pop()\n",
    "    Subsequence(index+1,array,list1)  # Not Take\n",
    "    \n",
    "    \n",
    "arr=[3,1,2]\n",
    "list1=[]\n",
    "Subsequence(0,arr,list1)"
   ]
  },
  {
   "cell_type": "code",
   "execution_count": null,
   "id": "2fa30fcb",
   "metadata": {},
   "outputs": [],
   "source": []
  }
 ],
 "metadata": {
  "kernelspec": {
   "display_name": "Python 3 (ipykernel)",
   "language": "python",
   "name": "python3"
  },
  "language_info": {
   "codemirror_mode": {
    "name": "ipython",
    "version": 3
   },
   "file_extension": ".py",
   "mimetype": "text/x-python",
   "name": "python",
   "nbconvert_exporter": "python",
   "pygments_lexer": "ipython3",
   "version": "3.9.13"
  }
 },
 "nbformat": 4,
 "nbformat_minor": 5
}
