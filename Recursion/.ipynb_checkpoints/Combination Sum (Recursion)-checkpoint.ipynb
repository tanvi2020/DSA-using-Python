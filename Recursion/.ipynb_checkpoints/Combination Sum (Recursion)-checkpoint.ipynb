{
 "cells": [
  {
   "cell_type": "markdown",
   "id": "77727e01",
   "metadata": {},
   "source": [
    "# Combination Sum (Recursion)"
   ]
  },
  {
   "cell_type": "markdown",
   "id": "c5eb6a7e",
   "metadata": {},
   "source": [
    "Given an array of distinct integers candidates and a target integer target, return a list of all unique combinations of candidates where the chosen numbers sum to target. You may return the combinations in any order.\n",
    "\n",
    "The same number may be chosen from candidates an unlimited number of times. Two combinations are unique if the \n",
    "frequency\n",
    " of at least one of the chosen numbers is different.\n",
    "\n",
    "The test cases are generated such that the number of unique combinations that sum up to target is less than 150 combinations for the given input.\n",
    "\n",
    "Input: candidates = [2,3,6,7], target = 7\n",
    "Output: [[2,2,3],[7]]\n",
    "Explanation:\n",
    "2 and 3 are candidates, and 2 + 2 + 3 = 7. Note that 2 can be used multiple times.\n",
    "7 is a candidate, and 7 = 7.\n",
    "These are the only two combinations."
   ]
  },
  {
   "cell_type": "code",
   "execution_count": 9,
   "id": "93446566",
   "metadata": {},
   "outputs": [
    {
     "name": "stdout",
     "output_type": "stream",
     "text": [
      "[2, 2, 3]\n",
      "[7]\n"
     ]
    }
   ],
   "source": [
    "def Combination(index,target,array,list1):\n",
    "    if index==len(array) or target<0:\n",
    "        return\n",
    "    if target==0:\n",
    "        print(list1)\n",
    "        return\n",
    "  \n",
    "    list1.append(array[index])\n",
    "    Combination(index,target-array[index],array,list1)\n",
    "    \n",
    "    list1.pop()\n",
    "    Combination(index+1,target,array,list1)\n",
    "        \n",
    "        \n",
    "arr=[2,3,6,7]\n",
    "target=7\n",
    "list1=[]\n",
    "Combination(0,target,arr,list1)"
   ]
  },
  {
   "cell_type": "code",
   "execution_count": null,
   "id": "9d257573",
   "metadata": {},
   "outputs": [],
   "source": []
  }
 ],
 "metadata": {
  "kernelspec": {
   "display_name": "Python 3 (ipykernel)",
   "language": "python",
   "name": "python3"
  },
  "language_info": {
   "codemirror_mode": {
    "name": "ipython",
    "version": 3
   },
   "file_extension": ".py",
   "mimetype": "text/x-python",
   "name": "python",
   "nbconvert_exporter": "python",
   "pygments_lexer": "ipython3",
   "version": "3.9.13"
  }
 },
 "nbformat": 4,
 "nbformat_minor": 5
}
