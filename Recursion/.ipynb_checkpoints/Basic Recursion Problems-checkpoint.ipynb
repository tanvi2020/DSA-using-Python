{
 "cells": [
  {
   "cell_type": "markdown",
   "id": "105288fa",
   "metadata": {},
   "source": [
    "# Basic Recursion Problems\n",
    "\n",
    "Use Recursion when the Question talks about a Subsequence or Combinations"
   ]
  },
  {
   "cell_type": "code",
   "execution_count": 4,
   "id": "c9279734",
   "metadata": {},
   "outputs": [
    {
     "name": "stdout",
     "output_type": "stream",
     "text": [
      "Tanvi\n",
      "Tanvi\n",
      "Tanvi\n",
      "Tanvi\n",
      "Tanvi\n"
     ]
    }
   ],
   "source": [
    "# Print Name n times \n",
    "def fun(n):\n",
    "    if n==0:\n",
    "        return\n",
    "    print('Tanvi')\n",
    "    fun(n-1)\n",
    "fun(5)\n",
    "\n",
    "    "
   ]
  },
  {
   "cell_type": "code",
   "execution_count": 8,
   "id": "f445d1ea",
   "metadata": {},
   "outputs": [
    {
     "name": "stdout",
     "output_type": "stream",
     "text": [
      "10\n",
      "9\n",
      "8\n",
      "7\n",
      "6\n",
      "5\n",
      "4\n",
      "3\n",
      "2\n",
      "1\n"
     ]
    }
   ],
   "source": [
    "# Print Numbers in descending order\n",
    "def Nums(num):\n",
    "    if num==0: \n",
    "        return\n",
    "    print(num)\n",
    "    Nums(num-1)\n",
    "Nums(10)"
   ]
  },
  {
   "cell_type": "markdown",
   "id": "4ca3564d",
   "metadata": {},
   "source": [
    "For printing 1 to 10 using backtracking:\n",
    "What should be our base case?\n",
    "→ The function should stop when we reach 1.\n",
    "\n",
    "How will we use recursion?\n",
    "→ We first reach 1 by recursive calls and then print while returning (backtracking).\n",
    "\n",
    "How is it different from normal recursion?\n",
    "→ In normal recursion, we print before recursive calls.\n",
    "→ In backtracking, we print after returning from recursive calls."
   ]
  },
  {
   "cell_type": "code",
   "execution_count": 13,
   "id": "a8b7a723",
   "metadata": {},
   "outputs": [
    {
     "name": "stdout",
     "output_type": "stream",
     "text": [
      "1\n",
      "2\n",
      "3\n",
      "4\n",
      "5\n",
      "6\n",
      "7\n",
      "8\n",
      "9\n",
      "10\n"
     ]
    }
   ],
   "source": [
    "# Print Numbers sequentially using Backtracking\n",
    "def Nums(number,i):\n",
    "    if number<i:  # If n<1 return\n",
    "        return\n",
    "    Nums(number-1,i) # Else make recursive calls until we reach 1\n",
    "    print(number) # Then print number\n",
    "Nums(10,1)"
   ]
  },
  {
   "cell_type": "code",
   "execution_count": 15,
   "id": "ec3077c7",
   "metadata": {},
   "outputs": [
    {
     "name": "stdout",
     "output_type": "stream",
     "text": [
      "1\n",
      "2\n",
      "3\n",
      "4\n",
      "5\n",
      "6\n",
      "7\n",
      "8\n",
      "9\n",
      "10\n"
     ]
    }
   ],
   "source": [
    "# Printing n numbers sequentially using Recursion\n",
    "def Nums(n,i):\n",
    "    if n>i:\n",
    "        return\n",
    "    print(n)\n",
    "    Nums(n+1,i)\n",
    "Nums(1,10)"
   ]
  },
  {
   "cell_type": "code",
   "execution_count": 2,
   "id": "0b3bcc1a",
   "metadata": {},
   "outputs": [
    {
     "name": "stdout",
     "output_type": "stream",
     "text": [
      "10\n",
      "9\n",
      "8\n",
      "7\n",
      "6\n",
      "5\n",
      "4\n",
      "3\n",
      "2\n",
      "1\n"
     ]
    }
   ],
   "source": [
    "# Printing in Reverse order using Backtracking\n",
    "def fun(n,i):\n",
    "    if n>i:#n<1\n",
    "        return\n",
    "    fun(n+1,i)\n",
    "    print(n)\n",
    "fun(1,10)\n",
    "    "
   ]
  },
  {
   "cell_type": "code",
   "execution_count": 3,
   "id": "47ac488f",
   "metadata": {},
   "outputs": [
    {
     "data": {
      "text/plain": [
       "6"
      ]
     },
     "execution_count": 3,
     "metadata": {},
     "output_type": "execute_result"
    }
   ],
   "source": [
    "# Factorial  using Recursion\n",
    "def Fact(n):\n",
    "    if n==0:\n",
    "        return 1\n",
    "    return n*Fact(n-1)\n",
    "\n",
    "Fact(3)"
   ]
  },
  {
   "cell_type": "code",
   "execution_count": 3,
   "id": "96defe08",
   "metadata": {},
   "outputs": [
    {
     "name": "stdout",
     "output_type": "stream",
     "text": [
      "55\n",
      "55\n"
     ]
    }
   ],
   "source": [
    "# Sum of the first n numbers using Recurssion (Paramterized way)\n",
    "\n",
    "def fun(n,sums):\n",
    "    if n<1:  # If n becomes < 1 print sum and return \n",
    "        print(sums)\n",
    "        return\n",
    "    fun(n-1,sums+n) # Else amke recursive calls by decrementing n and keep updating the sum until n becomes < 1\n",
    "fun(10,0)\n",
    "  \n",
    "# Or this can be also done like\n",
    "def fun2(n,sums,i):\n",
    "    if n>i:\n",
    "        print(sums)\n",
    "        return\n",
    "    fun2(n+1,sums+n,i)\n",
    "fun2(1,0,10)"
   ]
  },
  {
   "cell_type": "code",
   "execution_count": 1,
   "id": "ed173f45",
   "metadata": {},
   "outputs": [
    {
     "data": {
      "text/plain": [
       "55"
      ]
     },
     "execution_count": 1,
     "metadata": {},
     "output_type": "execute_result"
    }
   ],
   "source": [
    "# Sum of the first n numbers using Recurssion (Functional Way) \n",
    "# We want the function to return the answer instead of printing . Say suppose n=3 So to print f(3) the function will \n",
    "# first need to calulate f(2) and to calculate this it needs to first calculate f(1). So f(n) + f(n-1)\n",
    "def fun(n):\n",
    "    if n==0:\n",
    "        return 0\n",
    "    return n+fun(n-1)\n",
    "fun(10)"
   ]
  },
  {
   "cell_type": "code",
   "execution_count": 1,
   "id": "1c9e1758",
   "metadata": {},
   "outputs": [
    {
     "name": "stdout",
     "output_type": "stream",
     "text": [
      "5\n",
      "4\n",
      "3\n",
      "2\n",
      "1\n"
     ]
    }
   ],
   "source": [
    "# Print Reverse of an array using for loop \n",
    "def rev(arr):\n",
    "    m=len(arr)-1\n",
    "    for i in arr:\n",
    "        print(arr[m])\n",
    "        m-=1\n",
    "rev([1,2,3,4,5])"
   ]
  },
  {
   "cell_type": "code",
   "execution_count": 12,
   "id": "eadf7f14",
   "metadata": {},
   "outputs": [
    {
     "name": "stdout",
     "output_type": "stream",
     "text": [
      "[5, 4, 3, 2, 1]\n",
      "[4, 5, 2, 3, 2, 1]\n"
     ]
    }
   ],
   "source": [
    "# Print Reverse of an array using Recursion function\n",
    "def fun(arr,left,right):  \n",
    "    if left>right:\n",
    "        print(arr)\n",
    "        return \n",
    "    arr[left],arr[right]=arr[right],arr[left] # Swap left and right\n",
    "    fun(arr,left+1,right-1) # increment left by 1 and decrement right by 1\n",
    "    \n",
    "arr=[1,2,3,4,5]\n",
    "fun(arr,0,len(arr)-1)\n",
    "\n",
    "arr2=[1,2,3,2,5,4]\n",
    "fun(arr2,0,len(arr2)-1)"
   ]
  },
  {
   "cell_type": "code",
   "execution_count": 19,
   "id": "ced7f7bc",
   "metadata": {},
   "outputs": [
    {
     "name": "stdout",
     "output_type": "stream",
     "text": [
      "Not Plaindrome\n",
      "Palindrome\n"
     ]
    }
   ],
   "source": [
    "# Check if a given string is Palindrome or not\n",
    "def fun(string):\n",
    "    if string==string[::-1]:\n",
    "        print('Palindrome')\n",
    "    else:\n",
    "        print('Not Plaindrome')\n",
    "fun('Tanvi')\n",
    "fun('aaaa')"
   ]
  },
  {
   "cell_type": "code",
   "execution_count": 12,
   "id": "6c218f4f",
   "metadata": {},
   "outputs": [
    {
     "data": {
      "text/plain": [
       "'Not Palindrome'"
      ]
     },
     "execution_count": 12,
     "metadata": {},
     "output_type": "execute_result"
    }
   ],
   "source": [
    "# Check if a string is Palindrome or not using Recursion\n",
    "def Palindrome(string,left,right):\n",
    "    if left>=right:\n",
    "        return 'Palindrome'\n",
    "    if string[left]!=string[right]:\n",
    "        return 'Not Palindrome'\n",
    "    return Palindrome(string,left+1,right-1)\n",
    "s='abba'\n",
    "Palindrome(s,0,len(s)-1)\n",
    "s2='tree'\n",
    "Palindrome(s2,0,len(s2)-1)"
   ]
  },
  {
   "cell_type": "code",
   "execution_count": 3,
   "id": "4e4d88c6",
   "metadata": {},
   "outputs": [
    {
     "data": {
      "text/plain": [
       "8"
      ]
     },
     "execution_count": 3,
     "metadata": {},
     "output_type": "execute_result"
    }
   ],
   "source": [
    "# Print the position of an element n in Fibonacci Series using recursion : 0 1 1 2 3 5 8 13...\n",
    "def Fibo(n):\n",
    "    if n<=1:\n",
    "        return n\n",
    "    last=Fibo(n-1)\n",
    "    second_last=Fibo(n-2)\n",
    "    return last+second_last\n",
    "Fibo(6)"
   ]
  },
  {
   "cell_type": "code",
   "execution_count": 27,
   "id": "6ad09601",
   "metadata": {},
   "outputs": [
    {
     "name": "stdout",
     "output_type": "stream",
     "text": [
      "0\n",
      "1\n",
      "1\n",
      "2\n",
      "3\n",
      "5\n",
      "8\n",
      "13\n",
      "21\n"
     ]
    }
   ],
   "source": [
    "def Fibo(n):\n",
    "    if n==0:  \n",
    "        return 0\n",
    "    elif n==1:\n",
    "        return 1\n",
    "    return Fibo(n-1)+Fibo(n-2)\n",
    "def Series(n):\n",
    "    for i in range(0,n-1):\n",
    "        print(Fibo(i))\n",
    "Series(10)"
   ]
  },
  {
   "cell_type": "code",
   "execution_count": null,
   "id": "fea288a8",
   "metadata": {},
   "outputs": [],
   "source": []
  }
 ],
 "metadata": {
  "kernelspec": {
   "display_name": "Python 3 (ipykernel)",
   "language": "python",
   "name": "python3"
  },
  "language_info": {
   "codemirror_mode": {
    "name": "ipython",
    "version": 3
   },
   "file_extension": ".py",
   "mimetype": "text/x-python",
   "name": "python",
   "nbconvert_exporter": "python",
   "pygments_lexer": "ipython3",
   "version": "3.9.13"
  }
 },
 "nbformat": 4,
 "nbformat_minor": 5
}
