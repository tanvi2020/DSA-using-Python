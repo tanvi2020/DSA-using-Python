{
 "cells": [
  {
   "cell_type": "markdown",
   "id": "e38b8912",
   "metadata": {},
   "source": [
    "# Permutation with Space"
   ]
  },
  {
   "cell_type": "markdown",
   "id": "94f1ed72",
   "metadata": {},
   "source": [
    "Code Breakdown:\n",
    "def permuteWithSpaces(input_str, output, index):\n",
    "\n",
    "This is where we start our function. The name of this function is permuteWithSpaces.\n",
    "We are giving it three things to work with:\n",
    "input_str: This is the original string we want to make permutations from, like \"ABC\".\n",
    "output: This is where we build the new version of the string as we add spaces.\n",
    "index: This tells us which position we are at in the string to know where we are.\n",
    "if index == len(input_str):\n",
    "\n",
    "This is checking if we are at the end of the string. When we reach the end, it's time to print the current result (with spaces).\n",
    "print(output)\n",
    "\n",
    "This prints the output we've been building. It's the result of combining the original string and the spaces in different places.\n",
    "return\n",
    "\n",
    "This means: \"I’m done, so stop the function here.\" If we printed the result, there's no need to do anything else.\n",
    "permuteWithSpaces(input_str, output + input_str[index], index + 1)\n",
    "\n",
    "This line says: \"Let’s add the current character without any space and move to the next one.\"\n",
    "output + input_str[index]: We take the output string so far, add the current character (input_str[index]), and then call the function to work on the next character by increasing index by 1.\n",
    "if index < len(input_str) - 1:\n",
    "\n",
    "This checks: \"Are we not at the last character?\" If we’re not at the end, then we can add a space and continue.\n",
    "permuteWithSpaces(input_str, output + \"_\" + input_str[index], index + 1)\n",
    "\n",
    "Here, we say: \"Let’s add a space between the characters and move to the next character.\"\n",
    "output + \"_\" + input_str[index]: We take the current output, add a space (\"_\"), and then add the next character (input_str[index]).\n",
    "def generatePermutationsWithSpaces(string):\n",
    "\n",
    "This is a helper function. It’s just like a starting point. We start with the string and call the permuteWithSpaces function.\n",
    "We give the function the first character of the string (string[0]) to begin with, and we start at index 1.\n",
    "generatePermutationsWithSpaces(\"ABC\")\n",
    "\n",
    "Finally, this line calls the generatePermutationsWithSpaces function with the input string \"ABC\". It’s like saying, \"Let’s go make all the combinations with spaces for the string 'ABC'!\"\n",
    "How it Works:\n",
    "It starts with \"A\", then it tries two possibilities:\n",
    "Add B right after A (no space): \"AB\"\n",
    "Add B with a space: \"A B\"\n",
    "It does the same for C after each step:\n",
    "\"AB\" becomes \"ABC\" or \"AB C\"\n",
    "\"A B\" becomes \"A BC\" or \"A B C\""
   ]
  },
  {
   "cell_type": "code",
   "execution_count": 5,
   "id": "fc795b99",
   "metadata": {},
   "outputs": [
    {
     "name": "stdout",
     "output_type": "stream",
     "text": [
      "ABC\n",
      "AB C\n",
      "A BC\n",
      "A B C\n"
     ]
    }
   ],
   "source": [
    "def Permutation(inputstr,output,index):\n",
    "    # Base Condition\n",
    "    if index==len(inputstr):\n",
    "        print(output)\n",
    "        return\n",
    "    \n",
    "    # Take charachters without space\n",
    "    Permutation(inputstr,output+inputstr[index],index+1)\n",
    "    \n",
    "    # Take charachters with space *** Only if we are not on the last index ***\n",
    "    if index<len(inputstr):\n",
    "        Permutation(inputstr,output+' '+inputstr[index],index+1)\n",
    "        \n",
    "def Recursion(string):\n",
    "    Permutation(string,string[0],1)\n",
    "    \n",
    "Recursion('ABC')"
   ]
  },
  {
   "cell_type": "code",
   "execution_count": null,
   "id": "95a98136",
   "metadata": {},
   "outputs": [],
   "source": []
  }
 ],
 "metadata": {
  "kernelspec": {
   "display_name": "Python 3 (ipykernel)",
   "language": "python",
   "name": "python3"
  },
  "language_info": {
   "codemirror_mode": {
    "name": "ipython",
    "version": 3
   },
   "file_extension": ".py",
   "mimetype": "text/x-python",
   "name": "python",
   "nbconvert_exporter": "python",
   "pygments_lexer": "ipython3",
   "version": "3.9.13"
  }
 },
 "nbformat": 4,
 "nbformat_minor": 5
}
