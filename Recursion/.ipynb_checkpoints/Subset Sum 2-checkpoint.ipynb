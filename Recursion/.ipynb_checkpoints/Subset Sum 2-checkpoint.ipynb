{
 "cells": [
  {
   "cell_type": "markdown",
   "id": "03e15d1b",
   "metadata": {},
   "source": [
    "# Subset Sum 2 \n",
    "\n",
    "Given an integer array that may contain duplicates return all possible subsets(the power sets)\n",
    "The soultion set must not contain duplicate subsets. Return the solution in any order \n",
    "\n",
    "Example:\n",
    "Input : arr = [1,2,2]\n",
    "Output : [],[1],[1,2],[1,2,2],[2],[2,2]"
   ]
  },
  {
   "cell_type": "code",
   "execution_count": 17,
   "id": "a2e2e498",
   "metadata": {},
   "outputs": [
    {
     "name": "stdout",
     "output_type": "stream",
     "text": [
      "[[], [1], [1, 2], [1, 2, 2], [2], [2, 2]]\n"
     ]
    }
   ],
   "source": [
    "def Subset(index,list1,array,result):\n",
    "    result.append(list1[:])\n",
    "    for i in range(index,len(array)):\n",
    "        if i>index and array[i]==array[i-1]:\n",
    "            continue\n",
    "\n",
    "    # Take\n",
    "        list1.append(array[i])\n",
    "        Subset(i+1,list1,array,result)\n",
    "    \n",
    "    # Backtracking\n",
    "        list1.pop()\n",
    "    \n",
    "    # Not Take\n",
    "    #Subset(index+1,sums,array,result,s)\n",
    "\n",
    "array=[1,2,2]\n",
    "result=[]\n",
    "list1=[]\n",
    "result.sort()\n",
    "Subset(0,list1,array,result)\n",
    "\n",
    "print(result)\n"
   ]
  },
  {
   "cell_type": "code",
   "execution_count": null,
   "id": "ee249010",
   "metadata": {},
   "outputs": [],
   "source": []
  }
 ],
 "metadata": {
  "kernelspec": {
   "display_name": "Python 3 (ipykernel)",
   "language": "python",
   "name": "python3"
  },
  "language_info": {
   "codemirror_mode": {
    "name": "ipython",
    "version": 3
   },
   "file_extension": ".py",
   "mimetype": "text/x-python",
   "name": "python",
   "nbconvert_exporter": "python",
   "pygments_lexer": "ipython3",
   "version": "3.9.13"
  }
 },
 "nbformat": 4,
 "nbformat_minor": 5
}
