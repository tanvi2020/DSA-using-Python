{
 "cells": [
  {
   "cell_type": "markdown",
   "id": "adaa3f33",
   "metadata": {},
   "source": [
    "# Return Count of Subsequence whose sum is K"
   ]
  },
  {
   "cell_type": "code",
   "execution_count": 23,
   "id": "6fa5ec82",
   "metadata": {},
   "outputs": [
    {
     "name": "stdout",
     "output_type": "stream",
     "text": [
      "[1, 1]\n",
      "[2]\n"
     ]
    },
    {
     "data": {
      "text/plain": [
       "2"
      ]
     },
     "execution_count": 23,
     "metadata": {},
     "output_type": "execute_result"
    }
   ],
   "source": [
    "def Subsequence(index,array,list1,sums,k):\n",
    "    if index==len(array):\n",
    "        if sums==k:\n",
    "            print(list1)\n",
    "            return 1\n",
    "        return 0\n",
    "    list1.append(array[index])\n",
    "    sums+=array[index]\n",
    "    take=Subsequence(index+1,array,list1,sums,k)\n",
    "    \n",
    "    list1.pop()\n",
    "    sums-=array[index]\n",
    "    not_take=Subsequence(index+1,array,list1,sums,k)\n",
    "        \n",
    "    return take+not_take\n",
    "    \n",
    "    \n",
    "arr=[1,2,1]\n",
    "k=2\n",
    "list1=[]\n",
    "sums=0\n",
    "Subsequence(0,arr,list1,sums,k)  "
   ]
  },
  {
   "cell_type": "code",
   "execution_count": null,
   "id": "d18df8be",
   "metadata": {},
   "outputs": [],
   "source": []
  }
 ],
 "metadata": {
  "kernelspec": {
   "display_name": "Python 3 (ipykernel)",
   "language": "python",
   "name": "python3"
  },
  "language_info": {
   "codemirror_mode": {
    "name": "ipython",
    "version": 3
   },
   "file_extension": ".py",
   "mimetype": "text/x-python",
   "name": "python",
   "nbconvert_exporter": "python",
   "pygments_lexer": "ipython3",
   "version": "3.9.13"
  }
 },
 "nbformat": 4,
 "nbformat_minor": 5
}
