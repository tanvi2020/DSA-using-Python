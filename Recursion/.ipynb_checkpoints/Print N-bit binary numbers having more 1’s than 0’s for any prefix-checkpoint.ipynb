{
 "cells": [
  {
   "cell_type": "markdown",
   "id": "f786bf9b",
   "metadata": {},
   "source": [
    "# Print N-bit binary numbers having more 1’s than 0’s for any prefix"
   ]
  },
  {
   "cell_type": "markdown",
   "id": "732f241a",
   "metadata": {},
   "source": [
    "We need to generate all possible binary numbers of length N (only 0s and 1s) where at any point, \n",
    "the number of 1s is always greater than or equal to the number of 0s.\n",
    "\n",
    "For example, if N = 3, the valid outputs are:\n",
    "    111\n",
    "    110\n",
    "    101\n",
    "    "
   ]
  },
  {
   "cell_type": "markdown",
   "id": "99e87fba",
   "metadata": {},
   "source": [
    "# 🏗 How do we solve it?\n",
    "We need to build the binary number step by step and follow these rules:\n",
    "\n",
    "- 1️⃣ We can always add a '1' if we have space left.\n",
    "- 2️⃣ We can only add a '0' if the count of 1s is already greater than 0s.\n",
    "- 3️⃣ Once we reach N length, we print the number."
   ]
  },
  {
   "cell_type": "code",
   "execution_count": 1,
   "id": "0f9408ff",
   "metadata": {},
   "outputs": [
    {
     "name": "stdout",
     "output_type": "stream",
     "text": [
      "111\n",
      "110\n",
      "101\n"
     ]
    }
   ],
   "source": [
    "def Binary(ones,zeros,n,result):\n",
    "    # Base condition\n",
    "    if len(result)==n:\n",
    "        print(result)\n",
    "        return\n",
    "    Binary(ones+1,zeros,n,result+'1')\n",
    "    \n",
    "    if ones>zeros:\n",
    "        Binary(ones,zeros+1,n,result+'0')\n",
    "        \n",
    "def Recursion(n):\n",
    "    Binary(0,0,n,'')\n",
    "    \n",
    "Recursion(3) "
   ]
  },
  {
   "cell_type": "code",
   "execution_count": null,
   "id": "228920e3",
   "metadata": {},
   "outputs": [],
   "source": []
  }
 ],
 "metadata": {
  "kernelspec": {
   "display_name": "Python 3 (ipykernel)",
   "language": "python",
   "name": "python3"
  },
  "language_info": {
   "codemirror_mode": {
    "name": "ipython",
    "version": 3
   },
   "file_extension": ".py",
   "mimetype": "text/x-python",
   "name": "python",
   "nbconvert_exporter": "python",
   "pygments_lexer": "ipython3",
   "version": "3.9.13"
  }
 },
 "nbformat": 4,
 "nbformat_minor": 5
}
