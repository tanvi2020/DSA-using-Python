{
 "cells": [
  {
   "cell_type": "markdown",
   "id": "0f4cbb67",
   "metadata": {},
   "source": [
    "# Sort an Array using Recursion"
   ]
  },
  {
   "cell_type": "markdown",
   "id": "c5c71f97",
   "metadata": {},
   "source": [
    "1️⃣ Take One Block Out – Pick the last number from the array.\n",
    "2️⃣ Sort the Remaining Blocks – Recursively sort the rest of the array.\n",
    "3️⃣ Put the Block in the Right Place – Insert the removed number in the correct position in the sorted part.\n",
    "\n",
    "This is called insertion sort using recursion.\n",
    "\n",
    "-recursiveSort() keeps removing the last number and sorting the remaining part.\n",
    "-insert() places the removed number in the right place in the sorted part.\n",
    "-The process repeats until the whole array is sorted."
   ]
  },
  {
   "cell_type": "code",
   "execution_count": 3,
   "id": "c8dbb3e0",
   "metadata": {},
   "outputs": [
    {
     "name": "stdout",
     "output_type": "stream",
     "text": [
      "[1, 2, 5, 6, 9]\n"
     ]
    }
   ],
   "source": [
    "def insert(array,value):\n",
    "    # Base case: If array is empty or last element is smaller, put value at the end\n",
    "    if (len(array)==0) or arr[-1]<=value:\n",
    "        array.append(value)\n",
    "        return\n",
    "    # remove the last element \n",
    "    last=array.pop()\n",
    "    \n",
    "    # Recursively find the correct position for the value\n",
    "    insert(array,value)\n",
    "    \n",
    "    # Once the whole array gets sorted, append the last element in its right place\n",
    "    array.append(last)\n",
    "    \n",
    "def Recursive_sort(arr):\n",
    "    # Base case: If array has 1 or no elements, it's already sorted\n",
    "    if len(arr)<=1:\n",
    "        return\n",
    "    \n",
    "    # else remove last element\n",
    "    last=arr.pop()\n",
    "    \n",
    "    # Sort the remaining array\n",
    "    Recursive_sort(arr)\n",
    "    \n",
    "    # Insert the removed element in the right position\n",
    "    insert(arr,last)\n",
    "\n",
    "arr = [5, 2, 9, 1, 6]\n",
    "Recursive_sort(arr)\n",
    "print(arr) "
   ]
  },
  {
   "cell_type": "code",
   "execution_count": 2,
   "id": "38b9af5b",
   "metadata": {},
   "outputs": [
    {
     "name": "stdout",
     "output_type": "stream",
     "text": [
      "[1, 2, 5, 6, 9]\n"
     ]
    }
   ],
   "source": [
    "def StackSort(stack,value):\n",
    "    if (len(stack)==0) or stack[-1]<=value:\n",
    "        stack.append(value)\n",
    "        return\n",
    "    \n",
    "    # pop the last element\n",
    "    last=stack.pop()\n",
    "    \n",
    "    # Recursively find the correct position for the value\n",
    "    StackSort(stack,value)\n",
    "    \n",
    "    # insert back last element to its correct position\n",
    "    stack.append(last)\n",
    "    \n",
    "def Recursion(stack):\n",
    "    if len(stack)<=1:\n",
    "        return\n",
    "    \n",
    "    # Remove the last element and recursively sort the rest of the stack\n",
    "    last=stack.pop()\n",
    "    \n",
    "    Recursion(stack)\n",
    "    \n",
    "    # Insert element back to its right position\n",
    "    StackSort(stack,last)\n",
    "    \n",
    "\n",
    "stack = [5, 2, 9, 1, 6]\n",
    "Recursion(stack)\n",
    "print(stack)"
   ]
  },
  {
   "cell_type": "code",
   "execution_count": null,
   "id": "f2a60aba",
   "metadata": {},
   "outputs": [],
   "source": []
  }
 ],
 "metadata": {
  "kernelspec": {
   "display_name": "Python 3 (ipykernel)",
   "language": "python",
   "name": "python3"
  },
  "language_info": {
   "codemirror_mode": {
    "name": "ipython",
    "version": 3
   },
   "file_extension": ".py",
   "mimetype": "text/x-python",
   "name": "python",
   "nbconvert_exporter": "python",
   "pygments_lexer": "ipython3",
   "version": "3.9.13"
  }
 },
 "nbformat": 4,
 "nbformat_minor": 5
}
