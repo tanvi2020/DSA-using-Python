{
 "cells": [
  {
   "cell_type": "markdown",
   "id": "153e5226",
   "metadata": {},
   "source": [
    "# Subset Sum 1\n",
    "\n",
    "Given a list of array of N integers print sums of all subsets.Output should be printed in increasing order of sums .\n",
    "\n",
    "Example:\n",
    "Input : 0 2 3 5\n",
    "\n",
    "Explanation:\n",
    "When no elements are taken the  sum=0\n",
    "When only 2 is taken then sum=2\n",
    "when only 3 is taken then sum=3\n",
    "When 2 and 3 are taken then sum=5\n",
    "When all are taken then sum = 8\n",
    "\n"
   ]
  },
  {
   "cell_type": "code",
   "execution_count": 16,
   "id": "f7b52230",
   "metadata": {},
   "outputs": [
    {
     "name": "stdout",
     "output_type": "stream",
     "text": [
      "[0, 0, 2, 2, 3, 3, 5, 5, 5, 5, 7, 7, 8, 8, 10, 10]\n"
     ]
    }
   ],
   "source": [
    "def fun(index,sums,array,result):\n",
    "    if index==len(array):\n",
    "        result.append(sums)\n",
    "        return\n",
    "    # Take the element \n",
    "    fun(index+1,sums+array[index],array,result)\n",
    "    \n",
    "    # Not Take\n",
    "    fun(index+1,sums,array,result)\n",
    "    \n",
    "    \n",
    "array=[0,2,3,5]\n",
    "sums=0\n",
    "result=[]\n",
    "fun(0,sums,array,result)\n",
    "result.sort()\n",
    "print(result)"
   ]
  },
  {
   "cell_type": "code",
   "execution_count": null,
   "id": "1e7b380a",
   "metadata": {},
   "outputs": [],
   "source": []
  }
 ],
 "metadata": {
  "kernelspec": {
   "display_name": "Python 3 (ipykernel)",
   "language": "python",
   "name": "python3"
  },
  "language_info": {
   "codemirror_mode": {
    "name": "ipython",
    "version": 3
   },
   "file_extension": ".py",
   "mimetype": "text/x-python",
   "name": "python",
   "nbconvert_exporter": "python",
   "pygments_lexer": "ipython3",
   "version": "3.9.13"
  }
 },
 "nbformat": 4,
 "nbformat_minor": 5
}
