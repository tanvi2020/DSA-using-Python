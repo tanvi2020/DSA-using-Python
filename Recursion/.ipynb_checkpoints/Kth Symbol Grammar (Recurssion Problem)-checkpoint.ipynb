{
 "cells": [
  {
   "cell_type": "markdown",
   "id": "9c6454dd",
   "metadata": {},
   "source": [
    "# Kth Symbol Grammar (Recurssion Problem)"
   ]
  },
  {
   "cell_type": "markdown",
   "id": "c94d66e3",
   "metadata": {},
   "source": [
    "We build a table of n rows (1-indexed). We start by writing 0 in the 1st row. Now in every subsequent row, we look at the previous row and replace each occurrence of 0 with 01, and each occurrence of 1 with 10.\n",
    "\n",
    "For example, for n = 3, the 1st row is 0, the 2nd row is 01, and the 3rd row is 0110.\n",
    "Given two integer n and k, return the kth (1-indexed) symbol in the nth row of a table of n rows.\n",
    "\n",
    " \n",
    "\n",
    "- Example 1:\n",
    "\n",
    "Input: n = 1, k = 1\n",
    "Output: 0\n",
    "Explanation: row 1: 0\n",
    "\n",
    "- Example 2:\n",
    "\n",
    "Input: n = 2, k = 1\n",
    "Output: 0\n",
    "Explanation: \n",
    "row 1: 0\n",
    "row 2: 01"
   ]
  },
  {
   "cell_type": "markdown",
   "id": "5b602a80",
   "metadata": {},
   "source": [
    "# Pattern \n",
    "- n-->row \n",
    "- k--> column .\n",
    "- If n==1 and k==1 then value=0. \n",
    "- 0 ---> 01   and 1---> 10\n",
    "\n",
    "Patterns to be observed :\n",
    "    \n",
    "1. The n-th row is generated from the (n-1)-th row.The first half of the n-th row is the same as (n-1)-th row.The second half      is the bitwise complement (flipped version) of the (n-1)-th row.\n",
    "\n",
    "2. If k is in the first half (k ≤ mid), it has the same value as the parent (solve(n-1, k)).\n",
    "   If k is in the second half (k > mid), it is the flipped value of the parent (1 - solve(n-1, k-mid)).\n",
    "\n",
    "   \n",
    "- n values  Pattern         k values\n",
    "- n=1        0                 k=1\n",
    "- n=2        01                k=2\n",
    "- n=3        0110              k=4\n",
    "- n=4        01101001          k=8"
   ]
  },
  {
   "cell_type": "code",
   "execution_count": 15,
   "id": "8cbfeae8",
   "metadata": {},
   "outputs": [
    {
     "name": "stdout",
     "output_type": "stream",
     "text": [
      "1\n",
      "0\n",
      "0\n",
      "1\n"
     ]
    }
   ],
   "source": [
    "def solve(n,k):\n",
    "    if n==1  :\n",
    "        return 0\n",
    "    \n",
    "    mid=2**(n-1)//2\n",
    "    \n",
    "    if k<=mid:\n",
    "        return solve(n-1,k)\n",
    "    else:\n",
    "        return 1-solve(n-1,k-mid)\n",
    "    \n",
    "print(solve(2,3))\n",
    "print(solve(1,1))\n",
    "print(solve(4,4))\n",
    "print(solve(3,2))"
   ]
  },
  {
   "cell_type": "code",
   "execution_count": null,
   "id": "44733077",
   "metadata": {},
   "outputs": [],
   "source": [
    "# Kth Symbol Grammar (Recurssion Problem)\n",
    "\n",
    "We build a table of n rows (1-indexed). We start by writing 0 in the 1st row. Now in every subsequent row, we look at the previous row and replace each occurrence of 0 with 01, and each occurrence of 1 with 10.\n",
    "\n",
    "For example, for n = 3, the 1st row is 0, the 2nd row is 01, and the 3rd row is 0110.\n",
    "Given two integer n and k, return the kth (1-indexed) symbol in the nth row of a table of n rows.\n",
    "\n",
    " \n",
    "\n",
    "- Example 1:\n",
    "\n",
    "Input: n = 1, k = 1\n",
    "Output: 0\n",
    "Explanation: row 1: 0\n",
    "\n",
    "- Example 2:\n",
    "\n",
    "Input: n = 2, k = 1\n",
    "Output: 0\n",
    "Explanation: \n",
    "row 1: 0\n",
    "row 2: 01\n",
    "\n",
    "# Pattern \n",
    "- n-->row \n",
    "- k--> column .\n",
    "- If n==1 and k==1 then value=0. \n",
    "- 0 ---> 01   and 1---> 10\n",
    "\n",
    "Patterns to be observed :\n",
    "    \n",
    "1. The n-th row is generated from the (n-1)-th row.The first half of the n-th row is the same as (n-1)-th row.The second half      is the bitwise complement (flipped version) of the (n-1)-th row.\n",
    "\n",
    "2. If k is in the first half (k ≤ mid), it has the same value as the parent (solve(n-1, k)).\n",
    "   If k is in the second half (k > mid), it is the flipped value of the parent (1 - solve(n-1, k-mid)).\n",
    "\n",
    "   \n",
    "- n values  Pattern         k values\n",
    "- n=1        0                 k=1\n",
    "- n=2        01                k=2\n",
    "- n=3        0110              k=4\n",
    "- n=4        01101001          k=8\n",
    "\n",
    "def solve(n,k):\n",
    "    if n==1  :\n",
    "        return 0\n",
    "    \n",
    "    mid=2**(n-1)//2\n",
    "    \n",
    "    if k<=mid:\n",
    "        return solve(n-1,k)\n",
    "    else:\n",
    "        return 1-solve(n-1,k-mid)\n",
    "    \n",
    "print(solve(2,3))\n",
    "print(solve(1,1))\n",
    "print(solve(4,4))\n",
    "print(solve(3,2))"
   ]
  }
 ],
 "metadata": {
  "kernelspec": {
   "display_name": "Python 3 (ipykernel)",
   "language": "python",
   "name": "python3"
  },
  "language_info": {
   "codemirror_mode": {
    "name": "ipython",
    "version": 3
   },
   "file_extension": ".py",
   "mimetype": "text/x-python",
   "name": "python",
   "nbconvert_exporter": "python",
   "pygments_lexer": "ipython3",
   "version": "3.9.13"
  }
 },
 "nbformat": 4,
 "nbformat_minor": 5
}
