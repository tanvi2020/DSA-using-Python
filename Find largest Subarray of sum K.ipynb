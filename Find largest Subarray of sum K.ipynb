{
 "cells": [
  {
   "cell_type": "markdown",
   "id": "357622ea",
   "metadata": {},
   "source": [
    "# Find largest Subarray of sum K"
   ]
  },
  {
   "cell_type": "raw",
   "id": "216e426a",
   "metadata": {},
   "source": [
    "1. How to Identify a Variable size window problem :\n",
    "\t\ta. We will be given an array/string\n",
    "\t\tb. A value K which is sum/condition value will be given\n",
    "\t\tc. We will be asked to find a window which may vary \n",
    "\t2. In this problem I will define the following , I =0 j=0 to iterate over the array, sum=0 will store the sum of elements in array until it is equal to k , mx=0 will store the maximum window size .\n",
    "\t3. Pseudocode :\n",
    "\t\ti=0 \n",
    "\t\tj=0\n",
    "\t\tSum=0\n",
    "\t\tMx=0\n",
    "\t\tWhile j< len(arr):\n",
    "\t\t\tSum will be the sum of all jth elements \n",
    "\t\t\tSum=sum+arr[j]\n",
    "\t\t\tIf sum is less than k :\n",
    "\t\t\t\tIncrement j \n",
    "\t\t\t\tj+=1\n",
    "\t\t\tIf sum if equal to k:\n",
    "\t\t\t\tCheck if the window size is greater than the current window size in mx\n",
    "\t\t\t\tIf (j-i+1)>mx:\n",
    "\t\t\t\t\tMx=j-i+1\n",
    "                Increment j by 1\n",
    "\t\t\tIf the sum exceeds k :\n",
    "\t\t\t\tRemove all the ith elements until the sum becomes equal to k \n",
    "\t\t\t\tWhile sum>k:\n",
    "\t\t\t\t\tSum-=arr[i]\n",
    "            Return mx"
   ]
  },
  {
   "cell_type": "code",
   "execution_count": 2,
   "id": "493e0e43",
   "metadata": {},
   "outputs": [
    {
     "name": "stdout",
     "output_type": "stream",
     "text": [
      "sum= 4\n",
      "If sums < k incremented value of j = 1\n",
      "sum= 5\n",
      "If sums == k value of j = 1\n",
      "If sums == k incremented value of j = 2\n",
      "sum= 6\n",
      "If sums > k value of i = 0\n",
      "If sums > k incremented value of i = 1\n",
      "If sums > k value of j = 3\n",
      "sum= 3\n",
      "If sums < k incremented value of j = 4\n",
      "sum= 5\n",
      "If sums == k value of j = 4\n",
      "If sums == k incremented value of j = 5\n",
      "sum= 8\n",
      "If sums > k value of i = 1\n",
      "If sums > k incremented value of i = 2\n",
      "If sums > k value of i = 2\n",
      "If sums > k incremented value of i = 3\n",
      "If sums > k value of i = 3\n",
      "If sums > k incremented value of i = 4\n",
      "If sums > k value of j = 6\n",
      "sum= 10\n",
      "If sums > k value of i = 4\n",
      "If sums > k incremented value of i = 5\n",
      "If sums > k value of i = 5\n",
      "If sums > k incremented value of i = 6\n",
      "If sums > k value of j = 7\n",
      "4\n"
     ]
    }
   ],
   "source": [
    "def Largest(arr,k):  # Given an array and a sum k \n",
    "    i=0\n",
    "    j=0\n",
    "    mx=0  # Will store the size of the largest window\n",
    "    sums=0  # will sum the elements until it equals to k \n",
    "    while j<len(arr): #since we want the loop to run only until the array size is reached\n",
    "        # Perform the Calculations\n",
    "        sums=sums+arr[j]\n",
    "        print('sum=',sums)\n",
    "        # Check if sum is less than k , if true then increment j\n",
    "        if sums<k:\n",
    "            j+=1\n",
    "            print('If sums < k incremented value of j =',j)\n",
    "        # Check if sum is equal to k and if the window size is greater than cyrrent value of mx then update mx with new size \n",
    "        elif sums==k:\n",
    "            if (j-i+1)>mx:\n",
    "                mx=(j-i+1)\n",
    "                print('If sums == k value of j =',j)\n",
    "                j+=1\n",
    "                print('If sums == k incremented value of j =',j)\n",
    "            # or mx=max(mx,(j-i+1))\n",
    "        # Check if the sum exceeds k . If the sum is greater than k then delete all the ith elements until the sum=k\n",
    "        elif sums>k:\n",
    "            while sums>k:\n",
    "                sums=sums-arr[i]\n",
    "                print('If sums > k value of i =',i)\n",
    "                i+=1\n",
    "                print('If sums > k incremented value of i =',i)\n",
    "            j+=1\n",
    "            print('If sums > k value of j =',j)\n",
    "    return mx\n",
    "\n",
    "print(Largest([4,1,1,1,2,3,5],5))"
   ]
  },
  {
   "cell_type": "code",
   "execution_count": null,
   "id": "b3933cfa",
   "metadata": {},
   "outputs": [],
   "source": []
  }
 ],
 "metadata": {
  "kernelspec": {
   "display_name": "Python 3 (ipykernel)",
   "language": "python",
   "name": "python3"
  },
  "language_info": {
   "codemirror_mode": {
    "name": "ipython",
    "version": 3
   },
   "file_extension": ".py",
   "mimetype": "text/x-python",
   "name": "python",
   "nbconvert_exporter": "python",
   "pygments_lexer": "ipython3",
   "version": "3.9.13"
  }
 },
 "nbformat": 4,
 "nbformat_minor": 5
}
