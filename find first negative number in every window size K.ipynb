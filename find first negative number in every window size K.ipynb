{
 "cells": [
  {
   "cell_type": "markdown",
   "id": "f45c49d0",
   "metadata": {},
   "source": [
    "# find first negative number in every window size K"
   ]
  },
  {
   "cell_type": "code",
   "execution_count": null,
   "id": "1c4aa352",
   "metadata": {},
   "outputs": [],
   "source": [
    "# Problem : To find first negative number in every window size K \n",
    "\n",
    "1. To approach this kind of problem , I will require four things , i=0 , j=0 , an empty list to store all the negative values \n",
    "    of the array list1=[] , an empty vector which will store the first negative number from every window \n",
    "2. while j<len(arr):\n",
    "    Since the loop should iterate until the end of the array\n",
    "3. Append all the negative elements in the array into the empty list.SO list1 will have all the negative elements contained\n",
    "    in the array. \n",
    "    if arr[j]<0:\n",
    "        list1.append(arr[j])\n",
    "4. To check if the window size matches to K (the specified window size):\n",
    "    if j-i+1<k:\n",
    "        j+=1   \n",
    "        Increment j by 1 until the window size does not match with k\n",
    "    elif j-i+1==k:  If window size matches k \n",
    "        Task 1: Check if List1 is empty or Not . If not Empty Find the first negative number of window size k from the list1. It will be the First element in list1. Store it in the empty Vector . Else append 0 in V.\n",
    "        if List1:\n",
    "            V.append(list1[0])\n",
    "        else:\n",
    "            v.append(0)\n",
    "        Task 2: Delete the previous element calculation before shifting the window .So here if the ith array element matches with the 0th element in the list1, then pop that element from list1.\n",
    "            if arr[i] == list1[0]:\n",
    "                list1.pop(0)\n",
    "        Task 3: Slide the Window forward by incrementing i and j by 1\n",
    "                i+=1\n",
    "                j+=1        "
   ]
  },
  {
   "cell_type": "code",
   "execution_count": 1,
   "id": "bf6a5653",
   "metadata": {},
   "outputs": [
    {
     "name": "stdout",
     "output_type": "stream",
     "text": [
      "[-1, -3, -3, -4]\n",
      "[0, 0, 0, 0]\n"
     ]
    }
   ],
   "source": [
    "def slide_Negative(arr,k):\n",
    "    i=0\n",
    "    j=0\n",
    "    list1=[]\n",
    "    v=[]\n",
    "    while j<len(arr):\n",
    "        if arr[j]<0:\n",
    "            list1.append(arr[j])\n",
    "        if j-i+1<k:\n",
    "            j+=1\n",
    "        elif j-i+1==k:\n",
    "            # Find the first negative element of a window\n",
    "            if list1:\n",
    "                v.append(list1[0])\n",
    "            else:\n",
    "                v.append(0)  # No negative in the window\n",
    "                \n",
    "            # pop the previous ith element before sliding the window\n",
    "            if list1 and arr[i]==list1[0]:\n",
    "                list1.pop(0)\n",
    "            # Sliding the window \n",
    "            i+=1\n",
    "            j+=1\n",
    "    return v\n",
    "    \n",
    "print(slide_Negative([-1, 2, -3, -4, 5, -6], 3))  # Expected Output: [-3, -3, -4, -6]\n",
    "print(slide_Negative([1, 2, 3, 4, 5, 6], 3))     # Expected Output: [0, 0, 0, 0]\n",
    "\n",
    "\n",
    "\n",
    "def Neg(arr,k):\n",
    "    list1=[]\n",
    "    v=[]\n",
    "    for i in range(len(arr)-k+1):\n",
    "        list1.append(arr[i])\n",
    "        for j in range(i,k+1):\n",
    "            v.append(list1[0])\n",
    "            if arr[i] and list1==list[0]:\n",
    "                list1.pop(0)\n",
    "    return v \n",
    "        "
   ]
  },
  {
   "cell_type": "code",
   "execution_count": null,
   "id": "3ae7c4f2",
   "metadata": {},
   "outputs": [],
   "source": []
  }
 ],
 "metadata": {
  "kernelspec": {
   "display_name": "Python 3 (ipykernel)",
   "language": "python",
   "name": "python3"
  },
  "language_info": {
   "codemirror_mode": {
    "name": "ipython",
    "version": 3
   },
   "file_extension": ".py",
   "mimetype": "text/x-python",
   "name": "python",
   "nbconvert_exporter": "python",
   "pygments_lexer": "ipython3",
   "version": "3.9.13"
  }
 },
 "nbformat": 4,
 "nbformat_minor": 5
}
